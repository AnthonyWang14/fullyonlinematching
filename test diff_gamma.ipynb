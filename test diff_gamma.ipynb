{
 "cells": [
  {
   "cell_type": "code",
   "execution_count": 1,
   "metadata": {},
   "outputs": [],
   "source": [
    "from eval import *\n",
    "# 5 instances"
   ]
  },
  {
   "cell_type": "code",
   "execution_count": 2,
   "metadata": {},
   "outputs": [],
   "source": [
    "np.random.seed(0)"
   ]
  },
  {
   "cell_type": "code",
   "execution_count": 3,
   "metadata": {},
   "outputs": [
    {
     "name": "stdout",
     "output_type": "stream",
     "text": [
      "test different gamma\n",
      "density 0.2 type_number 10 dist_type sin dist_hyperpara 10 gamma 1 testnum 1 save 0 algo_list ['OFF', 'SAM', 'SAMC', 'GRD', 'BAT']\n",
      "mean_quit_time [np.int64(4), np.int64(14), np.int64(13), np.int64(6), np.int64(25), np.int64(14), np.int64(12), np.int64(13), np.int64(17), np.int64(8)]\n",
      "max quit time 25\n",
      "num_prob_larger_than_half 4\n",
      "reward_list [0.0, 539.2454812885039, 641.6330173045495, 806.1869670733944, 863.2118948237554, 898.5872537609351, 961.598270431242, 993.1238752099785, 1017.2292308964446, 1024.7969623910838, 1046.503116161875, 1060.0402309555473, 1063.8923995578125, 1077.505636563531, 1086.1844066378828, 1059.4770623119891, 1015.6511073301411, 1011.8664790280385, 937.8109327514657, 952.8838083209323, 872.5627200386934, 857.6871819273957, 850.1979360966606, 779.8251465969907, 749.2864446950925]\n",
      "best batch size 15\n",
      "max_reward 1086.1844066378828\n",
      "OFF 1239.705001654997 1.0\n",
      "SAM 711.6378003477258 0.5740380166230633\n",
      "SAMC 1021.788489457706 0.8242190586418752\n",
      "GRD 1174.264962132905 0.9472132165033376\n",
      "BAT 1086.1844066378828 0.8761636076226479\n",
      "{'OFF': np.float64(0.0), 'SAM': np.float64(0.0), 'SAMC': np.float64(0.0), 'GRD': np.float64(0.0), 'BAT': np.float64(0.0)}\n",
      "density 0.2 type_number 10 dist_type sin dist_hyperpara 10 gamma 2 testnum 1 save 0 algo_list ['OFF', 'SAM', 'SAMC', 'GRD', 'BAT']\n",
      "mean_quit_time [np.int64(4), np.int64(14), np.int64(13), np.int64(6), np.int64(25), np.int64(14), np.int64(12), np.int64(13), np.int64(17), np.int64(8)]\n",
      "max quit time 25\n",
      "num_prob_larger_than_half 4\n",
      "reward_list [0.0, 539.2454812885039, 641.6330173045495, 806.1869670733944, 863.2118948237554, 898.5872537609351, 961.598270431242, 993.1238752099785, 1017.2292308964446, 1024.7969623910838, 1046.503116161875, 1060.0402309555473, 1063.8923995578125, 1077.505636563531, 1086.1844066378828, 1059.4770623119891, 1015.6511073301411, 1011.8664790280385, 937.8109327514657, 952.8838083209323, 872.5627200386934, 857.6871819273957, 850.1979360966606, 779.8251465969907, 749.2864446950925]\n",
      "best batch size 15\n",
      "max_reward 1086.1844066378828\n",
      "OFF 1239.705001654997 1.0\n",
      "SAM 998.6407401760694 0.8055470767988282\n",
      "SAMC 1068.9742685844408 0.8622811613709456\n",
      "GRD 1174.264962132905 0.9472132165033376\n",
      "BAT 1086.1844066378828 0.8761636076226479\n",
      "{'OFF': np.float64(0.0), 'SAM': np.float64(0.0), 'SAMC': np.float64(0.0), 'GRD': np.float64(0.0), 'BAT': np.float64(0.0)}\n",
      "save to file result/gamma_sinsyn\n"
     ]
    }
   ],
   "source": [
    "diff_gamma(dist_type = 'sin', dist_hyperpara = 10, density = 0.2, type_number=10, gamma_list = [1,2,3], input_file=None)"
   ]
  },
  {
   "cell_type": "code",
   "execution_count": null,
   "metadata": {},
   "outputs": [],
   "source": [
    "diff_gamma(dist_type = 'geo', dist_hyperpara = 5, density = 1, type_number=5, gamma_list = [1], input_file=None)"
   ]
  },
  {
   "cell_type": "code",
   "execution_count": null,
   "metadata": {},
   "outputs": [],
   "source": [
    "diff_gamma(dist_type = 'sin', dist_hyperpara = 20, density = 0.5, type_number= 5, gamma_list = [1], input_file=None)"
   ]
  },
  {
   "cell_type": "code",
   "execution_count": null,
   "metadata": {},
   "outputs": [],
   "source": [
    "diff_gamma(dist_type = 'sin', dist_hyperpara = 50, density = 0.5, type_number= 100, gamma_list = [1,2], input_file=None)"
   ]
  },
  {
   "cell_type": "code",
   "execution_count": null,
   "metadata": {},
   "outputs": [],
   "source": [
    "diff_gamma(dist_type = 'fix_single', dist_hyperpara = 50, density = 0.5, type_number= 100, gamma_list = [1, 2, 3, 4, 5, 6, 7, 8, 9, 10], input_file=None)"
   ]
  },
  {
   "cell_type": "code",
   "execution_count": null,
   "metadata": {},
   "outputs": [],
   "source": [
    "diff_gamma(dist_type = 'single', dist_hyperpara = 30, density = 0.3, type_number= 30, gamma_list = [1], input_file=None)"
   ]
  },
  {
   "cell_type": "code",
   "execution_count": null,
   "metadata": {},
   "outputs": [],
   "source": [
    "diff_gamma(dist_type = 'single', dist_hyperpara = 30, density = 0.5, type_number= 50, gamma_list = [1], input_file=None)"
   ]
  },
  {
   "cell_type": "code",
   "execution_count": null,
   "metadata": {},
   "outputs": [],
   "source": [
    "diff_gamma(dist_type = 'single', dist_hyperpara = 30, density = 0.5, type_number= 100, gamma_list = [1], input_file=None)"
   ]
  },
  {
   "cell_type": "code",
   "execution_count": null,
   "metadata": {},
   "outputs": [],
   "source": [
    "diff_gamma(dist_type = 'single', dist_hyperpara = 50, density = 0.5, type_number= 100, gamma_list = [1], input_file=None)"
   ]
  },
  {
   "cell_type": "code",
   "execution_count": null,
   "metadata": {},
   "outputs": [],
   "source": [
    "diff_gamma(dist_type = 'poisson', dist_hyperpara = 50, density = 0.5, type_number= 100, gamma_list = [1], input_file=None)"
   ]
  },
  {
   "cell_type": "code",
   "execution_count": null,
   "metadata": {},
   "outputs": [],
   "source": [
    "diff_gamma(dist_type = 'poisson', dist_hyperpara = 50, density = 1, type_number= 100, gamma_list = [1], input_file=None)"
   ]
  },
  {
   "cell_type": "code",
   "execution_count": null,
   "metadata": {},
   "outputs": [],
   "source": [
    "diff_gamma(dist_type = 'geometric', dist_hyperpara = 0.02, density = 1, type_number= 100, gamma_list = [1, 2, 3, 4, 5], input_file=None)"
   ]
  },
  {
   "cell_type": "code",
   "execution_count": null,
   "metadata": {},
   "outputs": [],
   "source": [
    "diff_gamma(dist_type = 'geo', dist_hyperpara = 20, density = 0.5, type_number= 20, gamma_list = [1, 2, 3, 4, 5], input_file=None)"
   ]
  },
  {
   "cell_type": "code",
   "execution_count": null,
   "metadata": {},
   "outputs": [],
   "source": [
    "diff_gamma(dist_type = 'geo', dist_hyperpara = 10, density = 0.5, type_number= 50, gamma_list = [1, 2, 3, 4, 5,6, 7, 8, 9, 10], input_file=None)"
   ]
  },
  {
   "cell_type": "code",
   "execution_count": null,
   "metadata": {},
   "outputs": [],
   "source": [
    "para_list = [10, 20, 30, 40, 50, 60, 70, 80]\n",
    "for i in range(len(para_list)):\n",
    "    diff_gamma(dist_type = 'geo', dist_hyperpara = para_list[i], density = 0.5, type_number= 50, gamma_list = [1, 2, 3, 4, 5,6, 7, 8, 9, 10], input_file=None)\n",
    "    diff_gamma(dist_type = 'single', dist_hyperpara = para_list[i], density = 0.5, type_number= 50, gamma_list = [1, 2, 3, 4, 5,6, 7, 8, 9, 10], input_file=None)    \n",
    "    diff_gamma(dist_type = 'poisson', dist_hyperpara = para_list[i], density = 0.5, type_number= 50, gamma_list = [1, 2, 3, 4, 5,6, 7, 8, 9, 10], input_file=None)"
   ]
  },
  {
   "cell_type": "code",
   "execution_count": null,
   "metadata": {},
   "outputs": [],
   "source": [
    "geo_list = [0.1, 0.3, 0.5, 0.7, 0.9]\n",
    "sin_list = [10, 15, 20, 25, 30]"
   ]
  },
  {
   "cell_type": "code",
   "execution_count": null,
   "metadata": {},
   "outputs": [],
   "source": []
  },
  {
   "cell_type": "code",
   "execution_count": null,
   "metadata": {},
   "outputs": [],
   "source": [
    "# L = 10, del = 2, A = 1\n",
    "for i in range(len(geo_list)):\n",
    "    diff_gamma(dist_type='geometric', dist_hyperpara=geo_list[i], input_file='nyc_10_2_341')\n",
    "    diff_gamma(dist_type='single', dist_hyperpara=sin_list[i], input_file='nyc_10_2_341')\n",
    "    diff_gamma(dist_type='poisson', dist_hyperpara=sin_list[i], input_file='nyc_10_2_341')"
   ]
  },
  {
   "cell_type": "code",
   "execution_count": null,
   "metadata": {},
   "outputs": [],
   "source": [
    "# L = 20, del = 2, A = 1\n",
    "for i in range(len(geo_list)):\n",
    "    diff_gamma(dist_type='geometric', dist_hyperpara=geo_list[i], input_file='nyc_20_2_394')\n",
    "    diff_gamma(dist_type='single', dist_hyperpara=sin_list[i], input_file='nyc_20_2_394')\n",
    "    diff_gamma(dist_type='poisson', dist_hyperpara=sin_list[i], input_file='nyc_20_2_394')"
   ]
  },
  {
   "cell_type": "code",
   "execution_count": null,
   "metadata": {},
   "outputs": [],
   "source": [
    "# L = 10, del = 2, A = 3\n",
    "for i in range(len(geo_list)):\n",
    "    diff_gamma(dist_type='geometric', dist_hyperpara=geo_list[i], input_file='nyc_10_2_341_3')\n",
    "    diff_gamma(dist_type='single', dist_hyperpara=sin_list[i], input_file='nyc_10_2_341_3')\n",
    "    diff_gamma(dist_type='poisson', dist_hyperpara=sin_list[i], input_file='nyc_10_2_341_3')"
   ]
  },
  {
   "cell_type": "code",
   "execution_count": null,
   "metadata": {},
   "outputs": [],
   "source": [
    "# L = 20, del = 2, A = 3\n",
    "for i in range(len(geo_list)):\n",
    "    diff_gamma(dist_type='geometric', dist_hyperpara=geo_list[i], input_file='nyc_20_2_394_3')\n",
    "    diff_gamma(dist_type='single', dist_hyperpara=sin_list[i], input_file='nyc_20_2_394_3')\n",
    "    diff_gamma(dist_type='poisson', dist_hyperpara=sin_list[i], input_file='nyc_20_2_394_3')"
   ]
  },
  {
   "cell_type": "code",
   "execution_count": null,
   "metadata": {},
   "outputs": [],
   "source": [
    "geo_list = [0.1, 0.3, 0.5, 0.7, 0.9]\n",
    "sin_list = [10, 15, 20, 25, 30]\n",
    "for i in range(len(geo_list)):\n",
    "    diff_gamma(dist_type='geometric', dist_hyperpara=geo_list[i], input_file='nyc_10_5_341')\n",
    "    diff_gamma(dist_type='single', dist_hyperpara=sin_list[i], input_file='nyc_10_5_341')\n",
    "    diff_gamma(dist_type='poisson', dist_hyperpara=sin_list[i], input_file='nyc_10_5_341')"
   ]
  },
  {
   "cell_type": "code",
   "execution_count": null,
   "metadata": {},
   "outputs": [],
   "source": [
    "geo_list = [0.1, 0.3, 0.5, 0.7, 0.9]\n",
    "sin_list = [10, 15, 20, 25, 30]\n",
    "for i in range(len(geo_list)):\n",
    "    diff_gamma(dist_type='geometric', dist_hyperpara=geo_list[i], input_file='nyc_20_2_511')\n",
    "    diff_gamma(dist_type='single', dist_hyperpara=sin_list[i], input_file='nyc_20_2_511')\n",
    "    diff_gamma(dist_type='poisson', dist_hyperpara=sin_list[i], input_file='nyc_20_2_511')"
   ]
  },
  {
   "cell_type": "code",
   "execution_count": null,
   "metadata": {},
   "outputs": [],
   "source": [
    "geo_list = [0.1, 0.3, 0.5, 0.7, 0.9]\n",
    "sin_list = [10, 15, 20, 25, 30]\n",
    "for i in range(len(geo_list)):\n",
    "    diff_gamma(dist_type='geometric', dist_hyperpara=geo_list[i], input_file='nyc_20_5_511')\n",
    "    diff_gamma(dist_type='single', dist_hyperpara=sin_list[i], input_file='nyc_20_5_511')\n",
    "    diff_gamma(dist_type='poisson', dist_hyperpara=sin_list[i], input_file='nyc_20_5_511')"
   ]
  },
  {
   "cell_type": "code",
   "execution_count": null,
   "metadata": {},
   "outputs": [],
   "source": [
    "diff_gamma(dist_type='poisson', dist_hyperpara=35, input_file=None)"
   ]
  },
  {
   "cell_type": "code",
   "execution_count": null,
   "metadata": {},
   "outputs": [],
   "source": [
    "# density 5, p_min = 0.9\n",
    "diff_gamma(dist_type='geometric', dist_hyperpara=0.1, input_file=None)\n",
    "diff_gamma(dist_type='single', dist_hyperpara=5, input_file=None)\n",
    "diff_gamma(dist_type='poisson', dist_hyperpara=5, input_file=None)"
   ]
  },
  {
   "cell_type": "code",
   "execution_count": null,
   "metadata": {},
   "outputs": [],
   "source": [
    "# density 5, p_min = 0.9\n",
    "diff_gamma(dist_type='geometric', dist_hyperpara=0.5, input_file=None)\n",
    "diff_gamma(dist_type='single', dist_hyperpara=20, input_file=None)\n",
    "diff_gamma(dist_type='poisson', dist_hyperpara=20, input_file=None)"
   ]
  },
  {
   "cell_type": "code",
   "execution_count": null,
   "metadata": {},
   "outputs": [],
   "source": [
    "# density 5, p_min = 0.9\n",
    "diff_gamma(dist_type='geometric', dist_hyperpara=0.9, input_file=None)\n",
    "diff_gamma(dist_type='single', dist_hyperpara=35, input_file=None)\n",
    "diff_gamma(dist_type='poisson', dist_hyperpara=35, input_file=None)"
   ]
  },
  {
   "cell_type": "code",
   "execution_count": null,
   "metadata": {},
   "outputs": [],
   "source": [
    "# density = 5, p_min=0\n",
    "diff_gamma(dist_type='single', dist_hyperpara=35, input_file=None)\n",
    "diff_gamma(dist_type='poisson', dist_hyperpara=35, input_file=None)"
   ]
  },
  {
   "cell_type": "code",
   "execution_count": null,
   "metadata": {},
   "outputs": [],
   "source": [
    "# density 5, p_min = 0.0\n",
    "diff_gamma(dist_type='geometric', dist_hyperpara=0.1, input_file=None)\n",
    "diff_gamma(dist_type='single', dist_hyperpara=5, input_file=None)\n",
    "diff_gamma(dist_type='poisson', dist_hyperpara=5, input_file=None)"
   ]
  },
  {
   "cell_type": "code",
   "execution_count": null,
   "metadata": {},
   "outputs": [],
   "source": [
    "# density 5, p_min = 0.0\n",
    "diff_gamma(dist_type='geometric', dist_hyperpara=0.5, input_file=None)\n",
    "diff_gamma(dist_type='single', dist_hyperpara=20, input_file=None)\n",
    "diff_gamma(dist_type='poisson', dist_hyperpara=20, input_file=None)"
   ]
  },
  {
   "cell_type": "code",
   "execution_count": null,
   "metadata": {},
   "outputs": [],
   "source": [
    "# density 5, p_min = 0.0\n",
    "diff_gamma(dist_type='geometric', dist_hyperpara=0.9, input_file=None)\n",
    "diff_gamma(dist_type='single', dist_hyperpara=35, input_file=None)\n",
    "diff_gamma(dist_type='poisson', dist_hyperpara=35, input_file=None)"
   ]
  },
  {
   "cell_type": "code",
   "execution_count": null,
   "metadata": {},
   "outputs": [],
   "source": [
    "# density 2.5, p_min = 0.9\n",
    "diff_gamma(dist_type='geometric', dist_hyperpara=0.1, input_file=None)\n",
    "diff_gamma(dist_type='single', dist_hyperpara=5, input_file=None)\n",
    "diff_gamma(dist_type='poisson', dist_hyperpara=5, input_file=None)"
   ]
  },
  {
   "cell_type": "code",
   "execution_count": null,
   "metadata": {},
   "outputs": [],
   "source": []
  },
  {
   "cell_type": "code",
   "execution_count": null,
   "metadata": {},
   "outputs": [],
   "source": [
    "# density 2.5, p_min = 0.9\n",
    "diff_gamma(dist_type='geometric', dist_hyperpara=0.5, input_file=None)\n",
    "diff_gamma(dist_type='single', dist_hyperpara=20, input_file=None)\n",
    "diff_gamma(dist_type='poisson', dist_hyperpara=20, input_file=None)"
   ]
  },
  {
   "cell_type": "code",
   "execution_count": null,
   "metadata": {},
   "outputs": [],
   "source": [
    "# density 2.5, p_min = 0.9\n",
    "diff_gamma(dist_type='geometric', dist_hyperpara=0.9, input_file=None)\n",
    "diff_gamma(dist_type='single', dist_hyperpara=35, input_file=None)\n",
    "diff_gamma(dist_type='poisson', dist_hyperpara=35, input_file=None)"
   ]
  },
  {
   "cell_type": "code",
   "execution_count": null,
   "metadata": {},
   "outputs": [],
   "source": [
    "# density = 2.5, p_min=0\n",
    "diff_gamma(dist_type='geometric', dist_hyperpara=0.5, input_file=None)\n",
    "diff_gamma(dist_type='single', dist_hyperpara=20, input_file=None)\n",
    "diff_gamma(dist_type='poisson', dist_hyperpara=20, input_file=None)"
   ]
  },
  {
   "cell_type": "code",
   "execution_count": null,
   "metadata": {},
   "outputs": [],
   "source": [
    "# density = 2.5, p_min=0\n",
    "diff_gamma(dist_type='geometric', dist_hyperpara=0.9, input_file=None)\n",
    "diff_gamma(dist_type='single', dist_hyperpara=35, input_file=None)\n",
    "diff_gamma(dist_type='poisson', dist_hyperpara=35, input_file=None)"
   ]
  },
  {
   "cell_type": "code",
   "execution_count": null,
   "metadata": {},
   "outputs": [],
   "source": [
    "# density = 2.5, p_min=0\n",
    "# diff_gamma(dist_type='geometric', dist_hyperpara=0.9, input_file=None)\n",
    "diff_gamma(dist_type='single', dist_hyperpara=5, input_file=None)\n",
    "diff_gamma(dist_type='poisson', dist_hyperpara=5, input_file=None)"
   ]
  },
  {
   "cell_type": "code",
   "execution_count": null,
   "metadata": {},
   "outputs": [],
   "source": [
    "diff_gamma(dist_type='single', dist_hyperpara=20, input_file=None)"
   ]
  },
  {
   "cell_type": "code",
   "execution_count": null,
   "metadata": {},
   "outputs": [],
   "source": [
    "diff_gamma(dist_type='poisson', dist_hyperpara=20, input_file=None)"
   ]
  },
  {
   "cell_type": "code",
   "execution_count": null,
   "metadata": {},
   "outputs": [],
   "source": [
    "diff_gamma(dist_type='geometric', dist_hyperpara=0.5, input_file='nyc_20_2_511')\n",
    "diff_gamma(dist_type='single', dist_hyperpara=20, input_file='nyc_20_2_511')\n",
    "diff_gamma(dist_type='poisson', dist_hyperpara=20, input_file='nyc_20_2_511')"
   ]
  },
  {
   "cell_type": "code",
   "execution_count": null,
   "metadata": {},
   "outputs": [],
   "source": []
  }
 ],
 "metadata": {
  "kernelspec": {
   "display_name": "Python 3",
   "language": "python",
   "name": "python3"
  },
  "language_info": {
   "codemirror_mode": {
    "name": "ipython",
    "version": 3
   },
   "file_extension": ".py",
   "mimetype": "text/x-python",
   "name": "python",
   "nbconvert_exporter": "python",
   "pygments_lexer": "ipython3",
   "version": "3.9.6"
  }
 },
 "nbformat": 4,
 "nbformat_minor": 2
}
