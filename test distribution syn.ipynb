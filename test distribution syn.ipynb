{
 "cells": [
  {
   "cell_type": "code",
   "execution_count": 1,
   "metadata": {},
   "outputs": [],
   "source": [
    "# for testing the distribution for the synthetic dataset.\n",
    "from eval import *"
   ]
  },
  {
   "cell_type": "code",
   "execution_count": 2,
   "metadata": {},
   "outputs": [],
   "source": [
    "np.random.seed(1)"
   ]
  },
  {
   "cell_type": "code",
   "execution_count": 3,
   "metadata": {},
   "outputs": [
    {
     "name": "stdout",
     "output_type": "stream",
     "text": [
      "density 1 type_number 20 dist_type uniform dist_hyperpara 2 gamma 1 testnum 3 save 0 algo_list ['OFF', 'RCP', 'GRD', 'BAT', 'SAM1', 'COL1']\n",
      "max quit time 4\n",
      "max quit time 4\n",
      "max quit time 4\n",
      "max_bsize 4\n",
      "max_bsize 4\n",
      "optimal batch size 3\n",
      "OFF 1973.2416828223675 1.0\n",
      "RCP 509.92295838003673 0.25841890672544665\n",
      "GRD 1386.9274570208347 0.7028675043176081\n",
      "BAT 1045.2827739789373 0.5297287114287228\n",
      "SAM1 1549.8036145193057 0.7854099312875806\n",
      "COL1 1547.8255176827527 0.784407470791346\n",
      "{'OFF': np.float64(0.0), 'RCP': np.float64(0.030039432646588), 'GRD': np.float64(0.008624228401403805), 'BAT': np.float64(0.029553186573162544), 'SAM1': np.float64(0.013784801981365565), 'COL1': np.float64(0.020889412856460912)}\n",
      "max quit time 4\n",
      "max quit time 4\n",
      "max quit time 4\n",
      "max_bsize 4\n",
      "max_bsize 4\n",
      "optimal batch size 3\n",
      "OFF 1920.300581319764 1.0\n",
      "RCP 464.4363305584073 0.24185605892969858\n",
      "GRD 1294.5840256739182 0.6741569722299361\n",
      "BAT 1081.3803946013247 0.5631307958351629\n",
      "SAM1 1480.097147329859 0.7707632657761491\n",
      "COL1 1480.9452508965958 0.7712049172420639\n",
      "{'OFF': np.float64(0.0), 'RCP': np.float64(0.01303737912148987), 'GRD': np.float64(0.011166372005560784), 'BAT': np.float64(0.014978485782798532), 'SAM1': np.float64(0.014411614312877177), 'COL1': np.float64(0.03562532082650654)}\n",
      "max quit time 4\n",
      "max quit time 4\n",
      "max quit time 4\n",
      "max_bsize 4\n",
      "max_bsize 4\n",
      "optimal batch size 3\n",
      "OFF 1942.8534535734634 1.0\n",
      "RCP 557.8879167933105 0.2871487377327379\n",
      "GRD 1296.7385513790696 0.667440227668225\n",
      "BAT 1082.3342018842031 0.5570848382277526\n",
      "SAM1 1575.1340103893672 0.8107322801378791\n",
      "COL1 1583.863534174349 0.8152254259121658\n",
      "{'OFF': np.float64(0.0), 'RCP': np.float64(0.0236024280090382), 'GRD': np.float64(0.015996457009025414), 'BAT': np.float64(0.031078033268536146), 'SAM1': np.float64(0.026406157947314445), 'COL1': np.float64(0.005882075493159473)}\n",
      "density 1 type_number 20 dist_type uniform dist_hyperpara 4 gamma 1 testnum 3 save 0 algo_list ['OFF', 'RCP', 'GRD', 'BAT', 'SAM1', 'COL1']\n",
      "max quit time 8\n",
      "max quit time 8\n",
      "max quit time 8\n",
      "max_bsize 8\n",
      "max_bsize 8\n",
      "optimal batch size 3\n",
      "OFF 2676.581841567148 1.0\n",
      "RCP 735.1363988090852 0.2746549301771622\n",
      "GRD 1495.8571955166287 0.5588684688381503\n",
      "BAT 1323.2735882707175 0.4943893617300849\n",
      "SAM1 1922.4296504275796 0.7182405636070484\n",
      "COL1 1943.818990026889 0.7262318528204527\n",
      "{'OFF': np.float64(0.0), 'RCP': np.float64(0.007191182391920722), 'GRD': np.float64(0.03532260755114755), 'BAT': np.float64(0.016524498647555282), 'SAM1': np.float64(0.03739398155627885), 'COL1': np.float64(0.03290099998638038)}\n",
      "max quit time 8\n",
      "max quit time 8\n",
      "max quit time 8\n",
      "max_bsize 8\n",
      "max_bsize 8\n",
      "optimal batch size 3\n",
      "OFF 2602.3572544860513 1.0\n",
      "RCP 705.662973184275 0.2711629896194398\n",
      "GRD 1588.4733673085682 0.6103978862126989\n",
      "BAT 1357.2537019324832 0.5215478004001153\n",
      "SAM1 1893.9422666066305 0.7277795019656791\n",
      "COL1 1876.7951688935254 0.7211904382683154\n",
      "{'OFF': np.float64(0.0), 'RCP': np.float64(0.020181668789635163), 'GRD': np.float64(0.020993685796479186), 'BAT': np.float64(0.014709310841676993), 'SAM1': np.float64(0.023621781646302548), 'COL1': np.float64(0.018026938035412693)}\n",
      "max quit time 8\n",
      "max quit time 8\n",
      "max quit time 8\n",
      "max_bsize 8\n",
      "max_bsize 8\n",
      "optimal batch size 3\n",
      "OFF 2725.5236190853525 1.0\n",
      "RCP 811.1748722602348 0.2976216630742146\n",
      "GRD 1517.997574538126 0.5569563088385727\n",
      "BAT 1311.2127405305198 0.48108654474641627\n",
      "SAM1 1932.3300671851503 0.7089757188872254\n",
      "COL1 1973.930906161809 0.724239148888474\n",
      "{'OFF': np.float64(0.0), 'RCP': np.float64(0.023117429332030055), 'GRD': np.float64(0.008335100400702377), 'BAT': np.float64(0.003933657934763422), 'SAM1': np.float64(0.03108748368801605), 'COL1': np.float64(0.025712631192309744)}\n",
      "density 1 type_number 20 dist_type uniform dist_hyperpara 6 gamma 1 testnum 3 save 0 algo_list ['OFF', 'RCP', 'GRD', 'BAT', 'SAM1', 'COL1']\n",
      "max quit time 12\n",
      "max quit time 12\n",
      "max quit time 12\n",
      "max_bsize 12\n",
      "max_bsize 12\n",
      "optimal batch size 3\n",
      "OFF 3099.658780947546 1.0\n",
      "RCP 846.3575601886713 0.27304862244545036\n",
      "GRD 1610.9722060662032 0.5197256601172531\n",
      "BAT 1462.1606245085004 0.4717166397462392\n",
      "SAM1 2239.2253985388024 0.7224102899010986\n",
      "COL1 2220.821117924513 0.7164727716402456\n",
      "{'OFF': np.float64(0.0), 'RCP': np.float64(0.02086187836056861), 'GRD': np.float64(0.011010486816316294), 'BAT': np.float64(0.03471598780132364), 'SAM1': np.float64(0.0028968002766914793), 'COL1': np.float64(0.02107434426122262)}\n",
      "max quit time 12\n",
      "max quit time 12\n",
      "max quit time 12\n",
      "max_bsize 12\n",
      "max_bsize 12\n",
      "optimal batch size 3\n",
      "OFF 3068.3955098270394 1.0\n",
      "RCP 945.3297940910946 0.3080860309772717\n",
      "GRD 1516.6757483412784 0.4942895215052544\n",
      "BAT 1373.6128726792633 0.44766486858686994\n",
      "SAM1 2115.211874436864 0.6893543767948269\n",
      "COL1 2072.888109715233 0.6755609252707055\n",
      "{'OFF': np.float64(0.0), 'RCP': np.float64(0.03068374897522758), 'GRD': np.float64(0.036021549882981736), 'BAT': np.float64(0.02102155181378701), 'SAM1': np.float64(0.05178923226054491), 'COL1': np.float64(0.050175367582354684)}\n",
      "max quit time 12\n",
      "max quit time 12\n",
      "max quit time 12\n",
      "max_bsize 12\n",
      "max_bsize 12\n",
      "optimal batch size 4\n",
      "OFF 3145.2841083062194 1.0\n",
      "RCP 932.3051607445658 0.2964136556956775\n",
      "GRD 1654.257922396824 0.5259486473823395\n",
      "BAT 1464.476746513619 0.4656103220202453\n",
      "SAM1 2218.236169104128 0.70525780588345\n",
      "COL1 2231.7306980837407 0.7095482065324648\n",
      "{'OFF': np.float64(0.0), 'RCP': np.float64(0.0313059903012507), 'GRD': np.float64(0.010307717026238741), 'BAT': np.float64(0.016689965280314207), 'SAM1': np.float64(0.013558535246239706), 'COL1': np.float64(0.012908727205713483)}\n",
      "density 1 type_number 20 dist_type uniform dist_hyperpara 8 gamma 1 testnum 3 save 0 algo_list ['OFF', 'RCP', 'GRD', 'BAT', 'SAM1', 'COL1']\n",
      "max quit time 12\n",
      "max quit time 12\n",
      "max quit time 12\n",
      "max_bsize 12\n",
      "max_bsize 12\n",
      "optimal batch size 5\n",
      "OFF 2893.822414394696 1.0\n",
      "RCP 800.8093465714295 0.27673064614745396\n",
      "GRD 1480.5698830160943 0.5116312167779608\n",
      "BAT 1392.27743059312 0.481120549646563\n",
      "SAM1 1939.4779459666195 0.6702131880377677\n",
      "COL1 1907.5574393012946 0.6591826194353051\n",
      "{'OFF': np.float64(0.0), 'RCP': np.float64(0.04824893568986941), 'GRD': np.float64(0.01904236655469736), 'BAT': np.float64(0.008345104435360653), 'SAM1': np.float64(0.018295406093674464), 'COL1': np.float64(0.022416776116780036)}\n",
      "max quit time 12\n",
      "max quit time 12\n",
      "max quit time 12\n",
      "max_bsize 12\n",
      "max_bsize 12\n",
      "optimal batch size 3\n",
      "OFF 2934.8473613678693 1.0\n",
      "RCP 822.2331381175877 0.280162147081599\n",
      "GRD 1475.7604420160194 0.5028406115567793\n",
      "BAT 1413.1461473523893 0.4815058411398105\n",
      "SAM1 1968.6051752934716 0.6707691858890906\n",
      "COL1 1950.0741444543219 0.6644550480286082\n",
      "{'OFF': np.float64(0.0), 'RCP': np.float64(0.00536917681868418), 'GRD': np.float64(0.033573331249078145), 'BAT': np.float64(0.004978396041511486), 'SAM1': np.float64(0.03451252586504504), 'COL1': np.float64(0.028760659941810547)}\n",
      "max quit time 12\n",
      "max quit time 12\n",
      "max quit time 12\n",
      "max_bsize 12\n",
      "max_bsize 12\n",
      "optimal batch size 4\n",
      "OFF 3055.9072057787794 1.0\n",
      "RCP 946.5013616233941 0.30972843672528466\n",
      "GRD 1505.618419641698 0.49269114480784776\n",
      "BAT 1457.7601871879735 0.477030252892274\n",
      "SAM1 2052.207823992199 0.671554365299913\n",
      "COL1 1976.563277032308 0.6468008168882186\n",
      "{'OFF': np.float64(0.0), 'RCP': np.float64(0.03456480600129502), 'GRD': np.float64(0.011858616722855422), 'BAT': np.float64(0.013361066638837066), 'SAM1': np.float64(0.03363439079200559), 'COL1': np.float64(0.011463946459115538)}\n",
      "density 1 type_number 20 dist_type uniform dist_hyperpara 10 gamma 1 testnum 3 save 0 algo_list ['OFF', 'RCP', 'GRD', 'BAT', 'SAM1', 'COL1']\n",
      "max quit time 18\n",
      "max quit time 17\n",
      "max quit time 18\n",
      "max_bsize 18\n",
      "max_bsize 18\n",
      "optimal batch size 4\n",
      "OFF 3158.997994808157 1.0\n",
      "RCP 661.4844457783214 0.20939691853729486\n",
      "GRD 1555.2137128282877 0.49231234568185744\n",
      "BAT 1444.3607997013105 0.4572211828165549\n",
      "SAM1 2236.3462742578145 0.7079289945524723\n",
      "COL1 2233.752152871357 0.7071078096733678\n",
      "{'OFF': np.float64(0.0), 'RCP': np.float64(0.009597797126648962), 'GRD': np.float64(0.007356972634208737), 'BAT': np.float64(0.022982504361118043), 'SAM1': np.float64(0.02492221555814485), 'COL1': np.float64(0.01987172966307115)}\n",
      "max quit time 18\n",
      "max quit time 18\n",
      "max quit time 18\n",
      "max_bsize 18\n",
      "max_bsize 18\n",
      "optimal batch size 3\n",
      "OFF 3244.8462019299027 1.0\n",
      "RCP 717.6928173592852 0.22117930179015285\n",
      "GRD 1604.636473056776 0.4945184989360677\n",
      "BAT 1442.1523788769402 0.44444398567155713\n",
      "SAM1 2291.9301208921256 0.7063293537699811\n",
      "COL1 2252.18335129731 0.6940801539246461\n",
      "{'OFF': np.float64(0.0), 'RCP': np.float64(0.005865356869745193), 'GRD': np.float64(0.03385401135372089), 'BAT': np.float64(0.009375889253183417), 'SAM1': np.float64(0.009847853430059063), 'COL1': np.float64(0.02177407033724192)}\n",
      "max quit time 18\n",
      "max quit time 18\n",
      "max quit time 18\n",
      "max_bsize 18\n",
      "max_bsize 18\n",
      "optimal batch size 4\n",
      "OFF 3174.5174354917253 1.0\n",
      "RCP 656.6006478835496 0.20683479024012472\n",
      "GRD 1653.5599392573658 0.5208854488465688\n",
      "BAT 1501.7390274530908 0.4730605699824972\n",
      "SAM1 2160.5042375602347 0.6805772157384852\n",
      "COL1 2126.8310331816915 0.6699698698779553\n",
      "{'OFF': np.float64(0.0), 'RCP': np.float64(0.009231394197428234), 'GRD': np.float64(0.020153551873503275), 'BAT': np.float64(0.01444234005916001), 'SAM1': np.float64(0.01186204510440871), 'COL1': np.float64(0.010032853011901237)}\n",
      "density 1 type_number 20 dist_type uniform dist_hyperpara 12 gamma 1 testnum 3 save 0 algo_list ['OFF', 'RCP', 'GRD', 'BAT', 'SAM1', 'COL1']\n",
      "max quit time 23\n",
      "max quit time 23\n",
      "max quit time 24\n",
      "max_bsize 20\n",
      "max_bsize 20\n",
      "optimal batch size 6\n",
      "OFF 3327.7098324718645 1.0\n",
      "RCP 910.5972428043037 0.27364081865512313\n",
      "GRD 1615.9276426199947 0.4855975202079634\n",
      "BAT 1497.2739089234758 0.4499412461726815\n",
      "SAM1 2292.602714319773 0.6889430959239613\n",
      "COL1 2236.566176941956 0.672103725846976\n",
      "{'OFF': np.float64(0.0), 'RCP': np.float64(0.015991075018758127), 'GRD': np.float64(0.023530857137661256), 'BAT': np.float64(0.012690541738908129), 'SAM1': np.float64(0.043245649634763884), 'COL1': np.float64(0.024394438653999966)}\n",
      "max quit time 24\n",
      "max quit time 23\n",
      "max quit time 24\n",
      "max_bsize 20\n",
      "max_bsize 20\n",
      "optimal batch size 4\n",
      "OFF 3309.888968729098 1.0\n",
      "RCP 1005.498240983421 0.30378609387900507\n",
      "GRD 1575.1531914547766 0.4758930605637778\n",
      "BAT 1589.865410754417 0.4803379889099058\n",
      "SAM1 2197.9545119072122 0.6640568709926132\n",
      "COL1 2176.1502314000572 0.6574692540927245\n",
      "{'OFF': np.float64(0.0), 'RCP': np.float64(0.0438911266293549), 'GRD': np.float64(0.016247765631002997), 'BAT': np.float64(0.03718269837357595), 'SAM1': np.float64(0.006756423491026528), 'COL1': np.float64(0.00631411943027005)}\n",
      "max quit time 24\n",
      "max quit time 24\n",
      "max quit time 22\n",
      "max_bsize 20\n",
      "max_bsize 20\n",
      "optimal batch size 4\n",
      "OFF 3301.9591265345207 1.0\n",
      "RCP 943.9674298843111 0.28588101600004534\n",
      "GRD 1689.6623855408616 0.5117151123897162\n",
      "BAT 1572.811182033246 0.47632666600690066\n",
      "SAM1 2240.561000061178 0.6785550378428508\n",
      "COL1 2199.446751392279 0.666103566733319\n",
      "{'OFF': np.float64(0.0), 'RCP': np.float64(0.02649232282955399), 'GRD': np.float64(0.01708748819526098), 'BAT': np.float64(0.0267237010998287), 'SAM1': np.float64(0.005660068109862156), 'COL1': np.float64(0.014263462824945181)}\n",
      "density 1 type_number 20 dist_type uniform dist_hyperpara 14 gamma 1 testnum 3 save 0 algo_list ['OFF', 'RCP', 'GRD', 'BAT', 'SAM1', 'COL1']\n",
      "max quit time 28\n",
      "max quit time 28\n",
      "max quit time 28\n",
      "max_bsize 20\n",
      "max_bsize 20\n",
      "optimal batch size 5\n",
      "OFF 3726.817040555694 1.0\n",
      "RCP 1167.6102584089494 0.31329959203869334\n",
      "GRD 1712.0737011429399 0.45939301084865114\n",
      "BAT 1835.4234649375683 0.49249089637732635\n",
      "SAM1 2395.3622687381744 0.642736748992918\n",
      "COL1 2289.6024997582967 0.6143587074016655\n",
      "{'OFF': np.float64(0.0), 'RCP': np.float64(0.017029212972327817), 'GRD': np.float64(0.03603916716073438), 'BAT': np.float64(0.018937860181741213), 'SAM1': np.float64(0.027063523755581784), 'COL1': np.float64(0.011453255446516392)}\n",
      "max quit time 28\n",
      "max quit time 28\n",
      "max quit time 28\n",
      "max_bsize 20\n",
      "max_bsize 20\n",
      "optimal batch size 5\n",
      "OFF 3689.0555157689955 1.0\n",
      "RCP 1223.3301252365363 0.3316106575266676\n",
      "GRD 1649.1194920750697 0.44703027238973536\n",
      "BAT 1685.9425901383383 0.4570119866539602\n",
      "SAM1 2430.038074098737 0.6587155069126651\n",
      "COL1 2392.798716260176 0.6486209562399035\n",
      "{'OFF': np.float64(0.0), 'RCP': np.float64(0.013576368793228506), 'GRD': np.float64(0.014353959977914594), 'BAT': np.float64(0.029811516500071793), 'SAM1': np.float64(0.004868450420300553), 'COL1': np.float64(0.02848293400629199)}\n",
      "max quit time 28\n",
      "max quit time 27\n",
      "max quit time 28\n",
      "max_bsize 20\n",
      "max_bsize 20\n",
      "optimal batch size 5\n",
      "OFF 3650.608956324018 1.0\n",
      "RCP 1047.9576971235392 0.28706380487785266\n",
      "GRD 1682.8698526685332 0.46098332437202466\n",
      "BAT 1828.3335789214623 0.5008297521853733\n",
      "SAM1 2274.7584427322304 0.6231175318823519\n",
      "COL1 2290.3728095350684 0.6273947269995634\n",
      "{'OFF': np.float64(0.0), 'RCP': np.float64(0.01330131506287151), 'GRD': np.float64(0.022003347988085117), 'BAT': np.float64(0.02592617694215625), 'SAM1': np.float64(0.0495357570579571), 'COL1': np.float64(0.04112210857433122)}\n",
      "density 1 type_number 20 dist_type uniform dist_hyperpara 16 gamma 1 testnum 3 save 0 algo_list ['OFF', 'RCP', 'GRD', 'BAT', 'SAM1', 'COL1']\n",
      "max quit time 32\n",
      "max quit time 32\n",
      "max quit time 32\n",
      "max_bsize 20\n",
      "max_bsize 20\n",
      "optimal batch size 7\n",
      "OFF 4229.377867735988 1.0\n",
      "RCP 1380.8471704700676 0.3264894302786059\n",
      "GRD 1814.8669794961343 0.4291096790714621\n",
      "BAT 2238.698111338072 0.5293209028249966\n",
      "SAM1 2639.6325033805524 0.6241183894957969\n",
      "COL1 2608.5975834000124 0.6167804497441158\n",
      "{'OFF': np.float64(0.0), 'RCP': np.float64(0.026986236143851837), 'GRD': np.float64(0.020847873557379396), 'BAT': np.float64(0.029654946057516618), 'SAM1': np.float64(0.009827729177292178), 'COL1': np.float64(0.028336408080062075)}\n",
      "max quit time 32\n",
      "max quit time 32\n",
      "max quit time 32\n",
      "max_bsize 20\n",
      "max_bsize 20\n",
      "optimal batch size 5\n",
      "OFF 4205.500986348118 1.0\n",
      "RCP 1473.4716438969488 0.3503676847729027\n",
      "GRD 1704.9105300339504 0.4054001022870818\n",
      "BAT 2215.8462083483905 0.5268923287716404\n",
      "SAM1 2571.1441458830554 0.6113764220314046\n",
      "COL1 2548.1515609868757 0.6059091578526972\n",
      "{'OFF': np.float64(0.0), 'RCP': np.float64(0.0077466617300910225), 'GRD': np.float64(0.02187188203859596), 'BAT': np.float64(0.011143417504610596), 'SAM1': np.float64(0.013223862263767571), 'COL1': np.float64(0.0028097293167818438)}\n",
      "max quit time 32\n",
      "max quit time 32\n",
      "max quit time 32\n",
      "max_bsize 20\n",
      "max_bsize 20\n",
      "optimal batch size 6\n",
      "OFF 4220.558089131903 1.0\n",
      "RCP 1330.1165995669214 0.3151518286152777\n",
      "GRD 1834.0230432025785 0.4345451488809637\n",
      "BAT 2226.765290298786 0.527599725740724\n",
      "SAM1 2646.5657925008527 0.6270653635394475\n",
      "COL1 2480.2112065199362 0.5876500581538195\n",
      "{'OFF': np.float64(0.0), 'RCP': np.float64(0.028901705413046132), 'GRD': np.float64(0.041381028496024576), 'BAT': np.float64(0.02026229120757756), 'SAM1': np.float64(0.01355684026819048), 'COL1': np.float64(0.028612259982667487)}\n",
      "density 1 type_number 20 dist_type uniform dist_hyperpara 18 gamma 1 testnum 3 save 0 algo_list ['OFF', 'RCP', 'GRD', 'BAT', 'SAM1', 'COL1']\n",
      "max quit time 36\n",
      "max quit time 36\n",
      "max quit time 36\n",
      "max_bsize 20\n",
      "max_bsize 20\n",
      "optimal batch size 7\n",
      "OFF 4308.529411718395 1.0\n",
      "RCP 1127.636424433902 0.26172188156983256\n",
      "GRD 1825.1882096750126 0.4236220843034845\n",
      "BAT 2327.236253116272 0.5401463076442334\n",
      "SAM1 2387.6832287377647 0.5541759149290504\n",
      "COL1 2456.834743138795 0.5702258261152086\n",
      "{'OFF': np.float64(0.0), 'RCP': np.float64(0.01383404266385758), 'GRD': np.float64(0.009131522400893308), 'BAT': np.float64(0.014586451107381616), 'SAM1': np.float64(0.0065222765585590545), 'COL1': np.float64(0.02114923218854023)}\n",
      "max quit time 36\n",
      "max quit time 36\n",
      "max quit time 35\n",
      "max_bsize 20\n",
      "max_bsize 20\n",
      "optimal batch size 7\n",
      "OFF 4401.941920826751 1.0\n",
      "RCP 1125.1452297978956 0.2556020161180537\n",
      "GRD 1880.5949701739312 0.4272193963478571\n",
      "BAT 2353.1924758442055 0.5345805369922374\n",
      "SAM1 2556.4122155366463 0.5807464663360469\n",
      "COL1 2374.283497755501 0.5393718364438517\n",
      "{'OFF': np.float64(0.0), 'RCP': np.float64(0.012539236716677067), 'GRD': np.float64(0.0203517871334207), 'BAT': np.float64(0.027059138032123557), 'SAM1': np.float64(0.039431440699543255), 'COL1': np.float64(0.01653630931154938)}\n",
      "max quit time 34\n",
      "max quit time 36\n",
      "max quit time 34\n",
      "max_bsize 20\n",
      "max_bsize 20\n",
      "optimal batch size 7\n",
      "OFF 4482.285762013404 1.0\n",
      "RCP 1203.605395723179 0.2685249133206826\n",
      "GRD 1894.8581128470587 0.42274371011898737\n",
      "BAT 2557.0422702969995 0.5704772979820899\n",
      "SAM1 2565.299294601569 0.5723194438743814\n",
      "COL1 2480.4089822890205 0.5533803764387486\n",
      "{'OFF': np.float64(0.0), 'RCP': np.float64(0.01729138704908967), 'GRD': np.float64(0.02923623978033258), 'BAT': np.float64(0.024260526220696712), 'SAM1': np.float64(0.015427992820191186), 'COL1': np.float64(0.02258250430021089)}\n",
      "density 1 type_number 20 dist_type uniform dist_hyperpara 20 gamma 1 testnum 3 save 0 algo_list ['OFF', 'RCP', 'GRD', 'BAT', 'SAM1', 'COL1']\n",
      "max quit time 38\n",
      "max quit time 36\n",
      "max quit time 38\n",
      "max_bsize 20\n",
      "max_bsize 20\n",
      "optimal batch size 6\n",
      "OFF 4494.0283504753 1.0\n",
      "RCP 1177.5626052524815 0.2620282992046411\n",
      "GRD 1776.2643018493502 0.3952499101750188\n",
      "BAT 2515.0489537697954 0.5596424316067783\n",
      "SAM1 2489.134476512127 0.553876006645323\n",
      "COL1 2455.84738273669 0.5464690454115523\n",
      "{'OFF': np.float64(0.0), 'RCP': np.float64(0.05237484332528984), 'GRD': np.float64(0.02118597495172727), 'BAT': np.float64(0.021284091053665934), 'SAM1': np.float64(0.01495808266154405), 'COL1': np.float64(0.007718715891974673)}\n",
      "max quit time 36\n",
      "max quit time 36\n",
      "max quit time 37\n",
      "max_bsize 20\n",
      "max_bsize 20\n",
      "optimal batch size 6\n",
      "OFF 4490.842600037359 1.0\n",
      "RCP 1054.5179765970656 0.23481517178720382\n",
      "GRD 1969.4888633332785 0.43855664487481577\n",
      "BAT 2595.8251326608975 0.5780263001511794\n",
      "SAM1 2567.8613569721906 0.5717994562870737\n",
      "COL1 2520.672344513127 0.5612916258726497\n",
      "{'OFF': np.float64(0.0), 'RCP': np.float64(0.03350931479124164), 'GRD': np.float64(0.021576242799080183), 'BAT': np.float64(0.013097846845907967), 'SAM1': np.float64(0.024010279827871694), 'COL1': np.float64(0.05701738144585724)}\n",
      "max quit time 38\n",
      "max quit time 36\n",
      "max quit time 37\n",
      "max_bsize 20\n",
      "max_bsize 20\n",
      "optimal batch size 7\n",
      "OFF 4363.1345802056085 1.0\n",
      "RCP 1209.1444890094467 0.2771274795178257\n",
      "GRD 1801.8916377433115 0.41298098984111536\n",
      "BAT 2486.380772278109 0.5698611231379759\n",
      "SAM1 2472.695512446112 0.5667245570796922\n",
      "COL1 2396.8386866331434 0.5493387019293351\n",
      "{'OFF': np.float64(0.0), 'RCP': np.float64(0.029460100101652138), 'GRD': np.float64(0.01592046373490853), 'BAT': np.float64(0.029104991714662676), 'SAM1': np.float64(0.001206208524808642), 'COL1': np.float64(0.03476689845247653)}\n",
      "save to file result/uniformsyn\n"
     ]
    }
   ],
   "source": [
    "diff_dist(dist_type='uniform', dist_hyperpara_list=[2, 4, 6, 8, 10, 12, 14, 16, 18, 20], input_file=None)"
   ]
  },
  {
   "cell_type": "code",
   "execution_count": null,
   "metadata": {},
   "outputs": [],
   "source": [
    "diff_dist(dist_type='single', dist_hyperpara_list=[2, 4, 6, 8, 10, 12, 14, 16, 18, 20], input_file=None)"
   ]
  },
  {
   "cell_type": "code",
   "execution_count": null,
   "metadata": {},
   "outputs": [],
   "source": [
    "diff_dist(dist_type='geo_new', dist_hyperpara_list=[2, 4, 6, 8, 10, 12, 14, 16, 18, 20], input_file=None)"
   ]
  },
  {
   "cell_type": "code",
   "execution_count": null,
   "metadata": {},
   "outputs": [],
   "source": [
    "diff_dist(dist_type='poisson', dist_hyperpara_list=[2, 4, 6, 8, 10, 12, 14, 16, 18, 20], input_file=None)"
   ]
  },
  {
   "cell_type": "code",
   "execution_count": null,
   "metadata": {},
   "outputs": [],
   "source": [
    "diff_dist(dist_type='single', dist_hyperpara_list=[5, 10, 15, 20, 25, 30, 35, 40, 45, 50], input_file=None)"
   ]
  },
  {
   "cell_type": "code",
   "execution_count": null,
   "metadata": {},
   "outputs": [],
   "source": []
  },
  {
   "cell_type": "code",
   "execution_count": null,
   "metadata": {},
   "outputs": [],
   "source": [
    "diff_dist(dist_type='poisson', dist_hyperpara_list=[5, 10, 15, 20, 25, 30, 35, 40, 45, 50], input_file=None)"
   ]
  },
  {
   "cell_type": "code",
   "execution_count": null,
   "metadata": {},
   "outputs": [],
   "source": [
    "diff_dist(dist_type='geo_new', dist_hyperpara_list=[5, 10, 15, 20, 25, 30, 35, 40, 45, 50], input_file=None)"
   ]
  },
  {
   "cell_type": "code",
   "execution_count": null,
   "metadata": {},
   "outputs": [],
   "source": [
    "# tn = 20, w_std = 10, density = 0.3\n",
    "diff_dist(dist_type='geo_new', dist_hyperpara_list=[5, 10, 15, 20, 25, 30, 35, 40, 45, 50], input_file=None)"
   ]
  },
  {
   "cell_type": "code",
   "execution_count": null,
   "metadata": {},
   "outputs": [],
   "source": [
    "# tn = 50, w_std = 10, density = 0.3\n",
    "diff_dist(dist_type='geo_new', dist_hyperpara_list=[5, 10, 15, 20], input_file=None)"
   ]
  },
  {
   "cell_type": "code",
   "execution_count": null,
   "metadata": {},
   "outputs": [],
   "source": [
    "# tn = 10, w_std = 10, density = 0.3\n",
    "diff_dist(dist_type='geo_new', dist_hyperpara_list=[5, 10, 15, 20], input_file=None)"
   ]
  },
  {
   "cell_type": "code",
   "execution_count": null,
   "metadata": {},
   "outputs": [],
   "source": [
    "# tn = 10, w_std = 10, density = 0.3\n",
    "diff_dist(dist_type='geo_new', dist_hyperpara_list=[5, 10, 15, 20], input_file=None)"
   ]
  },
  {
   "cell_type": "code",
   "execution_count": null,
   "metadata": {},
   "outputs": [],
   "source": [
    "# tn = 20, w_std = 10, density = 1\n",
    "diff_dist(dist_type='geo_new', dist_hyperpara_list=[5, 10, 15, 20, 25, 30, 35, 40, 45, 50], input_file=None)"
   ]
  },
  {
   "cell_type": "code",
   "execution_count": null,
   "metadata": {},
   "outputs": [],
   "source": [
    "# tn = 20, w_std = 10, density = 1\n",
    "diff_dist(dist_type='geo_new', dist_hyperpara_list=[5, 10, 15, 20, 25, 30, 35, 40, 45, 50], input_file=None)"
   ]
  },
  {
   "cell_type": "code",
   "execution_count": null,
   "metadata": {},
   "outputs": [],
   "source": [
    "# tn = 50, w_std = 10, density = 1\n",
    "diff_dist(dist_type='geo_new', dist_hyperpara_list=[5, 10, 15, 20, 25, 30, 35, 40, 45, 50, 55, 60, 65, 70, 75, 80], input_file=None)"
   ]
  },
  {
   "cell_type": "code",
   "execution_count": null,
   "metadata": {},
   "outputs": [],
   "source": [
    "# tn = 50, w_std = 10, density = 1\n",
    "diff_dist(dist_type='geo_new', dist_hyperpara_list=[5, 10, 15, 20, 25, 30, 35, 40, 45, 50, 55, 60, 65, 70, 75, 80], input_file=None)"
   ]
  },
  {
   "cell_type": "code",
   "execution_count": null,
   "metadata": {},
   "outputs": [],
   "source": [
    "# tn = 50, w_std = 10, density = 0.3\n",
    "diff_dist(dist_type='geo_new', dist_hyperpara_list=[5, 10, 15, 20, 25, 30, 35, 40, 45, 50, 55, 60, 65, 70, 75, 80], input_file=None)"
   ]
  },
  {
   "cell_type": "code",
   "execution_count": null,
   "metadata": {},
   "outputs": [],
   "source": [
    "# tn = 50, w_std = 10, density = 0.3\n",
    "diff_dist(dist_type='geo_new', dist_hyperpara_list=[5, 10, 15, 20, 25, 30, 35, 40, 45, 50, 55, 60, 65, 70, 75, 80], input_file=None)"
   ]
  },
  {
   "cell_type": "code",
   "execution_count": null,
   "metadata": {},
   "outputs": [],
   "source": [
    "# tn = 50, w_std = 10, density = 0.2\n",
    "diff_dist(dist_type='geo_new', dist_hyperpara_list=[5, 10, 15, 20, 25, 30, 35, 40, 45, 50, 55, 60, 65, 70, 75, 80], input_file=None)"
   ]
  },
  {
   "cell_type": "code",
   "execution_count": null,
   "metadata": {},
   "outputs": [],
   "source": [
    "# tn = 50, w_std = 10, density = 0.2\n",
    "diff_dist(dist_type='geo_new', dist_hyperpara_list=[5, 10, 15, 20, 25, 30, 35, 40, 45, 50, 55, 60, 65, 70, 75, 80, 85, 90, 95, 100], input_file=None)"
   ]
  },
  {
   "cell_type": "code",
   "execution_count": null,
   "metadata": {},
   "outputs": [],
   "source": []
  },
  {
   "cell_type": "code",
   "execution_count": null,
   "metadata": {},
   "outputs": [],
   "source": [
    "# tn = 100, w_std = 10, density = 0.2\n",
    "diff_dist(dist_type='geo_new', dist_hyperpara_list=[5, 10, 15, 20, 25, 30, 35, 40, 45, 50, 55, 60, 65, 70, 75, 80, 85, 90, 95, 100], input_file=None)"
   ]
  },
  {
   "cell_type": "code",
   "execution_count": null,
   "metadata": {},
   "outputs": [],
   "source": [
    "# tn = 50, w_std = 1, density = 1\n",
    "diff_dist(dist_type='geo_new', dist_hyperpara_list=[5, 10, 15, 20, 25, 30, 35, 40, 45, 50, 55, 60, 65, 70, 75, 80], input_file=None)"
   ]
  },
  {
   "cell_type": "code",
   "execution_count": null,
   "metadata": {},
   "outputs": [],
   "source": [
    "# tn = 50, w_std = 1, density = 1\n",
    "diff_dist(dist_type='poisson', dist_hyperpara_list=[5, 10, 15, 20, 25, 30, 35, 40, 45, 50, 55, 60, 65, 70, 75, 80], input_file=None)"
   ]
  },
  {
   "cell_type": "code",
   "execution_count": null,
   "metadata": {},
   "outputs": [],
   "source": [
    "# tn = 50, w_std = 1, density = 1\n",
    "diff_dist(dist_type='single', dist_hyperpara_list=[5, 10, 15, 20, 25, 30, 35, 40, 45, 50, 55, 60, 65, 70, 75, 80], input_file=None)"
   ]
  },
  {
   "cell_type": "code",
   "execution_count": null,
   "metadata": {},
   "outputs": [],
   "source": [
    "# tn = 50, w_std = 10, density = 1\n",
    "diff_dist(dist_type='geo_new', dist_hyperpara_list=[5, 10, 15, 20, 25, 30, 35, 40, 45, 50, 55, 60, 65, 70, 75, 80], input_file=None)"
   ]
  },
  {
   "cell_type": "code",
   "execution_count": null,
   "metadata": {},
   "outputs": [],
   "source": [
    "# tn = 50, \n",
    "diff_dist(dist_type='single', dist_hyperpara_list=[5, 10, 15, 20, 25, 30, 35, 40, 45, 50, 55, 60, 65, 70, 75, 80], input_file=None)"
   ]
  },
  {
   "cell_type": "code",
   "execution_count": null,
   "metadata": {},
   "outputs": [],
   "source": [
    "# tn = 50, \n",
    "diff_dist(dist_type='poisson', dist_hyperpara_list=[5, 10, 15, 20, 25, 30, 35, 40, 45, 50, 55, 60, 65, 70, 75, 80], input_file=None)"
   ]
  },
  {
   "cell_type": "code",
   "execution_count": null,
   "metadata": {},
   "outputs": [],
   "source": [
    "# tn = 50, \n",
    "diff_dist(dist_type='single', dist_hyperpara_list=[5, 10, 15, 20, 25, 30, 35, 40, 45, 50, 55, 60, 65, 70, 75, 80], input_file=None)"
   ]
  },
  {
   "cell_type": "code",
   "execution_count": null,
   "metadata": {},
   "outputs": [],
   "source": [
    "# tn = 50, \n",
    "diff_dist(dist_type='geo_new', dist_hyperpara_list=[5, 10, 15, 20, 25, 30, 35, 40, 45, 50, 55, 60, 65, 70, 75, 80], input_file=None)"
   ]
  },
  {
   "cell_type": "code",
   "execution_count": null,
   "metadata": {},
   "outputs": [],
   "source": [
    "# tn = 50, \n",
    "diff_dist(dist_type='geo_new', dist_hyperpara_list=[5, 10, 15, 20, 25, 30, 35, 40, 45, 50, 55, 60, 65, 70, 75, 80], input_file=None)"
   ]
  },
  {
   "cell_type": "code",
   "execution_count": null,
   "metadata": {},
   "outputs": [],
   "source": [
    "# tn = 50, \n",
    "diff_dist(dist_type='poisson', dist_hyperpara_list=[5, 10, 15, 20, 25, 30, 35, 40, 45, 50, 55, 60, 65, 70, 75, 80], input_file=None)"
   ]
  },
  {
   "cell_type": "code",
   "execution_count": null,
   "metadata": {},
   "outputs": [],
   "source": [
    "# tn = 50, \n",
    "diff_dist(dist_type='geo_new', dist_hyperpara_list=[5, 10, 15, 20, 25, 30, 35, 40, 45, 50, 55, 60, 65, 70, 75, 80], input_file=None)"
   ]
  },
  {
   "cell_type": "code",
   "execution_count": null,
   "metadata": {},
   "outputs": [],
   "source": [
    "diff_dist(dist_type='single', dist_hyperpara_list=[10, 20, 30, 40, 50, 60, 70, 80, 90, 100], input_file=None)"
   ]
  },
  {
   "cell_type": "code",
   "execution_count": null,
   "metadata": {},
   "outputs": [],
   "source": [
    "diff_dist(dist_type='poisson', dist_hyperpara_list=[10, 20, 30, 40, 50, 60, 70, 80, 90, 100], input_file=None)"
   ]
  },
  {
   "cell_type": "code",
   "execution_count": null,
   "metadata": {},
   "outputs": [],
   "source": []
  }
 ],
 "metadata": {
  "kernelspec": {
   "display_name": "Python 3",
   "language": "python",
   "name": "python3"
  },
  "language_info": {
   "codemirror_mode": {
    "name": "ipython",
    "version": 3
   },
   "file_extension": ".py",
   "mimetype": "text/x-python",
   "name": "python",
   "nbconvert_exporter": "python",
   "pygments_lexer": "ipython3",
   "version": "3.9.6"
  }
 },
 "nbformat": 4,
 "nbformat_minor": 2
}
