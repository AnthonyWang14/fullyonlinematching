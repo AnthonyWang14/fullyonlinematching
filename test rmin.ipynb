{
 "cells": [
  {
   "cell_type": "code",
   "execution_count": 3,
   "metadata": {},
   "outputs": [],
   "source": [
    "from eval import *\n",
    "np.random.seed(1)\n"
   ]
  },
  {
   "cell_type": "code",
   "execution_count": 4,
   "metadata": {},
   "outputs": [
    {
     "name": "stdout",
     "output_type": "stream",
     "text": [
      "density 2.5 type_number 50 dist_type geometric dist_hyperpara 0.5 gamma 1 testnum 1 save 0 algo_list ['OFF', 'RCP', 'GRD', 'SAM1', 'SAMC1', 'BAT']\n",
      "3\n",
      "OFF 306.4533455339604 1.0\n",
      "RCP 92.44508336814235 0.30166119807590036\n",
      "GRD 102.87653108325797 0.33570046658817587\n",
      "SAM1 304.0921027502893 0.992294935532334\n",
      "SAMC1 304.24291788014995 0.992787066331552\n",
      "BAT 132.7226809764353 0.4330926155992228\n",
      "save to file result/rmin_syn\n"
     ]
    }
   ],
   "source": [
    "test_rmin(dist_type='geometric', dist_hyperpara=0.5, SYN=True)"
   ]
  },
  {
   "cell_type": "code",
   "execution_count": 5,
   "metadata": {},
   "outputs": [
    {
     "name": "stdout",
     "output_type": "stream",
     "text": [
      "density 2.5 type_number 50 dist_type single dist_hyperpara 20 gamma 1 testnum 1 save 0 algo_list ['OFF', 'RCP', 'GRD', 'SAM1', 'SAMC1', 'BAT']\n",
      "13\n",
      "OFF 670.7705901119866 1.0\n",
      "RCP 263.75504431165126 0.3932119985576839\n",
      "GRD 107.67219322703357 0.16052014625306912\n",
      "SAM1 454.68634813682945 0.6778567141128214\n",
      "SAMC1 450.19393559784294 0.6711593236708278\n",
      "BAT 382.2576841737454 0.5698784201464865\n",
      "save to file result/rmin_syn\n"
     ]
    }
   ],
   "source": [
    "test_rmin(dist_type='single', dist_hyperpara=20, SYN=True)"
   ]
  },
  {
   "cell_type": "code",
   "execution_count": 6,
   "metadata": {},
   "outputs": [
    {
     "name": "stdout",
     "output_type": "stream",
     "text": [
      "density 2.5 type_number 50 dist_type poisson dist_hyperpara 20 gamma 1 testnum 1 save 0 algo_list ['OFF', 'RCP', 'GRD', 'SAM1', 'SAMC1', 'BAT']\n",
      "10\n",
      "OFF 671.214354115932 1.0\n",
      "RCP 258.51079186099435 0.38513895043481805\n",
      "GRD 103.7927360148541 0.15463426158631738\n",
      "SAM1 446.72717953586726 0.665550694493504\n",
      "SAMC1 442.9384639280078 0.6599061256838133\n",
      "BAT 341.00475754626194 0.5080415152852402\n",
      "save to file result/rmin_syn\n"
     ]
    }
   ],
   "source": [
    "test_rmin(dist_type='poisson', dist_hyperpara=20, SYN=True)"
   ]
  },
  {
   "cell_type": "code",
   "execution_count": null,
   "metadata": {},
   "outputs": [],
   "source": []
  }
 ],
 "metadata": {
  "kernelspec": {
   "display_name": "Python 3",
   "language": "python",
   "name": "python3"
  },
  "language_info": {
   "codemirror_mode": {
    "name": "ipython",
    "version": 3
   },
   "file_extension": ".py",
   "mimetype": "text/x-python",
   "name": "python",
   "nbconvert_exporter": "python",
   "pygments_lexer": "ipython3",
   "version": "3.11.7"
  }
 },
 "nbformat": 4,
 "nbformat_minor": 2
}
