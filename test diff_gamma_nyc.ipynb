{
 "cells": [
  {
   "cell_type": "code",
   "execution_count": 1,
   "metadata": {},
   "outputs": [],
   "source": [
    "from eval import *\n",
    "# 5 instances"
   ]
  },
  {
   "cell_type": "code",
   "execution_count": 2,
   "metadata": {},
   "outputs": [],
   "source": [
    "np.random.seed(0)"
   ]
  },
  {
   "cell_type": "code",
   "execution_count": 3,
   "metadata": {},
   "outputs": [
    {
     "name": "stdout",
     "output_type": "stream",
     "text": [
      "test different gamma\n",
      "density 0.5 type_number 10 dist_type single dist_hyperpara 50 gamma 1 testnum 1 save 0 algo_list ['OFF', 'SAM', 'SAMC', 'GRD', 'BAT']\n",
      "test file nyc_20_5_394_5\n",
      "max quit time 49\n",
      "num_prob_larger_than_half 9186\n",
      "error reward BAT\n",
      "OFF 14386.0 1.0\n",
      "SAM 7756.0 0.5391352704017796\n",
      "SAMC 7850.0 0.5456694008063395\n",
      "GRD 12899.0 0.8966356179619074\n",
      "BAT 11133.0 0.7738773807868762\n",
      "{'OFF': np.float64(0.0), 'SAM': np.float64(0.0), 'SAMC': np.float64(0.0), 'GRD': np.float64(0.0), 'BAT': np.float64(0.0)}\n",
      "save to file result/gamma_singlenyc_20_5_394_5\n"
     ]
    }
   ],
   "source": [
    "# L = 10, del = 2\n",
    "A_list = [5]\n",
    "for i in range(len(A_list)):\n",
    "    diff_gamma(dist_type = 'single', dist_hyperpara = 50, density = 0.5, type_number= 10, gamma_list = [1], input_file='nyc_20_5_394_'+str(A_list[i]))\n",
    "    # diff_gamma(dist_type = 'geo', dist_hyperpara = 20, density = 0.5, type_number= 10, gamma_list = [1], input_file='nyc_10_2_341_'+str(A_list[i]))\n",
    "    # diff_gamma(dist_type = 'poi', dist_hyperpara = 20, density = 0.5, type_number= 10, gamma_list = [1], input_file='nyc_10_2_341_'+str(A_list[i]))"
   ]
  },
  {
   "cell_type": "code",
   "execution_count": null,
   "metadata": {},
   "outputs": [],
   "source": [
    "# L = 10, del = 2\n",
    "A_list = [1, 2, 3, 4, 5]\n",
    "for i in range(len(A_list)):\n",
    "    diff_gamma(dist_type='geometric', dist_hyperpara=0.5, input_file='nyc_10_2_341_'+str(A_list[i]))\n",
    "    diff_gamma(dist_type='single', dist_hyperpara=20, input_file='nyc_10_2_341_'+str(A_list[i]))\n",
    "    diff_gamma(dist_type='poisson', dist_hyperpara=20, input_file='nyc_10_2_341_'+str(A_list[i]))"
   ]
  },
  {
   "cell_type": "code",
   "execution_count": null,
   "metadata": {},
   "outputs": [],
   "source": [
    "# A= 1, del = 2\n",
    "L_list = [5, 10, 15, 20, 25]\n",
    "type_number_list = [151, 341, 357, 394, 229]\n",
    "for i in range(len(L_list)):\n",
    "    file_name = 'nyc_'+str(L_list[i])+'_2_'+str(type_number_list[i])\n",
    "    diff_gamma(dist_type='geometric', dist_hyperpara=0.5, input_file=file_name)\n",
    "    diff_gamma(dist_type='single', dist_hyperpara=20, input_file=file_name)\n",
    "    diff_gamma(dist_type='poisson', dist_hyperpara=20, input_file=file_name)"
   ]
  },
  {
   "cell_type": "code",
   "execution_count": null,
   "metadata": {},
   "outputs": [],
   "source": [
    "# A = 1, L = 10\n",
    "del_list = [1, 2, 3, 4, 5]\n",
    "for i in range(len(del_list)):\n",
    "    file_name = 'nyc_10_'+str(del_list[i])+'_341'\n",
    "    diff_gamma(dist_type='geometric', dist_hyperpara=0.5, input_file=file_name)\n",
    "    diff_gamma(dist_type='single', dist_hyperpara=20, input_file=file_name)\n",
    "    diff_gamma(dist_type='poisson', dist_hyperpara=20, input_file=file_name)"
   ]
  },
  {
   "cell_type": "code",
   "execution_count": null,
   "metadata": {},
   "outputs": [],
   "source": [
    "# L = 20, del = 2, A = 1\n",
    "for i in range(len(geo_list)):\n",
    "    diff_gamma(dist_type='geometric', dist_hyperpara=geo_list[i], input_file='nyc_20_2_394')\n",
    "    diff_gamma(dist_type='single', dist_hyperpara=sin_list[i], input_file='nyc_20_2_394')\n",
    "    diff_gamma(dist_type='poisson', dist_hyperpara=sin_list[i], input_file='nyc_20_2_394')"
   ]
  },
  {
   "cell_type": "code",
   "execution_count": null,
   "metadata": {},
   "outputs": [],
   "source": [
    "# L = 10, del = 2, A = 3\n",
    "for i in range(len(geo_list)):\n",
    "    diff_gamma(dist_type='geometric', dist_hyperpara=geo_list[i], input_file='nyc_10_2_341_3')\n",
    "    diff_gamma(dist_type='single', dist_hyperpara=sin_list[i], input_file='nyc_10_2_341_3')\n",
    "    diff_gamma(dist_type='poisson', dist_hyperpara=sin_list[i], input_file='nyc_10_2_341_3')"
   ]
  },
  {
   "cell_type": "code",
   "execution_count": null,
   "metadata": {},
   "outputs": [],
   "source": [
    "# L = 20, del = 2, A = 3\n",
    "for i in range(len(geo_list)):\n",
    "    diff_gamma(dist_type='geometric', dist_hyperpara=geo_list[i], input_file='nyc_20_2_394_3')\n",
    "    diff_gamma(dist_type='single', dist_hyperpara=sin_list[i], input_file='nyc_20_2_394_3')\n",
    "    diff_gamma(dist_type='poisson', dist_hyperpara=sin_list[i], input_file='nyc_20_2_394_3')"
   ]
  },
  {
   "cell_type": "code",
   "execution_count": null,
   "metadata": {},
   "outputs": [],
   "source": [
    "geo_list = [0.1, 0.3, 0.5, 0.7, 0.9]\n",
    "sin_list = [10, 15, 20, 25, 30]\n",
    "for i in range(len(geo_list)):\n",
    "    diff_gamma(dist_type='geometric', dist_hyperpara=geo_list[i], input_file='nyc_10_5_341')\n",
    "    diff_gamma(dist_type='single', dist_hyperpara=sin_list[i], input_file='nyc_10_5_341')\n",
    "    diff_gamma(dist_type='poisson', dist_hyperpara=sin_list[i], input_file='nyc_10_5_341')"
   ]
  },
  {
   "cell_type": "code",
   "execution_count": null,
   "metadata": {},
   "outputs": [],
   "source": [
    "geo_list = [0.1, 0.3, 0.5, 0.7, 0.9]\n",
    "sin_list = [10, 15, 20, 25, 30]\n",
    "for i in range(len(geo_list)):\n",
    "    diff_gamma(dist_type='geometric', dist_hyperpara=geo_list[i], input_file='nyc_20_2_511')\n",
    "    diff_gamma(dist_type='single', dist_hyperpara=sin_list[i], input_file='nyc_20_2_511')\n",
    "    diff_gamma(dist_type='poisson', dist_hyperpara=sin_list[i], input_file='nyc_20_2_511')"
   ]
  },
  {
   "cell_type": "code",
   "execution_count": null,
   "metadata": {},
   "outputs": [],
   "source": [
    "geo_list = [0.1, 0.3, 0.5, 0.7, 0.9]\n",
    "sin_list = [10, 15, 20, 25, 30]\n",
    "for i in range(len(geo_list)):\n",
    "    diff_gamma(dist_type='geometric', dist_hyperpara=geo_list[i], input_file='nyc_20_5_511')\n",
    "    diff_gamma(dist_type='single', dist_hyperpara=sin_list[i], input_file='nyc_20_5_511')\n",
    "    diff_gamma(dist_type='poisson', dist_hyperpara=sin_list[i], input_file='nyc_20_5_511')"
   ]
  },
  {
   "cell_type": "code",
   "execution_count": null,
   "metadata": {},
   "outputs": [],
   "source": [
    "diff_gamma(dist_type='poisson', dist_hyperpara=35, input_file=None)"
   ]
  },
  {
   "cell_type": "code",
   "execution_count": null,
   "metadata": {},
   "outputs": [],
   "source": [
    "# density 5, p_min = 0.9\n",
    "diff_gamma(dist_type='geometric', dist_hyperpara=0.1, input_file=None)\n",
    "diff_gamma(dist_type='single', dist_hyperpara=5, input_file=None)\n",
    "diff_gamma(dist_type='poisson', dist_hyperpara=5, input_file=None)"
   ]
  },
  {
   "cell_type": "code",
   "execution_count": null,
   "metadata": {},
   "outputs": [],
   "source": [
    "# density 5, p_min = 0.9\n",
    "diff_gamma(dist_type='geometric', dist_hyperpara=0.5, input_file=None)\n",
    "diff_gamma(dist_type='single', dist_hyperpara=20, input_file=None)\n",
    "diff_gamma(dist_type='poisson', dist_hyperpara=20, input_file=None)"
   ]
  },
  {
   "cell_type": "code",
   "execution_count": null,
   "metadata": {},
   "outputs": [],
   "source": [
    "# density 5, p_min = 0.9\n",
    "diff_gamma(dist_type='geometric', dist_hyperpara=0.9, input_file=None)\n",
    "diff_gamma(dist_type='single', dist_hyperpara=35, input_file=None)\n",
    "diff_gamma(dist_type='poisson', dist_hyperpara=35, input_file=None)"
   ]
  },
  {
   "cell_type": "code",
   "execution_count": null,
   "metadata": {},
   "outputs": [],
   "source": [
    "# density = 5, p_min=0\n",
    "diff_gamma(dist_type='single', dist_hyperpara=35, input_file=None)\n",
    "diff_gamma(dist_type='poisson', dist_hyperpara=35, input_file=None)"
   ]
  },
  {
   "cell_type": "code",
   "execution_count": null,
   "metadata": {},
   "outputs": [],
   "source": [
    "# density 5, p_min = 0.0\n",
    "diff_gamma(dist_type='geometric', dist_hyperpara=0.1, input_file=None)\n",
    "diff_gamma(dist_type='single', dist_hyperpara=5, input_file=None)\n",
    "diff_gamma(dist_type='poisson', dist_hyperpara=5, input_file=None)"
   ]
  },
  {
   "cell_type": "code",
   "execution_count": null,
   "metadata": {},
   "outputs": [],
   "source": [
    "# density 5, p_min = 0.0\n",
    "diff_gamma(dist_type='geometric', dist_hyperpara=0.5, input_file=None)\n",
    "diff_gamma(dist_type='single', dist_hyperpara=20, input_file=None)\n",
    "diff_gamma(dist_type='poisson', dist_hyperpara=20, input_file=None)"
   ]
  },
  {
   "cell_type": "code",
   "execution_count": null,
   "metadata": {},
   "outputs": [],
   "source": [
    "# density 5, p_min = 0.0\n",
    "diff_gamma(dist_type='geometric', dist_hyperpara=0.9, input_file=None)\n",
    "diff_gamma(dist_type='single', dist_hyperpara=35, input_file=None)\n",
    "diff_gamma(dist_type='poisson', dist_hyperpara=35, input_file=None)"
   ]
  },
  {
   "cell_type": "code",
   "execution_count": null,
   "metadata": {},
   "outputs": [],
   "source": [
    "# density 2.5, p_min = 0.9\n",
    "diff_gamma(dist_type='geometric', dist_hyperpara=0.1, input_file=None)\n",
    "diff_gamma(dist_type='single', dist_hyperpara=5, input_file=None)\n",
    "diff_gamma(dist_type='poisson', dist_hyperpara=5, input_file=None)"
   ]
  },
  {
   "cell_type": "code",
   "execution_count": null,
   "metadata": {},
   "outputs": [],
   "source": []
  },
  {
   "cell_type": "code",
   "execution_count": null,
   "metadata": {},
   "outputs": [],
   "source": [
    "# density 2.5, p_min = 0.9\n",
    "diff_gamma(dist_type='geometric', dist_hyperpara=0.5, input_file=None)\n",
    "diff_gamma(dist_type='single', dist_hyperpara=20, input_file=None)\n",
    "diff_gamma(dist_type='poisson', dist_hyperpara=20, input_file=None)"
   ]
  },
  {
   "cell_type": "code",
   "execution_count": null,
   "metadata": {},
   "outputs": [],
   "source": [
    "# density 2.5, p_min = 0.9\n",
    "diff_gamma(dist_type='geometric', dist_hyperpara=0.9, input_file=None)\n",
    "diff_gamma(dist_type='single', dist_hyperpara=35, input_file=None)\n",
    "diff_gamma(dist_type='poisson', dist_hyperpara=35, input_file=None)"
   ]
  },
  {
   "cell_type": "code",
   "execution_count": null,
   "metadata": {},
   "outputs": [],
   "source": [
    "# density = 2.5, p_min=0\n",
    "diff_gamma(dist_type='geometric', dist_hyperpara=0.5, input_file=None)\n",
    "diff_gamma(dist_type='single', dist_hyperpara=20, input_file=None)\n",
    "diff_gamma(dist_type='poisson', dist_hyperpara=20, input_file=None)"
   ]
  },
  {
   "cell_type": "code",
   "execution_count": null,
   "metadata": {},
   "outputs": [],
   "source": [
    "# density = 2.5, p_min=0\n",
    "diff_gamma(dist_type='geometric', dist_hyperpara=0.9, input_file=None)\n",
    "diff_gamma(dist_type='single', dist_hyperpara=35, input_file=None)\n",
    "diff_gamma(dist_type='poisson', dist_hyperpara=35, input_file=None)"
   ]
  },
  {
   "cell_type": "code",
   "execution_count": null,
   "metadata": {},
   "outputs": [],
   "source": [
    "# density = 2.5, p_min=0\n",
    "# diff_gamma(dist_type='geometric', dist_hyperpara=0.9, input_file=None)\n",
    "diff_gamma(dist_type='single', dist_hyperpara=5, input_file=None)\n",
    "diff_gamma(dist_type='poisson', dist_hyperpara=5, input_file=None)"
   ]
  },
  {
   "cell_type": "code",
   "execution_count": null,
   "metadata": {},
   "outputs": [],
   "source": [
    "diff_gamma(dist_type='single', dist_hyperpara=20, input_file=None)"
   ]
  },
  {
   "cell_type": "code",
   "execution_count": null,
   "metadata": {},
   "outputs": [],
   "source": [
    "diff_gamma(dist_type='poisson', dist_hyperpara=20, input_file=None)"
   ]
  },
  {
   "cell_type": "code",
   "execution_count": null,
   "metadata": {},
   "outputs": [],
   "source": [
    "diff_gamma(dist_type='geometric', dist_hyperpara=0.5, input_file='nyc_20_2_511')\n",
    "diff_gamma(dist_type='single', dist_hyperpara=20, input_file='nyc_20_2_511')\n",
    "diff_gamma(dist_type='poisson', dist_hyperpara=20, input_file='nyc_20_2_511')"
   ]
  },
  {
   "cell_type": "code",
   "execution_count": null,
   "metadata": {},
   "outputs": [],
   "source": []
  }
 ],
 "metadata": {
  "kernelspec": {
   "display_name": "Python 3",
   "language": "python",
   "name": "python3"
  },
  "language_info": {
   "codemirror_mode": {
    "name": "ipython",
    "version": 3
   },
   "file_extension": ".py",
   "mimetype": "text/x-python",
   "name": "python",
   "nbconvert_exporter": "python",
   "pygments_lexer": "ipython3",
   "version": "3.9.6"
  }
 },
 "nbformat": 4,
 "nbformat_minor": 2
}
