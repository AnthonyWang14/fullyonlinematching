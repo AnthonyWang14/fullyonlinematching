{
 "cells": [
  {
   "cell_type": "code",
   "execution_count": 1,
   "metadata": {},
   "outputs": [],
   "source": [
    "# for testing the distribution for the NYC dataset.\n",
    "from eval import *\n",
    "np.random.seed(0)"
   ]
  },
  {
   "cell_type": "code",
   "execution_count": 2,
   "metadata": {},
   "outputs": [
    {
     "name": "stdout",
     "output_type": "stream",
     "text": [
      "density 1 type_number 10 dist_type geo_new dist_hyperpara 5 gamma 1 testnum 3 save 0 algo_list ['OFF', 'GRD', 'HG', 'BAT', 'SAM1', 'STH', 'COL1', 'CTH', 'GRD2']\n",
      "test file nyc_20_40_138_2\n",
      "max quit time 21\n",
      "max quit time 19\n",
      "max quit time 15\n",
      "optimal batch size 2\n",
      "optimal threshold for STH 0.7\n",
      "optimal threshold for CTH 0.4\n",
      "OFF 61.14197530864201 1.0\n",
      "GRD 49.061728395061756 0.8024230186774356\n",
      "HG 45.00000000000003 0.7359919232710752\n",
      "BAT 47.43209876543214 0.7757698132256438\n",
      "SAM1 37.851851851851855 0.6190812720848053\n",
      "STH 38.382716049382715 0.6277637556789496\n",
      "COL1 37.97530864197532 0.6211004543160018\n",
      "CTH 38.086419753086425 0.6229177183240785\n",
      "GRD2 35.666666666666664 0.5833417465926296\n",
      "{'OFF': np.float64(0.0), 'GRD': np.float64(0.003971691051176834), 'HG': np.float64(0.009129983070156503), 'BAT': np.float64(0.010315371014005608), 'SAM1': np.float64(0.02395740257673801), 'STH': np.float64(0.025324008191408356), 'COL1': np.float64(0.024898538194809382), 'CTH': np.float64(0.020232646148330355), 'GRD2': np.float64(0.020849659439523324)}\n",
      "max quit time 21\n",
      "max quit time 26\n",
      "max quit time 23\n",
      "optimal batch size 2\n",
      "optimal threshold for STH 0.2\n",
      "optimal threshold for CTH 0.1\n",
      "OFF 59.53703703703707 1.0\n",
      "GRD 48.814814814814845 0.8199066874027995\n",
      "HG 43.27160493827162 0.7268014515292898\n",
      "BAT 46.53086419753089 0.7815448418869881\n",
      "SAM1 36.67901234567902 0.6160705028512181\n",
      "STH 37.493827160493844 0.6297563504406428\n",
      "COL1 36.70370370370372 0.6164852255054432\n",
      "CTH 37.08641975308643 0.6229134266459304\n",
      "GRD2 33.037037037037024 0.5548989113530322\n",
      "{'OFF': np.float64(0.0), 'GRD': np.float64(0.017874424474972117), 'HG': np.float64(0.024319464445662388), 'BAT': np.float64(0.02040078782784473), 'SAM1': np.float64(0.04491761028565448), 'STH': np.float64(0.049451211766550804), 'COL1': np.float64(0.041029950007555875), 'CTH': np.float64(0.04311550094489053), 'GRD2': np.float64(0.024945052457843543)}\n",
      "max quit time 21\n",
      "max quit time 19\n",
      "max quit time 23\n",
      "optimal batch size 2\n",
      "optimal threshold for STH 0.1\n",
      "optimal threshold for CTH 0.3\n",
      "OFF 60.62345679012347 1.0\n",
      "GRD 49.56790123456795 0.8176356786477962\n",
      "HG 44.9135802469136 0.7408614194073925\n",
      "BAT 46.35802469135805 0.7646879136544142\n",
      "SAM1 36.20987654320988 0.5972915181753385\n",
      "STH 37.00000000000001 0.6103248141737094\n",
      "COL1 35.925925925925945 0.5926076774259242\n",
      "CTH 36.49382716049384 0.6019753589247531\n",
      "GRD2 34.39506172839504 0.5673556664290801\n",
      "{'OFF': np.float64(0.0), 'GRD': np.float64(0.0060241344904674215), 'HG': np.float64(0.008782440473021942), 'BAT': np.float64(0.017919120879760976), 'SAM1': np.float64(0.008234813488288095), 'STH': np.float64(0.01709253848710617), 'COL1': np.float64(0.008256661310269399), 'CTH': np.float64(0.010726470525731086), 'GRD2': np.float64(0.011014375908846038)}\n",
      "density 1 type_number 10 dist_type geo_new dist_hyperpara 10 gamma 1 testnum 3 save 0 algo_list ['OFF', 'GRD', 'HG', 'BAT', 'SAM1', 'STH', 'COL1', 'CTH', 'GRD2']\n",
      "test file nyc_20_40_138_2\n",
      "max quit time 42\n",
      "max quit time 80\n",
      "max quit time 38\n",
      "optimal batch size 2\n",
      "optimal threshold for STH 0.1\n",
      "optimal threshold for CTH 0.1\n",
      "OFF 63.580246913580275 1.0\n",
      "GRD 48.08641975308647 0.7563106796116509\n",
      "HG 42.32098765432101 0.6656310679611651\n",
      "BAT 45.49382716049386 0.7155339805825245\n",
      "SAM1 34.19753086419754 0.5378640776699029\n",
      "STH 36.283950617283956 0.5706796116504853\n",
      "COL1 34.87654320987655 0.5485436893203882\n",
      "CTH 35.66666666666668 0.5609708737864078\n",
      "GRD2 38.04938271604938 0.5984466019417473\n",
      "{'OFF': np.float64(0.0), 'GRD': np.float64(0.010657988074181893), 'HG': np.float64(0.0026246550726406075), 'BAT': np.float64(0.009820101934726993), 'SAM1': np.float64(0.01283930941581652), 'STH': np.float64(0.007310769827654124), 'COL1': np.float64(0.012390108889421663), 'CTH': np.float64(0.004120302994493758), 'GRD2': np.float64(0.015555496102919801)}\n",
      "max quit time 34\n",
      "max quit time 37\n",
      "max quit time 77\n",
      "optimal batch size 2\n",
      "optimal threshold for STH 0.2\n",
      "optimal threshold for CTH 0.1\n",
      "OFF 64.9444444444445 1.0\n",
      "GRD 50.34567901234572 0.7752114817983081\n",
      "HG 45.000000000000036 0.6928999144568007\n",
      "BAT 46.92592592592596 0.7225548902195608\n",
      "SAM1 34.93827160493828 0.5379716756962263\n",
      "STH 36.11111111111112 0.5560307955517533\n",
      "COL1 35.56790123456792 0.5476665716186673\n",
      "CTH 36.08641975308643 0.5556506035547949\n",
      "GRD2 36.92592592592591 0.5685771314513822\n",
      "{'OFF': np.float64(0.0), 'GRD': np.float64(0.0027442229984853397), 'HG': np.float64(0.017160507105491437), 'BAT': np.float64(0.014840250962698278), 'SAM1': np.float64(0.014336049004329391), 'STH': np.float64(0.015804021545343442), 'COL1': np.float64(0.019459646952631818), 'CTH': np.float64(0.006026938268917225), 'GRD2': np.float64(0.017620472198715403)}\n",
      "max quit time 53\n",
      "max quit time 48\n",
      "max quit time 42\n",
      "optimal batch size 2\n",
      "optimal threshold for STH 0.1\n",
      "optimal threshold for CTH 0.2\n",
      "OFF 62.35185185185188 1.0\n",
      "GRD 47.24691358024694 0.7577467577467578\n",
      "HG 42.345679012345705 0.6791406791406792\n",
      "BAT 43.987654320987666 0.7054747054747053\n",
      "SAM1 34.51851851851854 0.5536085536085537\n",
      "STH 35.83950617283953 0.5747945747945749\n",
      "COL1 34.37037037037039 0.5512325512325512\n",
      "CTH 35.03703703703706 0.561924561924562\n",
      "GRD2 36.90123456790123 0.5918225918225914\n",
      "{'OFF': np.float64(0.0), 'GRD': np.float64(0.013125363738299319), 'HG': np.float64(0.009110574013404295), 'BAT': np.float64(0.004827425671196308), 'SAM1': np.float64(0.023982768614131546), 'STH': np.float64(0.01995733707006594), 'COL1': np.float64(0.016788803392070263), 'CTH': np.float64(0.006661570845632426), 'GRD2': np.float64(0.013206350747680333)}\n",
      "density 1 type_number 10 dist_type geo_new dist_hyperpara 15 gamma 1 testnum 3 save 0 algo_list ['OFF', 'GRD', 'HG', 'BAT', 'SAM1', 'STH', 'COL1', 'CTH', 'GRD2']\n",
      "test file nyc_20_40_138_2\n",
      "max quit time 64\n",
      "max quit time 71\n",
      "max quit time 52\n",
      "optimal batch size 4\n",
      "optimal threshold for STH 0.1\n",
      "optimal threshold for CTH 0.2\n",
      "OFF 67.91358024691361 1.0\n",
      "GRD 49.92592592592598 0.7351390656244324\n",
      "HG 44.46913580246916 0.6547900381748774\n",
      "BAT 47.0493827160494 0.6927831303399381\n",
      "SAM1 36.14814814814816 0.5322668605708052\n",
      "STH 38.39506172839508 0.5653517542265043\n",
      "COL1 36.567901234567906 0.5384475549900016\n",
      "CTH 37.987654320987666 0.5593528449372841\n",
      "GRD2 41.67901234567902 0.6137065988002179\n",
      "{'OFF': np.float64(0.0), 'GRD': np.float64(0.0025508566858200355), 'HG': np.float64(0.012949971651670245), 'BAT': np.float64(0.007642630915994985), 'SAM1': np.float64(0.02101177086624379), 'STH': np.float64(0.008605516478492453), 'COL1': np.float64(0.0067855494650354755), 'CTH': np.float64(0.003906856819475224), 'GRD2': np.float64(0.01691245106193213)}\n",
      "max quit time 75\n",
      "max quit time 85\n",
      "max quit time 77\n",
      "optimal batch size 2\n",
      "optimal threshold for STH 0.1\n",
      "optimal threshold for CTH 0.3\n",
      "OFF 65.82716049382718 1.0\n",
      "GRD 48.135802469135854 0.7312453113278325\n",
      "HG 43.01234567901238 0.6534133533383348\n",
      "BAT 45.54320987654324 0.6918604651162793\n",
      "SAM1 35.91358024691359 0.5455738934733684\n",
      "STH 37.25925925925927 0.5660165041260314\n",
      "COL1 33.901234567901255 0.5150037509377347\n",
      "CTH 35.64197530864198 0.5414478619654913\n",
      "GRD2 39.09876543209878 0.593960990247562\n",
      "{'OFF': np.float64(0.0), 'GRD': np.float64(0.0059102680068288775), 'HG': np.float64(0.010792191279664545), 'BAT': np.float64(0.015079370160595278), 'SAM1': np.float64(0.022871696380955087), 'STH': np.float64(0.0124717454007495), 'COL1': np.float64(0.022682641704265472), 'CTH': np.float64(0.022491859097087615), 'GRD2': np.float64(0.02288724803520027)}\n",
      "max quit time 57\n",
      "max quit time 74\n",
      "max quit time 57\n",
      "optimal batch size 4\n",
      "optimal threshold for STH 0.2\n",
      "optimal threshold for CTH 0.1\n",
      "OFF 64.74691358024695 1.0\n",
      "GRD 48.75308641975314 0.7529793116598344\n",
      "HG 43.41975308641978 0.6706073028887406\n",
      "BAT 44.728395061728385 0.6908189531890546\n",
      "SAM1 34.27160493827161 0.5293164267327674\n",
      "STH 34.97530864197532 0.5401849556678423\n",
      "COL1 34.0 0.525121555915721\n",
      "CTH 34.65432098765432 0.5352273810658782\n",
      "GRD2 38.098765432098766 0.5884259700638761\n",
      "{'OFF': np.float64(0.0), 'GRD': np.float64(0.0012597723652677654), 'HG': np.float64(0.00561022372411789), 'BAT': np.float64(0.015798441668983212), 'SAM1': np.float64(0.019735436044018603), 'STH': np.float64(0.02984420391011813), 'COL1': np.float64(0.026517299909269057), 'CTH': np.float64(0.029384178235013953), 'GRD2': np.float64(0.011473572194267114)}\n",
      "density 1 type_number 10 dist_type geo_new dist_hyperpara 20 gamma 1 testnum 3 save 0 algo_list ['OFF', 'GRD', 'HG', 'BAT', 'SAM1', 'STH', 'COL1', 'CTH', 'GRD2']\n",
      "test file nyc_20_40_138_2\n",
      "max quit time 86\n",
      "max quit time 104\n",
      "max quit time 75\n",
      "optimal batch size 4\n",
      "optimal threshold for STH 0.2\n",
      "optimal threshold for CTH 0.1\n",
      "OFF 65.82716049382718 1.0\n",
      "GRD 48.222222222222264 0.7325581395348841\n",
      "HG 42.407407407407426 0.6442235558889723\n",
      "BAT 45.75308641975309 0.6950487621905475\n",
      "SAM1 33.91358024691359 0.5151912978244562\n",
      "STH 35.469135802469154 0.5388222055513879\n",
      "COL1 33.987654320987666 0.5163165791447862\n",
      "CTH 35.35802469135804 0.5371342835708928\n",
      "GRD2 39.50617283950618 0.6001500375093772\n",
      "{'OFF': np.float64(0.0), 'GRD': np.float64(0.010640862812247909), 'HG': np.float64(0.016133589710780726), 'BAT': np.float64(0.01098567271476747), 'SAM1': np.float64(0.039476631660031514), 'STH': np.float64(0.04577080365719789), 'COL1': np.float64(0.04747596195205059), 'CTH': np.float64(0.04309523430384606), 'GRD2': np.float64(0.00967616318572189)}\n",
      "max quit time 94\n",
      "max quit time 119\n",
      "max quit time 70\n",
      "optimal batch size 4\n",
      "optimal threshold for STH 0.1\n",
      "optimal threshold for CTH 0.1\n",
      "OFF 68.3888888888889 1.0\n",
      "GRD 49.74074074074078 0.7273219604657465\n",
      "HG 44.00000000000003 0.6433793663688062\n",
      "BAT 48.37037037037039 0.7072840509071218\n",
      "SAM1 34.543209876543216 0.5050997382435238\n",
      "STH 36.172839506172856 0.5289286036645908\n",
      "COL1 34.55555555555555 0.505280259951259\n",
      "CTH 35.54320987654322 0.5197219965700877\n",
      "GRD2 41.85185185185186 0.6119685892228541\n",
      "{'OFF': np.float64(0.0), 'GRD': np.float64(0.012323152776576012), 'HG': np.float64(0.011918486230601712), 'BAT': np.float64(0.009145804410203365), 'SAM1': np.float64(0.03187630128082362), 'STH': np.float64(0.03385721949087323), 'COL1': np.float64(0.03000839864527739), 'CTH': np.float64(0.028827426100858644), 'GRD2': np.float64(0.01950333674199986)}\n",
      "max quit time 59\n",
      "max quit time 91\n",
      "max quit time 85\n",
      "optimal batch size 4\n",
      "optimal threshold for STH 0.1\n",
      "optimal threshold for CTH 0.1\n",
      "OFF 70.90740740740743 1.0\n",
      "GRD 51.197530864197546 0.7220336032036214\n",
      "HG 46.09876543209879 0.6501262296509098\n",
      "BAT 49.925925925925924 0.7041002872812742\n",
      "SAM1 38.086419753086425 0.5371289283537911\n",
      "STH 39.79012345679011 0.5611560894924694\n",
      "COL1 37.876543209876544 0.5341690606772872\n",
      "CTH 38.98765432098765 0.5498389483764253\n",
      "GRD2 44.28395061728397 0.6245320797423175\n",
      "{'OFF': np.float64(0.0), 'GRD': np.float64(0.004797324772287461), 'HG': np.float64(0.005859019735124981), 'BAT': np.float64(0.015252568518771768), 'SAM1': np.float64(0.019737107340922596), 'STH': np.float64(0.01867277076057007), 'COL1': np.float64(0.009438537415843395), 'CTH': np.float64(0.015204190461026904), 'GRD2': np.float64(0.003218219121862098)}\n",
      "save to file result/geo_newnyc_20_40_138_2\n"
     ]
    }
   ],
   "source": [
    "diff_dist(dist_type='geo_new', dist_hyperpara_list=[5, 10, 15, 20], input_file='nyc_20_40_138_3')"
   ]
  },
  {
   "cell_type": "code",
   "execution_count": null,
   "metadata": {},
   "outputs": [],
   "source": []
  },
  {
   "cell_type": "code",
   "execution_count": null,
   "metadata": {},
   "outputs": [],
   "source": [
    "diff_dist(dist_type='geo_new', dist_hyperpara_list=[5, 10, 15, 20], input_file='nyc_10_20_172_1')\n",
    "diff_dist(dist_type='geo_new', dist_hyperpara_list=[5, 10, 15, 20], input_file='nyc_10_20_172_1.2')\n",
    "diff_dist(dist_type='geo_new', dist_hyperpara_list=[5, 10, 15, 20], input_file='nyc_10_20_172_1.4')\n",
    "diff_dist(dist_type='geo_new', dist_hyperpara_list=[5, 10, 15, 20], input_file='nyc_10_20_172_1.6')\n",
    "diff_dist(dist_type='geo_new', dist_hyperpara_list=[5, 10, 15, 20], input_file='nyc_10_20_172_1.8')\n",
    "diff_dist(dist_type='geo_new', dist_hyperpara_list=[5, 10, 15, 20], input_file='nyc_10_20_172_2')"
   ]
  },
  {
   "cell_type": "code",
   "execution_count": null,
   "metadata": {},
   "outputs": [],
   "source": [
    "diff_dist(dist_type='geo_new', dist_hyperpara_list=[5, 10, 15, 20], input_file='nyc_10_20_172_2')"
   ]
  },
  {
   "cell_type": "code",
   "execution_count": null,
   "metadata": {},
   "outputs": [],
   "source": [
    "diff_dist(dist_type='geo_new', dist_hyperpara_list=[5, 10, 15, 20], input_file='nyc_10_20_172_3')"
   ]
  },
  {
   "cell_type": "code",
   "execution_count": null,
   "metadata": {},
   "outputs": [],
   "source": [
    "diff_dist(dist_type='geo_new', dist_hyperpara_list=[5, 10, 15, 20], input_file='nyc_10_20_172_1')"
   ]
  },
  {
   "cell_type": "code",
   "execution_count": null,
   "metadata": {},
   "outputs": [],
   "source": [
    "diff_dist(dist_type='geo_new', dist_hyperpara_list=[5, 10, 15, 20], input_file='nyc_10_20_172_1.5')"
   ]
  },
  {
   "cell_type": "code",
   "execution_count": null,
   "metadata": {},
   "outputs": [],
   "source": [
    "diff_dist(dist_type='geo_new', dist_hyperpara_list=[5, 10, 15, 20], input_file='nyc_20_40_138_1')\n",
    "diff_dist(dist_type='geo_new', dist_hyperpara_list=[5, 10, 15, 20], input_file='nyc_20_40_138_2')\n",
    "diff_dist(dist_type='geo_new', dist_hyperpara_list=[5, 10, 15, 20], input_file='nyc_20_40_138_3')\n",
    "diff_dist(dist_type='geo_new', dist_hyperpara_list=[5, 10, 15, 20], input_file='nyc_20_40_138_4')\n",
    "diff_dist(dist_type='geo_new', dist_hyperpara_list=[5, 10, 15, 20], input_file='nyc_20_40_138_5')"
   ]
  },
  {
   "cell_type": "code",
   "execution_count": null,
   "metadata": {},
   "outputs": [],
   "source": [
    "diff_dist(dist_type='uniform', dist_hyperpara_list=[5, 10, 15, 20], input_file='nyc_20_40_138_1')\n",
    "diff_dist(dist_type='uniform', dist_hyperpara_list=[5, 10, 15, 20], input_file='nyc_20_40_138_2')\n",
    "diff_dist(dist_type='uniform', dist_hyperpara_list=[5, 10, 15, 20], input_file='nyc_20_40_138_3')\n",
    "diff_dist(dist_type='uniform', dist_hyperpara_list=[5, 10, 15, 20], input_file='nyc_20_40_138_4')\n",
    "diff_dist(dist_type='uniform', dist_hyperpara_list=[5, 10, 15, 20], input_file='nyc_20_40_138_5')"
   ]
  },
  {
   "cell_type": "code",
   "execution_count": null,
   "metadata": {},
   "outputs": [],
   "source": [
    "diff_dist(dist_type='geo_new', dist_hyperpara_list=[2, 4, 6, 8, 10], input_file='nyc_20_40_138_1.2')"
   ]
  },
  {
   "cell_type": "code",
   "execution_count": null,
   "metadata": {},
   "outputs": [],
   "source": [
    "diff_dist(dist_type='geo_new', dist_hyperpara_list=[2, 4, 6, 8, 10], input_file='nyc_20_40_138_1.4')\n",
    "diff_dist(dist_type='geo_new', dist_hyperpara_list=[2, 4, 6, 8, 10], input_file='nyc_20_40_138_1.6')\n",
    "diff_dist(dist_type='geo_new', dist_hyperpara_list=[2, 4, 6, 8, 10], input_file='nyc_20_40_138_1.8')\n",
    "diff_dist(dist_type='geo_new', dist_hyperpara_list=[2, 4, 6, 8, 10], input_file='nyc_20_40_138_2')"
   ]
  },
  {
   "cell_type": "code",
   "execution_count": null,
   "metadata": {},
   "outputs": [],
   "source": [
    "diff_dist(dist_type='geo_new', dist_hyperpara_list=[2, 4, 6, 8, 10], input_file='nyc_20_40_138_3')"
   ]
  },
  {
   "cell_type": "code",
   "execution_count": null,
   "metadata": {},
   "outputs": [],
   "source": [
    "diff_dist(dist_type='geo_new', dist_hyperpara_list=[2, 4, 6, 8, 10], input_file='nyc_20_2_138_1')"
   ]
  },
  {
   "cell_type": "code",
   "execution_count": null,
   "metadata": {},
   "outputs": [],
   "source": [
    "diff_dist(dist_type='geo_new', dist_hyperpara_list=[2, 4, 6, 8, 10], input_file='nyc_20_40_138_3')"
   ]
  },
  {
   "cell_type": "code",
   "execution_count": null,
   "metadata": {},
   "outputs": [],
   "source": [
    "diff_dist(dist_type='geo_new', dist_hyperpara_list=[2, 4, 6, 8, 10, 12, 14, 16, 18, 20], input_file='nyc_20_40_138_2')"
   ]
  },
  {
   "cell_type": "code",
   "execution_count": null,
   "metadata": {},
   "outputs": [],
   "source": [
    "diff_dist(dist_type='geo_new', dist_hyperpara_list=[2, 4, 6, 8, 10, 12, 14, 16, 18, 20], input_file='nyc_10_20_20_1')"
   ]
  },
  {
   "cell_type": "code",
   "execution_count": null,
   "metadata": {},
   "outputs": [],
   "source": [
    "diff_dist(dist_type='geo_new', dist_hyperpara_list=[2, 4, 6, 8, 10, 12, 14, 16, 18, 20], input_file='nyc_10_20_20_2')"
   ]
  },
  {
   "cell_type": "code",
   "execution_count": null,
   "metadata": {},
   "outputs": [],
   "source": [
    "diff_dist(dist_type='geo_new', dist_hyperpara_list=[2, 4, 6, 8, 10, 12, 14, 16, 18, 20], input_file='nyc_10_20_20_3')"
   ]
  },
  {
   "cell_type": "code",
   "execution_count": null,
   "metadata": {},
   "outputs": [],
   "source": [
    "diff_gamma(dist_type = 'geo_new', dist_hyperpara = 10, density = 0.5, type_number= 50, gamma_list = [1, 2, 3, 4, 5,6, 7, 8, 9, 10], input_file='nyc_10_5_341')"
   ]
  },
  {
   "cell_type": "code",
   "execution_count": null,
   "metadata": {},
   "outputs": [],
   "source": [
    "diff_gamma(dist_type = 'geo', dist_hyperpara = 50, density = 0.5, type_number= 50, gamma_list = [1, 10], input_file='nyc_5_2_151_1')"
   ]
  },
  {
   "cell_type": "code",
   "execution_count": null,
   "metadata": {},
   "outputs": [],
   "source": [
    "diff_gamma(dist_type = 'geo', dist_hyperpara = 10, density = 0.5, type_number= 50, gamma_list = [1, 10], input_file='nyc_5_2_151_1')"
   ]
  },
  {
   "cell_type": "code",
   "execution_count": null,
   "metadata": {},
   "outputs": [],
   "source": [
    "para_list = [50, 60, 70, 80]\n",
    "for i in range(len(para_list)):\n",
    "    diff_gamma(dist_type = 'geo', dist_hyperpara = para_list[i], density = 0.5, type_number= 50, gamma_list = [1, 2, 3, 4, 5,6, 7, 8, 9, 10], input_file='nyc_10_5_341')\n",
    "    diff_gamma(dist_type = 'single', dist_hyperpara = para_list[i], density = 0.5, type_number= 50, gamma_list = [1, 2, 3, 4, 5,6, 7, 8, 9, 10],input_file='nyc_10_5_341')    \n",
    "    diff_gamma(dist_type = 'poisson', dist_hyperpara = para_list[i], density = 0.5, type_number= 50, gamma_list = [1, 2, 3, 4, 5,6, 7, 8, 9, 10], input_file='nyc_10_5_341')"
   ]
  },
  {
   "cell_type": "code",
   "execution_count": null,
   "metadata": {},
   "outputs": [],
   "source": []
  },
  {
   "cell_type": "code",
   "execution_count": null,
   "metadata": {},
   "outputs": [],
   "source": [
    "diff_dist(dist_type='single', dist_hyperpara_list =[40, 45, 50, 55, 60, 65, 70], input_file='nyc_10_5_341')"
   ]
  },
  {
   "cell_type": "code",
   "execution_count": null,
   "metadata": {},
   "outputs": [],
   "source": [
    "diff_dist(dist_type='geometric', dist_hyperpara_list=[0.1, 0.2, 0.3, 0.4, 0.5, 0.6, 0.7, 0.8, 0.9], input_file='nyc_10_2_341')\n",
    "diff_dist(dist_type='single', dist_hyperpara_list =[40, 45, 50, 55, 60, 65, 70], input_file='nyc_10_2_341')\n",
    "diff_dist(dist_type='poisson', dist_hyperpara_list =[40, 45, 50, 55, 60, 65, 70], input_file='nyc_10_2_341')"
   ]
  },
  {
   "cell_type": "code",
   "execution_count": null,
   "metadata": {},
   "outputs": [],
   "source": [
    "diff_dist(dist_type='single', dist_hyperpara_list =[5, 10, 15, 20, 25, 30, 35], input_file='nyc_10_2_341')\n",
    "diff_dist(dist_type='poisson', dist_hyperpara_list =[5, 10, 15, 20, 25, 30, 35], input_file='nyc_10_2_341')"
   ]
  },
  {
   "cell_type": "code",
   "execution_count": null,
   "metadata": {},
   "outputs": [],
   "source": [
    "diff_dist(dist_type='geometric', dist_hyperpara_list=[0.1, 0.2, 0.3, 0.4, 0.5, 0.6, 0.7, 0.8, 0.9], input_file='nyc_5_2_151')\n",
    "diff_dist(dist_type='single', dist_hyperpara_list =[5, 10, 15, 20, 25, 30, 35, 40, 45, 50, 55, 60, 65, 70], input_file='nyc_5_2_151')\n",
    "diff_dist(dist_type='poisson', dist_hyperpara_list =[5, 10, 15, 20, 25, 30, 35, 40, 45, 50, 55, 60, 65, 70], input_file='nyc_5_2_151')"
   ]
  },
  {
   "cell_type": "code",
   "execution_count": null,
   "metadata": {},
   "outputs": [],
   "source": [
    "diff_dist(dist_type='geometric', dist_hyperpara_list=[0.1, 0.2, 0.3, 0.4, 0.5, 0.6, 0.7, 0.8, 0.9], input_file='nyc_20_2_394')\n",
    "diff_dist(dist_type='single', dist_hyperpara_list =[5, 10, 15, 20, 25, 30, 35, 40, 45, 50, 55, 60, 65, 70], input_file='nyc_20_2_394')\n",
    "diff_dist(dist_type='poisson', dist_hyperpara_list =[5, 10, 15, 20, 25, 30, 35, 40, 45, 50, 55, 60, 65, 70], input_file='nyc_20_2_394')"
   ]
  },
  {
   "cell_type": "code",
   "execution_count": null,
   "metadata": {},
   "outputs": [],
   "source": []
  },
  {
   "cell_type": "code",
   "execution_count": null,
   "metadata": {},
   "outputs": [],
   "source": [
    "# test runtime\n",
    "diff_dist(dist_type='geometric', dist_hyperpara_list=[0.1, 0.2, 0.3, 0.4, 0.5, 0.6, 0.7, 0.8, 0.9], input_file='nyc_20_2_511')"
   ]
  },
  {
   "cell_type": "code",
   "execution_count": null,
   "metadata": {},
   "outputs": [],
   "source": []
  },
  {
   "cell_type": "code",
   "execution_count": null,
   "metadata": {},
   "outputs": [],
   "source": [
    "# test runtime\n",
    "diff_dist(dist_type='single', dist_hyperpara_list=[5, 10, 15, 20, 25, 30, 35, 40], input_file='nyc_20_2_511')"
   ]
  },
  {
   "cell_type": "code",
   "execution_count": null,
   "metadata": {},
   "outputs": [],
   "source": [
    "# test runtime\n",
    "diff_dist(dist_type='poisson', dist_hyperpara_list=[5, 10, 15, 20, 25, 30, 35, 40], input_file='nyc_20_2_511')"
   ]
  },
  {
   "cell_type": "code",
   "execution_count": null,
   "metadata": {},
   "outputs": [],
   "source": [
    "diff_dist(dist_type='geometric', dist_hyperpara_list=[0.1, 0.2, 0.3, 0.4, 0.5, 0.6, 0.7, 0.8, 0.9], input_file='nyc_20_2_511')\n"
   ]
  },
  {
   "cell_type": "code",
   "execution_count": null,
   "metadata": {},
   "outputs": [],
   "source": [
    "diff_dist(dist_type='single', dist_hyperpara_list=[5, 10, 15, 20, 25, 30, 35, 40], input_file='nyc_20_2_511')\n"
   ]
  },
  {
   "cell_type": "code",
   "execution_count": null,
   "metadata": {},
   "outputs": [],
   "source": [
    "diff_dist(dist_type='poisson', dist_hyperpara_list=[5, 10, 15, 20, 25, 30, 35, 40], input_file='nyc_20_2_511')\n"
   ]
  },
  {
   "cell_type": "code",
   "execution_count": null,
   "metadata": {},
   "outputs": [],
   "source": []
  }
 ],
 "metadata": {
  "kernelspec": {
   "display_name": "Python 3",
   "language": "python",
   "name": "python3"
  },
  "language_info": {
   "codemirror_mode": {
    "name": "ipython",
    "version": 3
   },
   "file_extension": ".py",
   "mimetype": "text/x-python",
   "name": "python",
   "nbconvert_exporter": "python",
   "pygments_lexer": "ipython3",
   "version": "3.9.6"
  }
 },
 "nbformat": 4,
 "nbformat_minor": 2
}
