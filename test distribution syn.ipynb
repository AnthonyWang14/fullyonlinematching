{
 "cells": [
  {
   "cell_type": "code",
   "execution_count": 1,
   "metadata": {},
   "outputs": [],
   "source": [
    "# for testing the distribution for the synthetic dataset.\n",
    "from eval import *\n",
    "np.random.seed(1)"
   ]
  },
  {
   "cell_type": "code",
   "execution_count": null,
   "metadata": {},
   "outputs": [
    {
     "name": "stdout",
     "output_type": "stream",
     "text": [
      "density 1 type_number 20 dist_type geo_new dist_hyperpara 10 gamma 1 testnum 3 save 0 algo_list ['OFF', 'RCP', 'GRD', 'BAT', 'SAM1', 'STH', 'COL1', 'CTH']\n",
      "max quit time 43\n",
      "col_counts 0 0\n",
      "max quit time 46\n",
      "col_counts 0 0\n",
      "max quit time 52\n",
      "col_counts 0 0\n",
      "optimal batch size 6\n",
      "optimal threshold for STH 0.1\n",
      "multiset_ratio_of_optimal_threshold 0.2773333333333333\n",
      "optimal threshold for CTH 0.1\n",
      "OFF 2085.3702779827504 1.0\n",
      "RCP 664.6002642446393 0.3186965265888079\n",
      "GRD 997.472033077679 0.4783189074904087\n",
      "BAT 1101.2597779273522 0.5280883637569814\n",
      "SAM1 1290.4053205942967 0.6187895426622028\n",
      "STH 1454.1313037286625 0.6973012510446314\n",
      "COL1 1228.5455402380699 0.5891258512739923\n",
      "CTH 1380.7973886438751 0.662135354676469\n",
      "{'OFF': 0.0, 'RCP': 0.028641351269655713, 'GRD': 0.019552431985429074, 'BAT': 0.02030935878612529, 'SAM1': 0.027648613588310444, 'STH': 0.00783212637920203, 'COL1': 0.03515873421437884, 'CTH': 0.019457887884374126}\n",
      "max quit time 40\n",
      "col_counts 0 0\n",
      "max quit time 57\n",
      "col_counts 0 0\n",
      "max quit time 57\n",
      "col_counts 0 0\n",
      "optimal batch size 5\n",
      "optimal threshold for STH 0.1\n",
      "multiset_ratio_of_optimal_threshold 0.21866666666666665\n",
      "optimal threshold for CTH 0.3\n",
      "OFF 2067.660779830043 1.0\n",
      "RCP 663.4237599035582 0.320857157216132\n",
      "GRD 1025.9922058326297 0.49620915376504066\n",
      "BAT 1161.1827967198299 0.5615925049442958\n",
      "SAM1 1230.128414404796 0.5949372481234131\n",
      "STH 1431.4103753198258 0.692284918920542\n",
      "COL1 1178.0790741114565 0.569764192271564\n",
      "CTH 1353.7020926017497 0.6547022150862778\n",
      "{'OFF': 0.0, 'RCP': 0.009614937335551289, 'GRD': 0.01683682004814954, 'BAT': 0.01652660731272203, 'SAM1': 0.011735775453285463, 'STH': 0.023161089146570436, 'COL1': 0.011082602182062152, 'CTH': 0.021206981771125514}\n",
      "max quit time 37\n",
      "col_counts 0 0\n",
      "max quit time 72\n",
      "col_counts 0 0\n",
      "max quit time 43\n",
      "col_counts 0 0\n",
      "optimal batch size 4\n",
      "optimal threshold for STH 0.1\n",
      "multiset_ratio_of_optimal_threshold 0.21066666666666667\n",
      "optimal threshold for CTH 0.1\n",
      "OFF 2098.0121634832026 1.0\n",
      "RCP 701.0171699090365 0.33413398745276107\n",
      "GRD 1039.2726426134561 0.49536063741785685\n",
      "BAT 1136.0339159113685 0.541481091332321\n",
      "SAM1 1286.2077949684099 0.6130602183130325\n",
      "STH 1535.0957553077635 0.731690588847272\n",
      "COL1 1261.7043302842371 0.6013808462337539\n",
      "CTH 1440.5010307209789 0.6866028023066378\n",
      "{'OFF': 0.0, 'RCP': 0.030242041683346304, 'GRD': 0.0171271654851628, 'BAT': 0.027447497036136106, 'SAM1': 0.026278791161089915, 'STH': 0.021170526299612434, 'COL1': 0.03457694155465759, 'CTH': 0.03285005945909734}\n",
      "density 1 type_number 20 dist_type geo_new dist_hyperpara 12 gamma 1 testnum 3 save 0 algo_list ['OFF', 'RCP', 'GRD', 'BAT', 'SAM1', 'STH', 'COL1', 'CTH']\n",
      "max quit time 52\n",
      "col_counts 1 1\n",
      "max quit time 52\n",
      "col_counts 1 1\n",
      "max quit time 56\n",
      "col_counts 1 1\n"
     ]
    }
   ],
   "source": [
    "# add bsize range\n",
    "diff_dist(dist_type='geo_new', dist_hyperpara_list=[10, 12, 14, 16, 18, 20], input_file=None)"
   ]
  },
  {
   "cell_type": "code",
   "execution_count": 2,
   "metadata": {},
   "outputs": [
    {
     "name": "stdout",
     "output_type": "stream",
     "text": [
      "density 1 type_number 20 dist_type geo_new dist_hyperpara 10 gamma 1 testnum 3 save 0 algo_list ['OFF', 'GRD', 'HG', 'BAT', 'RCP', 'SAM1', 'STH', 'COL1', 'CTH']\n",
      "test file nyc_20_1.3\n",
      "max quit time 62\n",
      "col_counts 1 1\n",
      "max quit time 39\n",
      "col_counts 1 1\n",
      "max quit time 47\n",
      "col_counts 1 1\n",
      "optimal batch size 7\n",
      "optimal threshold for STH 0.2\n",
      "multiset_ratio_of_optimal_threshold 0.0\n",
      "optimal threshold for CTH 0.4\n",
      "OFF 9.446657682925482 1.0\n",
      "GRD 5.626558900580531 0.5956137175109403\n",
      "HG 3.4555769169660304 0.3657988923650605\n",
      "BAT 5.103617891793464 0.5402564656299638\n",
      "RCP 2.2145559579391496 0.23442745913635524\n",
      "SAM1 5.9984908931581336 0.63498552551557\n",
      "STH 7.053533858139602 0.7466697846888883\n",
      "COL1 5.825891968593573 0.6167146269228828\n",
      "CTH 6.998227857377359 0.7408152271703909\n",
      "{'OFF': 0.0, 'GRD': 0.011244590948328805, 'HG': 0.06034817546574933, 'BAT': 0.015877277062416168, 'RCP': 0.04613308122441609, 'SAM1': 0.07473809714825837, 'STH': 0.03909917204872394, 'COL1': 0.05284875980079495, 'CTH': 0.041103006155338975}\n",
      "max quit time 38\n",
      "col_counts 1 1\n",
      "max quit time 46\n",
      "col_counts 1 1\n",
      "max quit time 44\n",
      "col_counts 1 1\n",
      "optimal batch size 7\n",
      "optimal threshold for STH 0.1\n",
      "multiset_ratio_of_optimal_threshold 0.0\n",
      "optimal threshold for CTH 0.1\n",
      "OFF 8.988830128706683 1.0\n",
      "GRD 5.282628872470461 0.5876881414857184\n",
      "HG 3.10536454473848 0.34546926577477566\n",
      "BAT 4.514790433557045 0.5022667431592275\n",
      "RCP 2.2190598463769344 0.2468685929763158\n",
      "SAM1 5.939099859622164 0.6607200018893543\n",
      "STH 6.940262526035745 0.7720985296931308\n",
      "COL1 5.966790972029906 0.6638006154966031\n",
      "CTH 6.756151308262382 0.751616307297428\n",
      "{'OFF': 0.0, 'GRD': 0.009856179558618096, 'HG': 0.010332164218152456, 'BAT': 0.04062409105060227, 'RCP': 0.011223062189394135, 'SAM1': 0.024993597517127725, 'STH': 0.017483427219880502, 'COL1': 0.041823075625428835, 'CTH': 0.04905320850730744}\n",
      "max quit time 73\n",
      "col_counts 1 1\n",
      "max quit time 54\n",
      "col_counts 1 1\n",
      "max quit time 52\n",
      "col_counts 1 1\n",
      "optimal batch size 5\n",
      "optimal threshold for STH 0.1\n",
      "multiset_ratio_of_optimal_threshold 0.0\n",
      "optimal threshold for CTH 0.4\n",
      "OFF 9.592137678431689 1.0\n",
      "GRD 5.762610413820606 0.6007639388640208\n",
      "HG 3.386470182869701 0.3530464528761213\n",
      "BAT 4.912844028730333 0.5121740526907848\n",
      "RCP 2.466598137630128 0.25714790803893217\n",
      "SAM1 6.229554717135248 0.6494438388997121\n",
      "STH 7.339495839512097 0.7651574743360129\n",
      "COL1 6.393584222091665 0.6665442507636122\n",
      "CTH 7.220600730807349 0.7527624157275352\n",
      "{'OFF': 0.0, 'GRD': 0.024710828163385802, 'HG': 0.02727485179188117, 'BAT': 0.04183598389082981, 'RCP': 0.05278266417189699, 'SAM1': 0.01899379822994064, 'STH': 0.008476121013009829, 'COL1': 0.04187950389083654, 'CTH': 0.025932573616517154}\n",
      "density 1 type_number 20 dist_type geo_new dist_hyperpara 12 gamma 1 testnum 3 save 0 algo_list ['OFF', 'GRD', 'HG', 'BAT', 'RCP', 'SAM1', 'STH', 'COL1', 'CTH']\n",
      "test file nyc_20_1.3\n",
      "max quit time 75\n",
      "col_counts 1 1\n",
      "max quit time 55\n",
      "col_counts 1 1\n",
      "max quit time 91\n",
      "col_counts 1 1\n",
      "optimal batch size 7\n",
      "optimal threshold for STH 0.2\n",
      "multiset_ratio_of_optimal_threshold 0.0\n",
      "optimal threshold for CTH 0.1\n",
      "OFF 10.122385924905636 1.0\n",
      "GRD 5.842913874816079 0.5772269421619142\n",
      "HG 3.4756993845468585 0.34336760229572655\n",
      "BAT 5.27547428070998 0.5211690524197395\n",
      "RCP 1.0128171716259542 0.1000571583754742\n",
      "SAM1 6.17629557399728 0.6101620329255384\n",
      "STH 7.569904955679725 0.74783801090357\n",
      "COL1 6.434423538842214 0.635662736688455\n",
      "CTH 7.554280604972047 0.7462944666420106\n",
      "{'OFF': 0.0, 'GRD': 0.03016048057296366, 'HG': 0.06287172028885574, 'BAT': 0.04467464646935081, 'RCP': 0.01945628653315895, 'SAM1': 0.036810337902903625, 'STH': 0.030869326801577522, 'COL1': 0.009098923284819862, 'CTH': 0.027150977398653832}\n",
      "max quit time 62\n",
      "col_counts 1 1\n",
      "max quit time 50\n",
      "col_counts 1 1\n",
      "max quit time 46\n",
      "col_counts 1 1\n",
      "optimal batch size 7\n",
      "optimal threshold for STH 0.1\n",
      "multiset_ratio_of_optimal_threshold 0.0\n",
      "optimal threshold for CTH 0.2\n",
      "OFF 9.6312518694449 1.0\n",
      "GRD 5.8696775604133125 0.6094407705227641\n",
      "HG 3.331332603618534 0.3458878086437725\n",
      "BAT 4.94714889527086 0.5136558530844434\n",
      "RCP 1.1996434385436456 0.12455737372516532\n",
      "SAM1 6.260721147615737 0.6500423031691076\n",
      "STH 7.448646470951474 0.7733830006649778\n",
      "COL1 6.027866481936066 0.6258653146699904\n",
      "CTH 7.355469779585184 0.763708589422355\n",
      "{'OFF': 0.0, 'GRD': 0.03302600627657274, 'HG': 0.015272423187846601, 'BAT': 0.004643932222137028, 'RCP': 0.019620548532241613, 'SAM1': 0.029285730697183755, 'STH': 0.013318187909077068, 'COL1': 0.026950090663675486, 'CTH': 0.025451396066213584}\n",
      "max quit time 56\n",
      "col_counts 1 1\n",
      "max quit time 55\n",
      "col_counts 1 1\n",
      "max quit time 61\n",
      "col_counts 1 1\n",
      "optimal batch size 9\n",
      "optimal threshold for STH 0.2\n",
      "multiset_ratio_of_optimal_threshold 0.0\n",
      "optimal threshold for CTH 0.1\n",
      "OFF 10.10171722118663 1.0\n",
      "GRD 5.7894109937788905 0.573111567767566\n",
      "HG 3.4073748161080846 0.3373064936881916\n",
      "BAT 5.180154962283846 0.5127994427936821\n",
      "RCP 1.5845247835307352 0.15685697281324254\n",
      "SAM1 6.399884482069961 0.6335442125272813\n",
      "STH 7.684257114270342 0.7606882024131424\n",
      "COL1 6.32183878552717 0.6258182294262\n",
      "CTH 7.7092908301977685 0.7631663668063133\n",
      "{'OFF': 0.0, 'GRD': 0.008597353687461127, 'HG': 0.012684794114592748, 'BAT': 0.033170895890936435, 'RCP': 0.007783499793181483, 'SAM1': 0.013772853824732168, 'STH': 0.04376576858034152, 'COL1': 0.027729253626599153, 'CTH': 0.032414419325853004}\n",
      "density 1 type_number 20 dist_type geo_new dist_hyperpara 14 gamma 1 testnum 3 save 0 algo_list ['OFF', 'GRD', 'HG', 'BAT', 'RCP', 'SAM1', 'STH', 'COL1', 'CTH']\n",
      "test file nyc_20_1.3\n",
      "max quit time 88\n",
      "col_counts 3 3\n",
      "max quit time 68\n",
      "col_counts 3 3\n",
      "max quit time 58\n",
      "col_counts 3 3\n",
      "optimal batch size 7\n",
      "optimal threshold for STH 0.2\n",
      "multiset_ratio_of_optimal_threshold 0.0\n",
      "optimal threshold for CTH 0.1\n",
      "OFF 10.218708727446378 1.0\n",
      "GRD 5.92080419311197 0.5794082550967826\n",
      "HG 3.607031673482956 0.3529831184829496\n",
      "BAT 5.474358105314699 0.5357191648501682\n",
      "RCP 1.647070711594437 0.16118188271386757\n",
      "SAM1 6.290262669042709 0.6155633590130349\n",
      "STH 7.573176117583767 0.7411089130315469\n",
      "COL1 6.089069039595838 0.5958746062740039\n",
      "CTH 7.516676086028792 0.735579835624416\n",
      "{'OFF': 0.0, 'GRD': 0.005510367748949011, 'HG': 0.042565103754189586, 'BAT': 0.04696453928484409, 'RCP': 0.006938314654848286, 'SAM1': 0.030017516218146696, 'STH': 0.024384894975372107, 'COL1': 0.01271777720257556, 'CTH': 0.027200648241118175}\n",
      "max quit time 72\n",
      "col_counts 3 3\n",
      "max quit time 56\n",
      "col_counts 3 3\n",
      "max quit time 73\n",
      "col_counts 3 3\n",
      "optimal batch size 6\n",
      "optimal threshold for STH 0.1\n",
      "multiset_ratio_of_optimal_threshold 0.0\n",
      "optimal threshold for CTH 0.3\n",
      "OFF 10.028552141189875 1.0\n",
      "GRD 5.799596200041619 0.578308425622196\n",
      "HG 3.2912026780979757 0.32818323440530855\n",
      "BAT 5.299510522694853 0.5284422365346623\n",
      "RCP 2.214075064654829 0.22077714045690064\n",
      "SAM1 6.192573758515203 0.6174942974151463\n",
      "STH 7.970688925143848 0.7947995695616072\n",
      "COL1 6.074881787234239 0.6057586081926142\n",
      "CTH 7.819028244037824 0.779676680537267\n",
      "{'OFF': 0.0, 'GRD': 0.017664727113310737, 'HG': 0.01861164180209034, 'BAT': 0.01558943440209672, 'RCP': 0.0213493510799314, 'SAM1': 0.05011642827801331, 'STH': 0.03216303628070018, 'COL1': 0.05824943650906063, 'CTH': 0.029601700650541622}\n",
      "max quit time 116\n",
      "col_counts 3 3\n",
      "max quit time 56\n",
      "col_counts 3 3\n",
      "max quit time 79\n",
      "col_counts 3 3\n",
      "optimal batch size 7\n",
      "optimal threshold for STH 0.1\n",
      "multiset_ratio_of_optimal_threshold 0.0\n",
      "optimal threshold for CTH 0.3\n",
      "OFF 10.286500519786651 1.0\n",
      "GRD 5.878489898431081 0.5714761679274192\n",
      "HG 3.33260868093109 0.32397885700006857\n",
      "BAT 5.385184409924601 0.5235195778745066\n",
      "RCP 2.0448021079571563 0.1987850099286795\n",
      "SAM1 6.477248176794794 0.6296843289256099\n",
      "STH 7.845466168263577 0.7626953552544318\n",
      "COL1 6.009826981901767 0.5842440750711608\n",
      "CTH 7.805406170368229 0.75880093092438\n",
      "{'OFF': 0.0, 'GRD': 0.012606608600152803, 'HG': 0.027025452618313926, 'BAT': 0.01471398841426775, 'RCP': 0.020827937077599345, 'SAM1': 0.03914926462694667, 'STH': 0.030215549030361652, 'COL1': 0.07284356755199314, 'CTH': 0.02900262054536824}\n",
      "density 1 type_number 20 dist_type geo_new dist_hyperpara 16 gamma 1 testnum 3 save 0 algo_list ['OFF', 'GRD', 'HG', 'BAT', 'RCP', 'SAM1', 'STH', 'COL1', 'CTH']\n",
      "test file nyc_20_1.3\n",
      "max quit time 101\n",
      "col_counts 4 4\n",
      "max quit time 78\n",
      "col_counts 4 4\n",
      "max quit time 70\n",
      "col_counts 4 4\n",
      "optimal batch size 7\n",
      "optimal threshold for STH 0.1\n",
      "multiset_ratio_of_optimal_threshold 0.0\n",
      "optimal threshold for CTH 0.1\n",
      "OFF 10.38685008269831 1.0\n",
      "GRD 5.992667461389733 0.5769475263123226\n",
      "HG 3.4349772269749264 0.3307044194944791\n",
      "BAT 5.628455951193788 0.5418828524895414\n",
      "RCP 2.6086872120746336 0.2511528703413177\n",
      "SAM1 6.250013293019783 0.6017236451145683\n",
      "STH 8.129117764337646 0.7826355150613528\n",
      "COL1 6.3175647487705975 0.6082272005922138\n",
      "CTH 8.073191380793228 0.7772511701349177\n",
      "{'OFF': 0.0, 'GRD': 0.00982939533333271, 'HG': 0.051852829488609684, 'BAT': 0.040085033453224346, 'RCP': 0.019907697408240676, 'SAM1': 0.0166369863905243, 'STH': 0.031918342326846684, 'COL1': 0.014929485773497925, 'CTH': 0.024070254932917055}\n",
      "max quit time 64\n",
      "col_counts 4 4\n",
      "max quit time 93\n",
      "col_counts 4 4\n",
      "max quit time 86\n",
      "col_counts 4 4\n",
      "optimal batch size 9\n",
      "optimal threshold for STH 0.1\n",
      "multiset_ratio_of_optimal_threshold 0.0\n",
      "optimal threshold for CTH 0.1\n",
      "OFF 10.642260230481545 1.0\n",
      "GRD 5.9959982363239455 0.5634139841036979\n",
      "HG 3.2033654661861886 0.3010042412805425\n",
      "BAT 5.785794173980707 0.5436621590410884\n",
      "RCP 2.663655651385767 0.2502904076482295\n",
      "SAM1 6.524697038389856 0.6130931679063654\n",
      "STH 8.296221069017596 0.7795544263478517\n",
      "COL1 6.459020992597108 0.6069219181558059\n",
      "CTH 8.220689900850594 0.7724571400072427\n",
      "{'OFF': 0.0, 'GRD': 0.010667581527230317, 'HG': 0.02564553354068464, 'BAT': 0.008108422130363776, 'RCP': 0.014657183976345191, 'SAM1': 0.06734808772572524, 'STH': 0.047953752798142006, 'COL1': 0.048196349405191, 'CTH': 0.044440748046903115}\n",
      "max quit time 81\n",
      "col_counts 4 4\n",
      "max quit time 71\n",
      "col_counts 4 4\n",
      "max quit time 65\n",
      "col_counts 4 4\n",
      "optimal batch size 8\n",
      "optimal threshold for STH 0.1\n",
      "multiset_ratio_of_optimal_threshold 0.0\n",
      "optimal threshold for CTH 0.1\n",
      "OFF 11.248996248927819 1.0\n",
      "GRD 5.7840219440946505 0.5141811603542802\n",
      "HG 3.454369097194304 0.3070824294677449\n",
      "BAT 6.066957538541227 0.5393332350981529\n",
      "RCP 3.1708916516815098 0.28188218588691755\n",
      "SAM1 7.298104753736873 0.6487783080585952\n",
      "STH 8.810147482794266 0.7831940990854177\n",
      "COL1 7.058487951699216 0.627477136226442\n",
      "CTH 8.747325737662157 0.7776094456868448\n",
      "{'OFF': 0.0, 'GRD': 0.039744360670363445, 'HG': 0.004036141987527048, 'BAT': 0.021232127246657444, 'RCP': 0.0059410919220822984, 'SAM1': 0.035306353729070934, 'STH': 0.029414708272942826, 'COL1': 0.02609044133466998, 'CTH': 0.034004473985273995}\n",
      "density 1 type_number 20 dist_type geo_new dist_hyperpara 18 gamma 1 testnum 3 save 0 algo_list ['OFF', 'GRD', 'HG', 'BAT', 'RCP', 'SAM1', 'STH', 'COL1', 'CTH']\n",
      "test file nyc_20_1.3\n",
      "max quit time 114\n",
      "col_counts 5 5\n",
      "max quit time 79\n",
      "col_counts 5 5\n",
      "max quit time 69\n",
      "col_counts 5 5\n",
      "optimal batch size 11\n",
      "optimal threshold for STH 0.2\n",
      "multiset_ratio_of_optimal_threshold 0.0\n",
      "optimal threshold for CTH 0.1\n",
      "OFF 10.47719160753608 1.0\n",
      "GRD 6.087888235231355 0.5810610766011411\n",
      "HG 3.397802600759217 0.32430471141858574\n",
      "BAT 5.662163100396992 0.5404275604088682\n",
      "RCP 1.9886509410202642 0.1898076331437767\n",
      "SAM1 6.135322284855714 0.5855884396008061\n",
      "STH 7.8490015671664315 0.7491512860679925\n",
      "COL1 6.32479096893091 0.6036723585718894\n",
      "CTH 7.771740255191258 0.7417770473531444\n",
      "{'OFF': 0.0, 'GRD': 0.02465995403666328, 'HG': 0.04983931060984784, 'BAT': 0.008153466518342813, 'RCP': 0.027803876964481878, 'SAM1': 0.026718142775789447, 'STH': 0.019871921370339826, 'COL1': 0.040573594824689106, 'CTH': 0.024038940678801836}\n",
      "max quit time 105\n",
      "col_counts 5 5\n",
      "max quit time 91\n",
      "col_counts 5 5\n",
      "max quit time 69\n",
      "col_counts 5 5\n",
      "optimal batch size 10\n",
      "optimal threshold for STH 0.2\n",
      "multiset_ratio_of_optimal_threshold 0.0\n",
      "optimal threshold for CTH 0.1\n",
      "OFF 10.982191509658401 1.0\n",
      "GRD 5.982013133850674 0.5447012218453604\n",
      "HG 3.401794888430121 0.30975556066732013\n",
      "BAT 5.864063754224783 0.5339611633131304\n",
      "RCP 2.059582306674234 0.18753837108585414\n",
      "SAM1 6.322092887724053 0.5756676963941144\n",
      "STH 8.374680298790862 0.7625691367179004\n",
      "COL1 6.586052375910206 0.5997029254241318\n",
      "CTH 8.202373389244844 0.7468794713724654\n",
      "{'OFF': 0.0, 'GRD': 0.017230105977969572, 'HG': 0.03722544701096646, 'BAT': 0.050429822865338876, 'RCP': 0.03262610376537839, 'SAM1': 0.008037892706040545, 'STH': 0.010017527150243509, 'COL1': 0.02344213850365447, 'CTH': 0.01266871202174056}\n",
      "max quit time 74\n",
      "col_counts 5 5\n",
      "max quit time 77\n",
      "col_counts 5 5\n",
      "max quit time 88\n",
      "col_counts 5 5\n",
      "optimal batch size 10\n",
      "optimal threshold for STH 0.1\n",
      "multiset_ratio_of_optimal_threshold 0.0\n",
      "optimal threshold for CTH 0.1\n",
      "OFF 10.744265858478622 1.0\n",
      "GRD 5.711587522539477 0.5315940239911592\n",
      "HG 3.2238984804814965 0.30005758633917473\n",
      "BAT 5.567167895825917 0.5181524702716378\n",
      "RCP 2.0882449814300323 0.19435901986566498\n",
      "SAM1 6.711276833562685 0.6246380089586685\n",
      "STH 8.4206904884156 0.7837380980079324\n",
      "COL1 6.637706221266105 0.617790578592961\n",
      "CTH 8.335038835356906 0.7757662501230345\n",
      "{'OFF': 0.0, 'GRD': 0.021798003232484684, 'HG': 0.0037014168397048156, 'BAT': 0.01559053882617814, 'RCP': 0.02355161497273657, 'SAM1': 0.028255072137574666, 'STH': 0.009889743949582436, 'COL1': 0.020863087089484665, 'CTH': 0.008879733820608452}\n",
      "density 1 type_number 20 dist_type geo_new dist_hyperpara 20 gamma 1 testnum 3 save 0 algo_list ['OFF', 'GRD', 'HG', 'BAT', 'RCP', 'SAM1', 'STH', 'COL1', 'CTH']\n",
      "test file nyc_20_1.3\n",
      "max quit time 127\n",
      "col_counts 5 5\n",
      "max quit time 153\n",
      "col_counts 5 5\n",
      "max quit time 84\n",
      "col_counts 5 5\n",
      "optimal batch size 9\n",
      "optimal threshold for STH 0.1\n",
      "multiset_ratio_of_optimal_threshold 0.0\n",
      "optimal threshold for CTH 0.1\n",
      "OFF 11.416349306338278 1.0\n",
      "GRD 6.191938653607134 0.5423746670198163\n",
      "HG 3.6216541570305494 0.3172340001036787\n",
      "BAT 6.299461755922722 0.5517930107854447\n",
      "RCP 2.66784723890922 0.2336865461385322\n",
      "SAM1 6.296389934004151 0.5515239386121831\n",
      "STH 8.971382123782965 0.785836337260819\n",
      "COL1 6.889737334560394 0.6034974184554128\n",
      "CTH 8.762701462480265 0.7675572310681905\n",
      "{'OFF': 0.0, 'GRD': 0.015188168178943421, 'HG': 0.048093230649737626, 'BAT': 0.013728791894428985, 'RCP': 0.03097330968607419, 'SAM1': 0.03617610705833489, 'STH': 0.01853133726592494, 'COL1': 0.0428696751632543, 'CTH': 0.019512305751412003}\n",
      "max quit time 77\n",
      "col_counts 5 5\n",
      "max quit time 130\n",
      "col_counts 5 5\n",
      "max quit time 89\n",
      "col_counts 5 5\n",
      "optimal batch size 8\n",
      "optimal threshold for STH 0.1\n",
      "multiset_ratio_of_optimal_threshold 0.0\n",
      "optimal threshold for CTH 0.1\n",
      "OFF 10.700336787592976 1.0\n",
      "GRD 5.75523396967501 0.5378554043596268\n",
      "HG 3.4461826015750394 0.32206300324779336\n",
      "BAT 5.655490448431453 0.5285338733439667\n",
      "RCP 2.1034424617299954 0.1965772202767425\n",
      "SAM1 6.1482943548707665 0.5745888635953688\n",
      "STH 7.861228408364409 0.7346711196491956\n",
      "COL1 6.092032935169694 0.5693309524830468\n",
      "CTH 7.790536088145029 0.7280645686945241\n",
      "{'OFF': 0.0, 'GRD': 0.02683106672759615, 'HG': 0.04702122855732341, 'BAT': 0.040607775192285075, 'RCP': 0.035681412823309853, 'SAM1': 0.023609689457433584, 'STH': 0.037449773645845924, 'COL1': 0.02793812225588887, 'CTH': 0.016621132158219837}\n",
      "max quit time 75\n",
      "col_counts 5 5\n",
      "max quit time 69\n",
      "col_counts 5 5\n",
      "max quit time 74\n",
      "col_counts 5 5\n",
      "optimal batch size 7\n",
      "optimal threshold for STH 0.2\n",
      "multiset_ratio_of_optimal_threshold 0.0\n",
      "optimal threshold for CTH 0.1\n",
      "OFF 10.991185120908542 1.0\n",
      "GRD 6.018025721234586 0.5475320136121162\n",
      "HG 3.613925517421997 0.3288021698904173\n",
      "BAT 5.887925932045327 0.5356952746473826\n",
      "RCP 2.8217554080627725 0.2567289493373144\n",
      "SAM1 6.136840894349686 0.558342055641986\n",
      "STH 8.499978825670373 0.773345069905233\n",
      "COL1 6.261125074874844 0.5696496789017137\n",
      "CTH 8.532424998718675 0.7762970876077262\n",
      "{'OFF': 0.0, 'GRD': 0.014165398491865318, 'HG': 0.015829797173853986, 'BAT': 0.011357401068622798, 'RCP': 0.024838803125732518, 'SAM1': 0.05110257264054474, 'STH': 0.021912822791862102, 'COL1': 0.0403726694836234, 'CTH': 0.03699590954013093}\n",
      "save to file result/geo_newnyc_20_1.3\n"
     ]
    }
   ],
   "source": [
    "diff_dist(dist_type='geo_new', dist_hyperpara_list=[10, 12, 14, 16, 18, 20], input_file='nyc_20_1.3')"
   ]
  },
  {
   "cell_type": "code",
   "execution_count": null,
   "metadata": {},
   "outputs": [],
   "source": [
    "diff_dist(dist_type='uniform', dist_hyperpara_list=[2, 4, 6, 8, 10, 12, 14, 16, 18, 20], input_file=None)"
   ]
  },
  {
   "cell_type": "code",
   "execution_count": null,
   "metadata": {},
   "outputs": [],
   "source": [
    "diff_dist(dist_type='poisson', dist_hyperpara_list=[2, 4, 6, 8, 10, 12, 14, 16, 18, 20], input_file=None)"
   ]
  },
  {
   "cell_type": "code",
   "execution_count": null,
   "metadata": {},
   "outputs": [],
   "source": [
    "diff_dist(dist_type='geo_new', dist_hyperpara_list=[2, 4, 6, 8, 10, 12, 14, 16, 18, 20], input_file=None)"
   ]
  },
  {
   "cell_type": "code",
   "execution_count": null,
   "metadata": {},
   "outputs": [],
   "source": [
    "diff_dist(dist_type='poisson', dist_hyperpara_list=[2, 4, 6, 8, 10, 12, 14, 16, 18, 20], input_file=None)"
   ]
  },
  {
   "cell_type": "code",
   "execution_count": null,
   "metadata": {},
   "outputs": [],
   "source": [
    "diff_dist(dist_type='single', dist_hyperpara_list=[5, 10, 15, 20, 25, 30, 35, 40, 45, 50], input_file=None)"
   ]
  },
  {
   "cell_type": "code",
   "execution_count": null,
   "metadata": {},
   "outputs": [],
   "source": []
  },
  {
   "cell_type": "code",
   "execution_count": null,
   "metadata": {},
   "outputs": [],
   "source": [
    "diff_dist(dist_type='poisson', dist_hyperpara_list=[5, 10, 15, 20, 25, 30, 35, 40, 45, 50], input_file=None)"
   ]
  },
  {
   "cell_type": "code",
   "execution_count": null,
   "metadata": {},
   "outputs": [],
   "source": [
    "diff_dist(dist_type='geo_new', dist_hyperpara_list=[5, 10, 15, 20, 25, 30, 35, 40, 45, 50], input_file=None)"
   ]
  },
  {
   "cell_type": "code",
   "execution_count": null,
   "metadata": {},
   "outputs": [],
   "source": [
    "# tn = 20, w_std = 10, density = 0.3\n",
    "diff_dist(dist_type='geo_new', dist_hyperpara_list=[5, 10, 15, 20, 25, 30, 35, 40, 45, 50], input_file=None)"
   ]
  },
  {
   "cell_type": "code",
   "execution_count": null,
   "metadata": {},
   "outputs": [],
   "source": [
    "# tn = 50, w_std = 10, density = 0.3\n",
    "diff_dist(dist_type='geo_new', dist_hyperpara_list=[5, 10, 15, 20], input_file=None)"
   ]
  },
  {
   "cell_type": "code",
   "execution_count": null,
   "metadata": {},
   "outputs": [],
   "source": [
    "# tn = 10, w_std = 10, density = 0.3\n",
    "diff_dist(dist_type='geo_new', dist_hyperpara_list=[5, 10, 15, 20], input_file=None)"
   ]
  },
  {
   "cell_type": "code",
   "execution_count": null,
   "metadata": {},
   "outputs": [],
   "source": [
    "# tn = 10, w_std = 10, density = 0.3\n",
    "diff_dist(dist_type='geo_new', dist_hyperpara_list=[5, 10, 15, 20], input_file=None)"
   ]
  },
  {
   "cell_type": "code",
   "execution_count": null,
   "metadata": {},
   "outputs": [],
   "source": [
    "# tn = 20, w_std = 10, density = 1\n",
    "diff_dist(dist_type='geo_new', dist_hyperpara_list=[5, 10, 15, 20, 25, 30, 35, 40, 45, 50], input_file=None)"
   ]
  },
  {
   "cell_type": "code",
   "execution_count": null,
   "metadata": {},
   "outputs": [],
   "source": [
    "# tn = 20, w_std = 10, density = 1\n",
    "diff_dist(dist_type='geo_new', dist_hyperpara_list=[5, 10, 15, 20, 25, 30, 35, 40, 45, 50], input_file=None)"
   ]
  },
  {
   "cell_type": "code",
   "execution_count": null,
   "metadata": {},
   "outputs": [],
   "source": [
    "# tn = 50, w_std = 10, density = 1\n",
    "diff_dist(dist_type='geo_new', dist_hyperpara_list=[5, 10, 15, 20, 25, 30, 35, 40, 45, 50, 55, 60, 65, 70, 75, 80], input_file=None)"
   ]
  },
  {
   "cell_type": "code",
   "execution_count": null,
   "metadata": {},
   "outputs": [],
   "source": [
    "# tn = 50, w_std = 10, density = 1\n",
    "diff_dist(dist_type='geo_new', dist_hyperpara_list=[5, 10, 15, 20, 25, 30, 35, 40, 45, 50, 55, 60, 65, 70, 75, 80], input_file=None)"
   ]
  },
  {
   "cell_type": "code",
   "execution_count": null,
   "metadata": {},
   "outputs": [],
   "source": [
    "# tn = 50, w_std = 10, density = 0.3\n",
    "diff_dist(dist_type='geo_new', dist_hyperpara_list=[5, 10, 15, 20, 25, 30, 35, 40, 45, 50, 55, 60, 65, 70, 75, 80], input_file=None)"
   ]
  },
  {
   "cell_type": "code",
   "execution_count": null,
   "metadata": {},
   "outputs": [],
   "source": [
    "# tn = 50, w_std = 10, density = 0.3\n",
    "diff_dist(dist_type='geo_new', dist_hyperpara_list=[5, 10, 15, 20, 25, 30, 35, 40, 45, 50, 55, 60, 65, 70, 75, 80], input_file=None)"
   ]
  },
  {
   "cell_type": "code",
   "execution_count": null,
   "metadata": {},
   "outputs": [],
   "source": [
    "# tn = 50, w_std = 10, density = 0.2\n",
    "diff_dist(dist_type='geo_new', dist_hyperpara_list=[5, 10, 15, 20, 25, 30, 35, 40, 45, 50, 55, 60, 65, 70, 75, 80], input_file=None)"
   ]
  },
  {
   "cell_type": "code",
   "execution_count": null,
   "metadata": {},
   "outputs": [],
   "source": [
    "# tn = 50, w_std = 10, density = 0.2\n",
    "diff_dist(dist_type='geo_new', dist_hyperpara_list=[5, 10, 15, 20, 25, 30, 35, 40, 45, 50, 55, 60, 65, 70, 75, 80, 85, 90, 95, 100], input_file=None)"
   ]
  },
  {
   "cell_type": "code",
   "execution_count": null,
   "metadata": {},
   "outputs": [],
   "source": []
  },
  {
   "cell_type": "code",
   "execution_count": null,
   "metadata": {},
   "outputs": [],
   "source": [
    "# tn = 100, w_std = 10, density = 0.2\n",
    "diff_dist(dist_type='geo_new', dist_hyperpara_list=[5, 10, 15, 20, 25, 30, 35, 40, 45, 50, 55, 60, 65, 70, 75, 80, 85, 90, 95, 100], input_file=None)"
   ]
  },
  {
   "cell_type": "code",
   "execution_count": null,
   "metadata": {},
   "outputs": [],
   "source": [
    "# tn = 50, w_std = 1, density = 1\n",
    "diff_dist(dist_type='geo_new', dist_hyperpara_list=[5, 10, 15, 20, 25, 30, 35, 40, 45, 50, 55, 60, 65, 70, 75, 80], input_file=None)"
   ]
  },
  {
   "cell_type": "code",
   "execution_count": null,
   "metadata": {},
   "outputs": [],
   "source": [
    "# tn = 50, w_std = 1, density = 1\n",
    "diff_dist(dist_type='poisson', dist_hyperpara_list=[5, 10, 15, 20, 25, 30, 35, 40, 45, 50, 55, 60, 65, 70, 75, 80], input_file=None)"
   ]
  },
  {
   "cell_type": "code",
   "execution_count": null,
   "metadata": {},
   "outputs": [],
   "source": [
    "# tn = 50, w_std = 1, density = 1\n",
    "diff_dist(dist_type='single', dist_hyperpara_list=[5, 10, 15, 20, 25, 30, 35, 40, 45, 50, 55, 60, 65, 70, 75, 80], input_file=None)"
   ]
  },
  {
   "cell_type": "code",
   "execution_count": null,
   "metadata": {},
   "outputs": [],
   "source": [
    "# tn = 50, w_std = 10, density = 1\n",
    "diff_dist(dist_type='geo_new', dist_hyperpara_list=[5, 10, 15, 20, 25, 30, 35, 40, 45, 50, 55, 60, 65, 70, 75, 80], input_file=None)"
   ]
  },
  {
   "cell_type": "code",
   "execution_count": null,
   "metadata": {},
   "outputs": [],
   "source": [
    "# tn = 50, \n",
    "diff_dist(dist_type='single', dist_hyperpara_list=[5, 10, 15, 20, 25, 30, 35, 40, 45, 50, 55, 60, 65, 70, 75, 80], input_file=None)"
   ]
  },
  {
   "cell_type": "code",
   "execution_count": null,
   "metadata": {},
   "outputs": [],
   "source": [
    "# tn = 50, \n",
    "diff_dist(dist_type='poisson', dist_hyperpara_list=[5, 10, 15, 20, 25, 30, 35, 40, 45, 50, 55, 60, 65, 70, 75, 80], input_file=None)"
   ]
  },
  {
   "cell_type": "code",
   "execution_count": null,
   "metadata": {},
   "outputs": [],
   "source": [
    "# tn = 50, \n",
    "diff_dist(dist_type='single', dist_hyperpara_list=[5, 10, 15, 20, 25, 30, 35, 40, 45, 50, 55, 60, 65, 70, 75, 80], input_file=None)"
   ]
  },
  {
   "cell_type": "code",
   "execution_count": null,
   "metadata": {},
   "outputs": [],
   "source": [
    "# tn = 50, \n",
    "diff_dist(dist_type='geo_new', dist_hyperpara_list=[5, 10, 15, 20, 25, 30, 35, 40, 45, 50, 55, 60, 65, 70, 75, 80], input_file=None)"
   ]
  },
  {
   "cell_type": "code",
   "execution_count": null,
   "metadata": {},
   "outputs": [],
   "source": [
    "# tn = 50, \n",
    "diff_dist(dist_type='geo_new', dist_hyperpara_list=[5, 10, 15, 20, 25, 30, 35, 40, 45, 50, 55, 60, 65, 70, 75, 80], input_file=None)"
   ]
  },
  {
   "cell_type": "code",
   "execution_count": null,
   "metadata": {},
   "outputs": [],
   "source": [
    "# tn = 50, \n",
    "diff_dist(dist_type='poisson', dist_hyperpara_list=[5, 10, 15, 20, 25, 30, 35, 40, 45, 50, 55, 60, 65, 70, 75, 80], input_file=None)"
   ]
  },
  {
   "cell_type": "code",
   "execution_count": null,
   "metadata": {},
   "outputs": [],
   "source": [
    "# tn = 50, \n",
    "diff_dist(dist_type='geo_new', dist_hyperpara_list=[5, 10, 15, 20, 25, 30, 35, 40, 45, 50, 55, 60, 65, 70, 75, 80], input_file=None)"
   ]
  },
  {
   "cell_type": "code",
   "execution_count": null,
   "metadata": {},
   "outputs": [],
   "source": [
    "diff_dist(dist_type='single', dist_hyperpara_list=[10, 20, 30, 40, 50, 60, 70, 80, 90, 100], input_file=None)"
   ]
  },
  {
   "cell_type": "code",
   "execution_count": null,
   "metadata": {},
   "outputs": [],
   "source": [
    "diff_dist(dist_type='poisson', dist_hyperpara_list=[10, 20, 30, 40, 50, 60, 70, 80, 90, 100], input_file=None)"
   ]
  },
  {
   "cell_type": "code",
   "execution_count": null,
   "metadata": {},
   "outputs": [],
   "source": []
  }
 ],
 "metadata": {
  "kernelspec": {
   "display_name": "base",
   "language": "python",
   "name": "python3"
  },
  "language_info": {
   "codemirror_mode": {
    "name": "ipython",
    "version": 3
   },
   "file_extension": ".py",
   "mimetype": "text/x-python",
   "name": "python",
   "nbconvert_exporter": "python",
   "pygments_lexer": "ipython3",
   "version": "3.11.7"
  }
 },
 "nbformat": 4,
 "nbformat_minor": 2
}
