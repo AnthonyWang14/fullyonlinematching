{
 "cells": [
  {
   "cell_type": "code",
   "execution_count": 1,
   "metadata": {},
   "outputs": [],
   "source": [
    "from eval import *\n",
    "# 5 instances"
   ]
  },
  {
   "cell_type": "code",
   "execution_count": 2,
   "metadata": {},
   "outputs": [],
   "source": [
    "np.random.seed(0)"
   ]
  },
  {
   "cell_type": "code",
   "execution_count": 3,
   "metadata": {},
   "outputs": [
    {
     "name": "stdout",
     "output_type": "stream",
     "text": [
      "test different gamma\n",
      "density 1 type_number 50 dist_type geo_new dist_hyperpara 20 gamma 1 testnum 3 save 0 algo_list ['OFF', 'SAM1', 'SAMC1', 'SAM4', 'SAMTH']\n",
      "max quit time 65\n",
      "max quit time 87\n",
      "max quit time 130\n",
      "OFF 4348.217904179846 1.0\n",
      "SAM1 2587.562085559272 0.5950856517728574\n",
      "SAMC1 0.0 0.0\n",
      "SAM4 2809.4082957163114 0.6461056822878377\n",
      "SAMTH 2804.234690467792 0.6449158603050097\n",
      "{'OFF': np.float64(0.0), 'SAM1': np.float64(0.011765716429577524), 'SAMC1': np.float64(0.0), 'SAM4': np.float64(0.004357100704815496), 'SAMTH': np.float64(0.010735417882663903)}\n",
      "max quit time 120\n",
      "max quit time 110\n",
      "max quit time 129\n",
      "OFF 4381.65889654206 1.0\n",
      "SAM1 2455.5176046925067 0.5604082067251663\n",
      "SAMC1 0.0 0.0\n",
      "SAM4 2649.4617664917205 0.6046709315009976\n",
      "SAMTH 2683.409542810927 0.6124186309729939\n",
      "{'OFF': np.float64(0.0), 'SAM1': np.float64(0.0059295125479964265), 'SAMC1': np.float64(0.0), 'SAM4': np.float64(0.0035385245829364833), 'SAMTH': np.float64(0.01850702017292357)}\n",
      "max quit time 146\n",
      "max quit time 144\n",
      "max quit time 92\n",
      "OFF 4366.187188606051 1.0\n",
      "SAM1 2469.4836136846184 0.5655927029718179\n",
      "SAMC1 0.0 0.0\n",
      "SAM4 2761.417347894528 0.6324550983752344\n",
      "SAMTH 2784.3378559430275 0.6377046461061042\n",
      "{'OFF': np.float64(0.0), 'SAM1': np.float64(0.010369681808723807), 'SAMC1': np.float64(0.0), 'SAM4': np.float64(0.023593926377884576), 'SAMTH': np.float64(0.019051138602134903)}\n",
      "density 1 type_number 50 dist_type geo_new dist_hyperpara 20 gamma 1 testnum 3 save 0 algo_list ['OFF', 'SAM1', 'SAMC1', 'SAM4', 'SAMTH']\n",
      "max quit time 65\n",
      "max quit time 86\n",
      "max quit time 66\n",
      "OFF 4328.828554568512 1.0\n",
      "SAM1 2484.291934322005 0.5738947391899271\n",
      "SAMC1 0.0 0.0\n",
      "SAM4 2769.2535087954843 0.6397235357988248\n",
      "SAMTH 2756.27298773116 0.636724913677229\n",
      "{'OFF': np.float64(0.0), 'SAM1': np.float64(0.024791986523479553), 'SAMC1': np.float64(0.0), 'SAM4': np.float64(0.012880609947772131), 'SAMTH': np.float64(0.0311525141234903)}\n",
      "max quit time 144\n",
      "max quit time 95\n",
      "max quit time 110\n",
      "OFF 4266.1308806008155 1.0\n",
      "SAM1 2324.253620323434 0.5448153573750885\n",
      "SAMC1 0.0 0.0\n",
      "SAM4 2635.2907857259343 0.6177238484898044\n",
      "SAMTH 2624.325922013918 0.6151536358032045\n",
      "{'OFF': np.float64(0.0), 'SAM1': np.float64(0.023119075609374953), 'SAMC1': np.float64(0.0), 'SAM4': np.float64(0.018203852621660632), 'SAMTH': np.float64(0.015758107524209676)}\n",
      "max quit time 78\n",
      "max quit time 106\n",
      "max quit time 87\n",
      "OFF 4325.318356394655 1.0\n",
      "SAM1 2491.7938854680942 0.5760949091259759\n",
      "SAMC1 0.0 0.0\n",
      "SAM4 2775.357035234203 0.6416538174886129\n",
      "SAMTH 2714.918228341016 0.6276805554271434\n",
      "{'OFF': np.float64(0.0), 'SAM1': np.float64(0.027763637822561416), 'SAMC1': np.float64(0.0), 'SAM4': np.float64(0.026083316473707943), 'SAMTH': np.float64(0.026641395740746848)}\n",
      "density 1 type_number 50 dist_type geo_new dist_hyperpara 20 gamma 1 testnum 3 save 0 algo_list ['OFF', 'SAM1', 'SAMC1', 'SAM4', 'SAMTH']\n",
      "max quit time 65\n",
      "max quit time 108\n",
      "max quit time 82\n",
      "OFF 4414.304987128101 1.0\n",
      "SAM1 2557.176297196158 0.5792930721037083\n",
      "SAMC1 0.0 0.0\n",
      "SAM4 2827.960877723557 0.6406355895140353\n",
      "SAMTH 2789.0869037262364 0.631829226086344\n",
      "{'OFF': np.float64(0.0), 'SAM1': np.float64(0.02961594371755526), 'SAMC1': np.float64(0.0), 'SAM4': np.float64(0.022338454391771595), 'SAMTH': np.float64(0.026812310921820653)}\n",
      "max quit time 73\n",
      "max quit time 138\n",
      "max quit time 88\n",
      "OFF 4465.811191449134 1.0\n",
      "SAM1 2545.553243014383 0.5700091503842472\n",
      "SAMC1 0.0 0.0\n",
      "SAM4 2825.0003203557485 0.6325839134813601\n",
      "SAMTH 2735.677977434579 0.6125825432729199\n",
      "{'OFF': np.float64(0.0), 'SAM1': np.float64(0.014844966924348864), 'SAMC1': np.float64(0.0), 'SAM4': np.float64(0.011557536409482962), 'SAMTH': np.float64(0.012191842652769859)}\n",
      "max quit time 79\n",
      "max quit time 81\n",
      "max quit time 131\n",
      "OFF 4420.905561545361 1.0\n",
      "SAM1 2425.396071274496 0.5486197426091772\n",
      "SAMC1 0.0 0.0\n",
      "SAM4 2762.725159563588 0.6249229080111489\n",
      "SAMTH 2722.048424264607 0.6157219118051223\n",
      "{'OFF': np.float64(0.0), 'SAM1': np.float64(0.014115129816345055), 'SAMC1': np.float64(0.0), 'SAM4': np.float64(0.008015991507737793), 'SAMTH': np.float64(0.0019361753609312958)}\n",
      "density 1 type_number 50 dist_type geo_new dist_hyperpara 20 gamma 1 testnum 3 save 0 algo_list ['OFF', 'SAM1', 'SAMC1', 'SAM4', 'SAMTH']\n",
      "max quit time 65\n",
      "max quit time 108\n",
      "max quit time 82\n",
      "OFF 4417.776337924958 1.0\n",
      "SAM1 2609.304151813063 0.5906374502061507\n",
      "SAMC1 0.0 0.0\n",
      "SAM4 2808.7787147393556 0.635790157737738\n",
      "SAMTH 2718.981690577464 0.6154638629475248\n",
      "{'OFF': np.float64(0.0), 'SAM1': np.float64(0.048318843540969623), 'SAMC1': np.float64(0.0), 'SAM4': np.float64(0.017853875501035146), 'SAMTH': np.float64(0.03481642810835923)}\n",
      "max quit time 83\n",
      "max quit time 130\n",
      "max quit time 110\n",
      "OFF 4338.585090500651 1.0\n",
      "SAM1 2455.146152782028 0.5658863665386165\n",
      "SAMC1 0.0 0.0\n",
      "SAM4 2807.319704316597 0.647058809671207\n",
      "SAMTH 2638.5765142568266 0.6081652103663935\n",
      "{'OFF': np.float64(0.0), 'SAM1': np.float64(0.03394058716144626), 'SAMC1': np.float64(0.0), 'SAM4': np.float64(0.016480260653626146), 'SAMTH': np.float64(0.010155800735454154)}\n",
      "max quit time 88\n",
      "max quit time 82\n",
      "max quit time 103\n",
      "OFF 4354.3780291698195 1.0\n",
      "SAM1 2489.578674965803 0.5717415112533194\n",
      "SAMC1 0.0 0.0\n",
      "SAM4 2734.644630333689 0.6280218694873078\n",
      "SAMTH 2582.793186120029 0.593148589492688\n",
      "{'OFF': np.float64(0.0), 'SAM1': np.float64(0.017033308606378684), 'SAMC1': np.float64(0.0), 'SAM4': np.float64(0.007891642684850275), 'SAMTH': np.float64(0.02104275911475695)}\n",
      "density 1 type_number 50 dist_type geo_new dist_hyperpara 20 gamma 1 testnum 3 save 0 algo_list ['OFF', 'SAM1', 'SAMC1', 'SAM4', 'SAMTH']\n",
      "max quit time 65\n",
      "max quit time 86\n",
      "max quit time 130\n",
      "OFF 4320.959553877132 1.0\n",
      "SAM1 2472.923774637964 0.5723089382817867\n",
      "SAMC1 0.0 0.0\n",
      "SAM4 2768.9404338340355 0.6408160963574646\n",
      "SAMTH 2593.7674690875374 0.6002758037297963\n",
      "{'OFF': np.float64(0.0), 'SAM1': np.float64(0.03215703071995933), 'SAMC1': np.float64(0.0), 'SAM4': np.float64(0.01673477749777789), 'SAMTH': np.float64(0.03443501423444812)}\n",
      "max quit time 85\n",
      "max quit time 123\n",
      "max quit time 129\n",
      "OFF 4493.622889704122 1.0\n",
      "SAM1 2639.2302471227977 0.5873279338081205\n",
      "SAMC1 0.0 0.0\n",
      "SAM4 2937.7925174080738 0.6537692613546193\n",
      "SAMTH 2730.353093797612 0.6076061923339076\n",
      "{'OFF': np.float64(0.0), 'SAM1': np.float64(0.03576427416904257), 'SAMC1': np.float64(0.0), 'SAM4': np.float64(0.02781310436642984), 'SAMTH': np.float64(0.04108021969134865)}\n",
      "max quit time 99\n",
      "max quit time 144\n",
      "max quit time 92\n",
      "OFF 4284.174639954174 1.0\n",
      "SAM1 2450.73842646994 0.5720444735409186\n",
      "SAMC1 0.0 0.0\n",
      "SAM4 2726.846303778431 0.6364927980171226\n",
      "SAMTH 2520.52159711352 0.588333065045285\n",
      "{'OFF': np.float64(0.0), 'SAM1': np.float64(0.02997877760789489), 'SAMC1': np.float64(0.0), 'SAM4': np.float64(0.026245172287549554), 'SAMTH': np.float64(0.02689196753601113)}\n",
      "density 1 type_number 50 dist_type geo_new dist_hyperpara 20 gamma 1 testnum 3 save 0 algo_list ['OFF', 'SAM1', 'SAMC1', 'SAM4', 'SAMTH']\n",
      "max quit time 65\n",
      "max quit time 108\n",
      "max quit time 127\n",
      "OFF 4439.755887342223 1.0\n",
      "SAM1 2569.353071565331 0.5787149421639545\n",
      "SAMC1 0.0 0.0\n",
      "SAM4 2857.5803809160534 0.6436345721311021\n",
      "SAMTH 2623.033393818871 0.5908057695913324\n",
      "{'OFF': np.float64(0.0), 'SAM1': np.float64(0.04499027164235313), 'SAMC1': np.float64(0.0), 'SAM4': np.float64(0.03543935625256805), 'SAMTH': np.float64(0.060979650938953536)}\n",
      "max quit time 87\n",
      "max quit time 98\n",
      "max quit time 73\n",
      "OFF 4405.097728509293 1.0\n",
      "SAM1 2473.7304342646316 0.561560852158836\n",
      "SAMC1 0.0 0.0\n",
      "SAM4 2861.9492997832463 0.6496903079495909\n",
      "SAMTH 2648.127027199475 0.601150573813856\n",
      "{'OFF': np.float64(0.0), 'SAM1': np.float64(0.009914572902365894), 'SAMC1': np.float64(0.0), 'SAM4': np.float64(0.006830582120593032), 'SAMTH': np.float64(0.015059755188448957)}\n",
      "max quit time 96\n",
      "max quit time 98\n",
      "max quit time 73\n",
      "OFF 4379.264497985565 1.0\n",
      "SAM1 2426.3314885428076 0.5540499985006399\n",
      "SAMC1 0.0 0.0\n",
      "SAM4 2743.246706997072 0.6264172233165978\n",
      "SAMTH 2490.6631162171852 0.5687400515230069\n",
      "{'OFF': np.float64(0.0), 'SAM1': np.float64(0.007831282950239465), 'SAMC1': np.float64(0.0), 'SAM4': np.float64(0.008286451857001236), 'SAMTH': np.float64(0.013101567681548975)}\n",
      "density 1 type_number 50 dist_type geo_new dist_hyperpara 20 gamma 1 testnum 3 save 0 algo_list ['OFF', 'SAM1', 'SAMC1', 'SAM4', 'SAMTH']\n",
      "max quit time 65\n",
      "max quit time 86\n",
      "max quit time 127\n",
      "OFF 4422.263033700434 1.0\n",
      "SAM1 2582.813227752316 0.5840478524388192\n",
      "SAMC1 0.0 0.0\n",
      "SAM4 2856.5957075755273 0.6459578921033113\n",
      "SAMTH 2530.440131631262 0.57220479929568\n",
      "{'OFF': np.float64(0.0), 'SAM1': np.float64(0.018158931173240123), 'SAMC1': np.float64(0.0), 'SAM4': np.float64(0.016360678734163178), 'SAMTH': np.float64(0.036280770567433784)}\n",
      "max quit time 82\n",
      "max quit time 109\n",
      "max quit time 80\n",
      "OFF 4401.746313717758 1.0\n",
      "SAM1 2534.777686903967 0.575857286233079\n",
      "SAMC1 0.0 0.0\n",
      "SAM4 2903.40839262329 0.6596037539862316\n",
      "SAMTH 2528.7386112510267 0.574485313560751\n",
      "{'OFF': np.float64(0.0), 'SAM1': np.float64(0.01595428839450223), 'SAMC1': np.float64(0.0), 'SAM4': np.float64(0.02002334508953422), 'SAMTH': np.float64(0.02194850712343902)}\n",
      "max quit time 75\n",
      "max quit time 130\n",
      "max quit time 82\n",
      "OFF 4426.66102589146 1.0\n",
      "SAM1 2530.4724776670205 0.5716436074202053\n",
      "SAMC1 0.0 0.0\n",
      "SAM4 2835.459592555761 0.6405413868311148\n",
      "SAMTH 2561.821001737529 0.5787253613397286\n",
      "{'OFF': np.float64(0.0), 'SAM1': np.float64(0.013656858637257664), 'SAMC1': np.float64(0.0), 'SAM4': np.float64(0.023982715854732998), 'SAMTH': np.float64(0.0069795707729958115)}\n",
      "density 1 type_number 50 dist_type geo_new dist_hyperpara 20 gamma 1 testnum 3 save 0 algo_list ['OFF', 'SAM1', 'SAMC1', 'SAM4', 'SAMTH']\n",
      "max quit time 65\n",
      "max quit time 85\n",
      "max quit time 127\n",
      "OFF 4451.134865145038 1.0\n",
      "SAM1 2615.710621654076 0.5876502736721378\n",
      "SAMC1 0.0 0.0\n",
      "SAM4 2919.9322493314867 0.6559972541376461\n",
      "SAMTH 2608.531752118821 0.5860374558733625\n",
      "{'OFF': np.float64(0.0), 'SAM1': np.float64(0.03763654359254615), 'SAMC1': np.float64(0.0), 'SAM4': np.float64(0.029370439727445206), 'SAMTH': np.float64(0.030316435540457907)}\n",
      "max quit time 87\n",
      "max quit time 119\n",
      "max quit time 77\n",
      "OFF 4372.898874206753 1.0\n",
      "SAM1 2474.7933748156174 0.5659388533800811\n",
      "SAMC1 0.0 0.0\n",
      "SAM4 2828.4148843435373 0.6468054637683827\n",
      "SAMTH 2485.962947164701 0.5684931251961907\n",
      "{'OFF': np.float64(0.0), 'SAM1': np.float64(0.011950140617783735), 'SAMC1': np.float64(0.0), 'SAM4': np.float64(0.02117966774661775), 'SAMTH': np.float64(0.01698858718858256)}\n",
      "max quit time 93\n",
      "max quit time 96\n",
      "max quit time 73\n",
      "OFF 4356.842326292434 1.0\n",
      "SAM1 2390.1185920539397 0.5485896465956968\n",
      "SAMC1 0.0 0.0\n",
      "SAM4 2683.2392346012994 0.6158678771569569\n",
      "SAMTH 2342.5484823658944 0.5376711634086941\n",
      "{'OFF': np.float64(0.0), 'SAM1': np.float64(0.013201886839767783), 'SAMC1': np.float64(0.0), 'SAM4': np.float64(0.01322111143074951), 'SAMTH': np.float64(0.012932488148772073)}\n",
      "density 1 type_number 50 dist_type geo_new dist_hyperpara 20 gamma 1 testnum 3 save 0 algo_list ['OFF', 'SAM1', 'SAMC1', 'SAM4', 'SAMTH']\n",
      "max quit time 65\n",
      "max quit time 85\n",
      "max quit time 127\n",
      "OFF 4451.134865145038 1.0\n",
      "SAM1 2615.710621654076 0.5876502736721378\n",
      "SAMC1 0.0 0.0\n",
      "SAM4 2919.9322493314867 0.6559972541376461\n",
      "SAMTH 2608.531752118821 0.5860374558733625\n",
      "{'OFF': np.float64(0.0), 'SAM1': np.float64(0.03763654359254615), 'SAMC1': np.float64(0.0), 'SAM4': np.float64(0.029370439727445206), 'SAMTH': np.float64(0.030316435540457907)}\n",
      "max quit time 87\n",
      "max quit time 91\n",
      "max quit time 81\n",
      "OFF 4459.209444746553 1.0\n",
      "SAM1 2570.1660518857043 0.576372579878177\n",
      "SAMC1 0.0 0.0\n",
      "SAM4 2875.928237433321 0.6449412778360267\n",
      "SAMTH 2652.4121787991285 0.594816684810346\n",
      "{'OFF': np.float64(0.0), 'SAM1': np.float64(0.009274300281718424), 'SAMC1': np.float64(0.0), 'SAM4': np.float64(0.01734975561262605), 'SAMTH': np.float64(0.00571052317435581)}\n",
      "max quit time 96\n",
      "max quit time 89\n",
      "max quit time 141\n",
      "OFF 4253.930862923565 1.0\n",
      "SAM1 2310.083551257439 0.5430468020511754\n",
      "SAMC1 0.0 0.0\n",
      "SAM4 2634.7715557144606 0.6193733844333527\n",
      "SAMTH 2373.712035200462 0.5580043756444834\n",
      "{'OFF': np.float64(0.0), 'SAM1': np.float64(0.019388273912209052), 'SAMC1': np.float64(0.0), 'SAM4': np.float64(0.026826731112079817), 'SAMTH': np.float64(0.03363797849715698)}\n",
      "density 1 type_number 50 dist_type geo_new dist_hyperpara 20 gamma 1 testnum 3 save 0 algo_list ['OFF', 'SAM1', 'SAMC1', 'SAM4', 'SAMTH']\n",
      "max quit time 65\n",
      "max quit time 86\n",
      "max quit time 82\n",
      "OFF 4342.135001603667 1.0\n",
      "SAM1 2463.8428676820217 0.5674265923956898\n",
      "SAMC1 0.0 0.0\n",
      "SAM4 2740.5337462063 0.6311489037522203\n",
      "SAMTH 2452.7880211701236 0.564880645181286\n",
      "{'OFF': np.float64(0.0), 'SAM1': np.float64(0.04586540481234921), 'SAMC1': np.float64(0.0), 'SAM4': np.float64(0.032200010171798604), 'SAMTH': np.float64(0.049600215233955997)}\n",
      "max quit time 120\n",
      "max quit time 89\n",
      "max quit time 106\n",
      "OFF 4396.5420148137855 1.0\n",
      "SAM1 2480.0355863221503 0.5640877712451912\n",
      "SAMC1 0.0 0.0\n",
      "SAM4 2778.9123058688397 0.6320677242490857\n",
      "SAMTH 2455.4663794886496 0.5584994687222727\n",
      "{'OFF': np.float64(0.0), 'SAM1': np.float64(0.009528187801583802), 'SAMC1': np.float64(0.0), 'SAM4': np.float64(0.006732856068514948), 'SAMTH': np.float64(0.013027396792518015)}\n",
      "max quit time 87\n",
      "max quit time 89\n",
      "max quit time 113\n",
      "OFF 4365.161959039799 1.0\n",
      "SAM1 2409.219193704344 0.5519197721209634\n",
      "SAMC1 0.0 0.0\n",
      "SAM4 2733.3577726356466 0.6261755688068218\n",
      "SAMTH 2405.6195345271462 0.5510951385309673\n",
      "{'OFF': np.float64(0.0), 'SAM1': np.float64(0.013274425140872698), 'SAMC1': np.float64(0.0), 'SAM4': np.float64(0.010471992472816856), 'SAMTH': np.float64(0.011297036907632474)}\n",
      "save to file result/threshold_geo_newsyn\n"
     ]
    }
   ],
   "source": [
    "# weight generated with std=10\n",
    "diff_threshold(dist_type = 'geo_new', dist_hyperpara = 20, density = 1, type_number=50, threshold_list = [0.1, 0.2, 0.3, 0.4, 0.5, 0.6, 0.7, 0.8, 0.9, 1.0], input_file=None)"
   ]
  },
  {
   "cell_type": "code",
   "execution_count": null,
   "metadata": {},
   "outputs": [],
   "source": [
    "# weight generated with std=10\n",
    "diff_gamma(dist_type = 'geo_new', dist_hyperpara = 20, density = 1, type_number=50, gamma_list = [1], input_file=None)"
   ]
  },
  {
   "cell_type": "code",
   "execution_count": null,
   "metadata": {},
   "outputs": [],
   "source": [
    "# weight generated with std=10\n",
    "diff_gamma(dist_type = 'geo_new', dist_hyperpara = 20, density = 1, type_number=100, gamma_list = [1], input_file=None)"
   ]
  },
  {
   "cell_type": "code",
   "execution_count": null,
   "metadata": {},
   "outputs": [],
   "source": [
    "# weight generated with std=1\n",
    "diff_gamma(dist_type = 'geo_new', dist_hyperpara = 20, density = 1, type_number=100, gamma_list = [1], input_file=None)"
   ]
  },
  {
   "cell_type": "code",
   "execution_count": null,
   "metadata": {},
   "outputs": [],
   "source": [
    "# weight generated with std=10\n",
    "diff_gamma(dist_type = 'geo_new', dist_hyperpara = 20, density = 0.9, type_number=100, gamma_list = [1], input_file=None)"
   ]
  },
  {
   "cell_type": "code",
   "execution_count": null,
   "metadata": {},
   "outputs": [],
   "source": [
    "# weight generated with std=10\n",
    "diff_gamma(dist_type = 'geo_new', dist_hyperpara = 20, density = 0.9, type_number=50, gamma_list = [1], input_file=None)"
   ]
  },
  {
   "cell_type": "code",
   "execution_count": null,
   "metadata": {},
   "outputs": [],
   "source": [
    "# weight generated with std=10\n",
    "diff_gamma(dist_type = 'geo_new', dist_hyperpara = 20, density = 0.9, type_number=50, gamma_list = [1], input_file=None)"
   ]
  },
  {
   "cell_type": "code",
   "execution_count": null,
   "metadata": {},
   "outputs": [],
   "source": [
    "# weight generated with std=10\n",
    "diff_gamma(dist_type = 'geo_new', dist_hyperpara = 50, density = 0.9, type_number=50, gamma_list = [1], input_file=None)"
   ]
  },
  {
   "cell_type": "code",
   "execution_count": null,
   "metadata": {},
   "outputs": [],
   "source": [
    "diff_gamma(dist_type = 'geo_new', dist_hyperpara = 20, density = 0.5, type_number=50, gamma_list = [1,2,3,4,5], input_file=None)"
   ]
  },
  {
   "cell_type": "code",
   "execution_count": null,
   "metadata": {},
   "outputs": [],
   "source": [
    "diff_gamma(dist_type = 'geo_new', dist_hyperpara = 20, density = 0.2, type_number=50, gamma_list = [1,2,3,4,5], input_file=None)"
   ]
  },
  {
   "cell_type": "code",
   "execution_count": null,
   "metadata": {},
   "outputs": [],
   "source": [
    "diff_gamma(dist_type = 'geo_new', dist_hyperpara = 50, density = 0.2, type_number=50, gamma_list = [1,2,3,4,5], input_file=None)"
   ]
  },
  {
   "cell_type": "code",
   "execution_count": null,
   "metadata": {},
   "outputs": [],
   "source": [
    "diff_gamma(dist_type = 'poisson', dist_hyperpara = 20, density = 0.2, type_number=50, gamma_list = [1,2,3,4,5], input_file=None)"
   ]
  },
  {
   "cell_type": "code",
   "execution_count": null,
   "metadata": {},
   "outputs": [],
   "source": [
    "diff_gamma(dist_type = 'geo', dist_hyperpara = 50, density = 0.3, type_number=50, gamma_list = [1], input_file=None)"
   ]
  },
  {
   "cell_type": "code",
   "execution_count": null,
   "metadata": {},
   "outputs": [],
   "source": [
    "diff_gamma(dist_type = 'geo', dist_hyperpara = 10, density = 0.3, type_number=10, gamma_list = [1], input_file=None)"
   ]
  },
  {
   "cell_type": "code",
   "execution_count": null,
   "metadata": {},
   "outputs": [],
   "source": [
    "diff_gamma(dist_type = 'geo', dist_hyperpara = 10, density = 0.3, type_number=10, gamma_list = [1], input_file=None)"
   ]
  },
  {
   "cell_type": "code",
   "execution_count": null,
   "metadata": {},
   "outputs": [],
   "source": [
    "diff_gamma(dist_type = 'geo', dist_hyperpara = 40, density = 0.3, type_number=40, gamma_list = [2], input_file=None)"
   ]
  },
  {
   "cell_type": "code",
   "execution_count": null,
   "metadata": {},
   "outputs": [],
   "source": [
    "diff_gamma(dist_type = 'geo', dist_hyperpara = 40, density = 0.3, type_number=40, gamma_list = [2], input_file=None)"
   ]
  },
  {
   "cell_type": "code",
   "execution_count": null,
   "metadata": {},
   "outputs": [],
   "source": [
    "diff_gamma(dist_type = 'geo', dist_hyperpara = 50, density = 0.5, type_number=60, gamma_list = [2], input_file=None)"
   ]
  },
  {
   "cell_type": "code",
   "execution_count": null,
   "metadata": {},
   "outputs": [],
   "source": [
    "diff_gamma(dist_type = 'geo', dist_hyperpara = 50, density = 0.5, type_number=60, gamma_list = [1], input_file=None)"
   ]
  },
  {
   "cell_type": "code",
   "execution_count": null,
   "metadata": {},
   "outputs": [],
   "source": [
    "diff_gamma(dist_type = 'geo', dist_hyperpara = 5, density = 1, type_number=5, gamma_list = [1], input_file=None)"
   ]
  },
  {
   "cell_type": "code",
   "execution_count": null,
   "metadata": {},
   "outputs": [],
   "source": [
    "diff_gamma(dist_type = 'sin', dist_hyperpara = 20, density = 0.5, type_number= 5, gamma_list = [1], input_file=None)"
   ]
  },
  {
   "cell_type": "code",
   "execution_count": null,
   "metadata": {},
   "outputs": [],
   "source": [
    "diff_gamma(dist_type = 'sin', dist_hyperpara = 50, density = 0.5, type_number= 100, gamma_list = [1,2], input_file=None)"
   ]
  },
  {
   "cell_type": "code",
   "execution_count": null,
   "metadata": {},
   "outputs": [],
   "source": [
    "diff_gamma(dist_type = 'fix_single', dist_hyperpara = 50, density = 0.5, type_number= 100, gamma_list = [1, 2, 3, 4, 5, 6, 7, 8, 9, 10], input_file=None)"
   ]
  },
  {
   "cell_type": "code",
   "execution_count": null,
   "metadata": {},
   "outputs": [],
   "source": [
    "diff_gamma(dist_type = 'single', dist_hyperpara = 30, density = 0.3, type_number= 30, gamma_list = [1], input_file=None)"
   ]
  },
  {
   "cell_type": "code",
   "execution_count": null,
   "metadata": {},
   "outputs": [],
   "source": [
    "diff_gamma(dist_type = 'single', dist_hyperpara = 30, density = 0.5, type_number= 50, gamma_list = [1], input_file=None)"
   ]
  },
  {
   "cell_type": "code",
   "execution_count": null,
   "metadata": {},
   "outputs": [],
   "source": [
    "diff_gamma(dist_type = 'single', dist_hyperpara = 30, density = 0.5, type_number= 100, gamma_list = [1], input_file=None)"
   ]
  },
  {
   "cell_type": "code",
   "execution_count": null,
   "metadata": {},
   "outputs": [],
   "source": [
    "diff_gamma(dist_type = 'single', dist_hyperpara = 50, density = 0.5, type_number= 100, gamma_list = [1], input_file=None)"
   ]
  },
  {
   "cell_type": "code",
   "execution_count": null,
   "metadata": {},
   "outputs": [],
   "source": [
    "diff_gamma(dist_type = 'poisson', dist_hyperpara = 50, density = 0.5, type_number= 100, gamma_list = [1], input_file=None)"
   ]
  },
  {
   "cell_type": "code",
   "execution_count": null,
   "metadata": {},
   "outputs": [],
   "source": [
    "diff_gamma(dist_type = 'poisson', dist_hyperpara = 50, density = 1, type_number= 100, gamma_list = [1], input_file=None)"
   ]
  },
  {
   "cell_type": "code",
   "execution_count": null,
   "metadata": {},
   "outputs": [],
   "source": [
    "diff_gamma(dist_type = 'geometric', dist_hyperpara = 0.02, density = 1, type_number= 100, gamma_list = [1, 2, 3, 4, 5], input_file=None)"
   ]
  },
  {
   "cell_type": "code",
   "execution_count": null,
   "metadata": {},
   "outputs": [],
   "source": [
    "diff_gamma(dist_type = 'geo', dist_hyperpara = 20, density = 0.5, type_number= 20, gamma_list = [1, 2, 3, 4, 5], input_file=None)"
   ]
  },
  {
   "cell_type": "code",
   "execution_count": null,
   "metadata": {},
   "outputs": [],
   "source": [
    "diff_gamma(dist_type = 'geo', dist_hyperpara = 10, density = 0.5, type_number= 50, gamma_list = [1, 2, 3, 4, 5,6, 7, 8, 9, 10], input_file=None)"
   ]
  },
  {
   "cell_type": "code",
   "execution_count": null,
   "metadata": {},
   "outputs": [],
   "source": [
    "para_list = [10, 20, 30, 40, 50, 60, 70, 80]\n",
    "for i in range(len(para_list)):\n",
    "    diff_gamma(dist_type = 'geo', dist_hyperpara = para_list[i], density = 0.5, type_number= 50, gamma_list = [1, 2, 3, 4, 5,6, 7, 8, 9, 10], input_file=None)\n",
    "    diff_gamma(dist_type = 'single', dist_hyperpara = para_list[i], density = 0.5, type_number= 50, gamma_list = [1, 2, 3, 4, 5,6, 7, 8, 9, 10], input_file=None)    \n",
    "    diff_gamma(dist_type = 'poisson', dist_hyperpara = para_list[i], density = 0.5, type_number= 50, gamma_list = [1, 2, 3, 4, 5,6, 7, 8, 9, 10], input_file=None)"
   ]
  },
  {
   "cell_type": "code",
   "execution_count": null,
   "metadata": {},
   "outputs": [],
   "source": [
    "geo_list = [0.1, 0.3, 0.5, 0.7, 0.9]\n",
    "sin_list = [10, 15, 20, 25, 30]"
   ]
  },
  {
   "cell_type": "code",
   "execution_count": null,
   "metadata": {},
   "outputs": [],
   "source": []
  },
  {
   "cell_type": "code",
   "execution_count": null,
   "metadata": {},
   "outputs": [],
   "source": [
    "# L = 10, del = 2, A = 1\n",
    "for i in range(len(geo_list)):\n",
    "    diff_gamma(dist_type='geometric', dist_hyperpara=geo_list[i], input_file='nyc_10_2_341')\n",
    "    diff_gamma(dist_type='single', dist_hyperpara=sin_list[i], input_file='nyc_10_2_341')\n",
    "    diff_gamma(dist_type='poisson', dist_hyperpara=sin_list[i], input_file='nyc_10_2_341')"
   ]
  },
  {
   "cell_type": "code",
   "execution_count": null,
   "metadata": {},
   "outputs": [],
   "source": [
    "# L = 20, del = 2, A = 1\n",
    "for i in range(len(geo_list)):\n",
    "    diff_gamma(dist_type='geometric', dist_hyperpara=geo_list[i], input_file='nyc_20_2_394')\n",
    "    diff_gamma(dist_type='single', dist_hyperpara=sin_list[i], input_file='nyc_20_2_394')\n",
    "    diff_gamma(dist_type='poisson', dist_hyperpara=sin_list[i], input_file='nyc_20_2_394')"
   ]
  },
  {
   "cell_type": "code",
   "execution_count": null,
   "metadata": {},
   "outputs": [],
   "source": [
    "# L = 10, del = 2, A = 3\n",
    "for i in range(len(geo_list)):\n",
    "    diff_gamma(dist_type='geometric', dist_hyperpara=geo_list[i], input_file='nyc_10_2_341_3')\n",
    "    diff_gamma(dist_type='single', dist_hyperpara=sin_list[i], input_file='nyc_10_2_341_3')\n",
    "    diff_gamma(dist_type='poisson', dist_hyperpara=sin_list[i], input_file='nyc_10_2_341_3')"
   ]
  },
  {
   "cell_type": "code",
   "execution_count": null,
   "metadata": {},
   "outputs": [],
   "source": [
    "# L = 20, del = 2, A = 3\n",
    "for i in range(len(geo_list)):\n",
    "    diff_gamma(dist_type='geometric', dist_hyperpara=geo_list[i], input_file='nyc_20_2_394_3')\n",
    "    diff_gamma(dist_type='single', dist_hyperpara=sin_list[i], input_file='nyc_20_2_394_3')\n",
    "    diff_gamma(dist_type='poisson', dist_hyperpara=sin_list[i], input_file='nyc_20_2_394_3')"
   ]
  },
  {
   "cell_type": "code",
   "execution_count": null,
   "metadata": {},
   "outputs": [],
   "source": [
    "geo_list = [0.1, 0.3, 0.5, 0.7, 0.9]\n",
    "sin_list = [10, 15, 20, 25, 30]\n",
    "for i in range(len(geo_list)):\n",
    "    diff_gamma(dist_type='geometric', dist_hyperpara=geo_list[i], input_file='nyc_10_5_341')\n",
    "    diff_gamma(dist_type='single', dist_hyperpara=sin_list[i], input_file='nyc_10_5_341')\n",
    "    diff_gamma(dist_type='poisson', dist_hyperpara=sin_list[i], input_file='nyc_10_5_341')"
   ]
  },
  {
   "cell_type": "code",
   "execution_count": null,
   "metadata": {},
   "outputs": [],
   "source": [
    "geo_list = [0.1, 0.3, 0.5, 0.7, 0.9]\n",
    "sin_list = [10, 15, 20, 25, 30]\n",
    "for i in range(len(geo_list)):\n",
    "    diff_gamma(dist_type='geometric', dist_hyperpara=geo_list[i], input_file='nyc_20_2_511')\n",
    "    diff_gamma(dist_type='single', dist_hyperpara=sin_list[i], input_file='nyc_20_2_511')\n",
    "    diff_gamma(dist_type='poisson', dist_hyperpara=sin_list[i], input_file='nyc_20_2_511')"
   ]
  },
  {
   "cell_type": "code",
   "execution_count": null,
   "metadata": {},
   "outputs": [],
   "source": [
    "geo_list = [0.1, 0.3, 0.5, 0.7, 0.9]\n",
    "sin_list = [10, 15, 20, 25, 30]\n",
    "for i in range(len(geo_list)):\n",
    "    diff_gamma(dist_type='geometric', dist_hyperpara=geo_list[i], input_file='nyc_20_5_511')\n",
    "    diff_gamma(dist_type='single', dist_hyperpara=sin_list[i], input_file='nyc_20_5_511')\n",
    "    diff_gamma(dist_type='poisson', dist_hyperpara=sin_list[i], input_file='nyc_20_5_511')"
   ]
  },
  {
   "cell_type": "code",
   "execution_count": null,
   "metadata": {},
   "outputs": [],
   "source": [
    "diff_gamma(dist_type='poisson', dist_hyperpara=35, input_file=None)"
   ]
  },
  {
   "cell_type": "code",
   "execution_count": null,
   "metadata": {},
   "outputs": [],
   "source": [
    "# density 5, p_min = 0.9\n",
    "diff_gamma(dist_type='geometric', dist_hyperpara=0.1, input_file=None)\n",
    "diff_gamma(dist_type='single', dist_hyperpara=5, input_file=None)\n",
    "diff_gamma(dist_type='poisson', dist_hyperpara=5, input_file=None)"
   ]
  },
  {
   "cell_type": "code",
   "execution_count": null,
   "metadata": {},
   "outputs": [],
   "source": [
    "# density 5, p_min = 0.9\n",
    "diff_gamma(dist_type='geometric', dist_hyperpara=0.5, input_file=None)\n",
    "diff_gamma(dist_type='single', dist_hyperpara=20, input_file=None)\n",
    "diff_gamma(dist_type='poisson', dist_hyperpara=20, input_file=None)"
   ]
  },
  {
   "cell_type": "code",
   "execution_count": null,
   "metadata": {},
   "outputs": [],
   "source": [
    "# density 5, p_min = 0.9\n",
    "diff_gamma(dist_type='geometric', dist_hyperpara=0.9, input_file=None)\n",
    "diff_gamma(dist_type='single', dist_hyperpara=35, input_file=None)\n",
    "diff_gamma(dist_type='poisson', dist_hyperpara=35, input_file=None)"
   ]
  },
  {
   "cell_type": "code",
   "execution_count": null,
   "metadata": {},
   "outputs": [],
   "source": [
    "# density = 5, p_min=0\n",
    "diff_gamma(dist_type='single', dist_hyperpara=35, input_file=None)\n",
    "diff_gamma(dist_type='poisson', dist_hyperpara=35, input_file=None)"
   ]
  },
  {
   "cell_type": "code",
   "execution_count": null,
   "metadata": {},
   "outputs": [],
   "source": [
    "# density 5, p_min = 0.0\n",
    "diff_gamma(dist_type='geometric', dist_hyperpara=0.1, input_file=None)\n",
    "diff_gamma(dist_type='single', dist_hyperpara=5, input_file=None)\n",
    "diff_gamma(dist_type='poisson', dist_hyperpara=5, input_file=None)"
   ]
  },
  {
   "cell_type": "code",
   "execution_count": null,
   "metadata": {},
   "outputs": [],
   "source": [
    "# density 5, p_min = 0.0\n",
    "diff_gamma(dist_type='geometric', dist_hyperpara=0.5, input_file=None)\n",
    "diff_gamma(dist_type='single', dist_hyperpara=20, input_file=None)\n",
    "diff_gamma(dist_type='poisson', dist_hyperpara=20, input_file=None)"
   ]
  },
  {
   "cell_type": "code",
   "execution_count": null,
   "metadata": {},
   "outputs": [],
   "source": [
    "# density 5, p_min = 0.0\n",
    "diff_gamma(dist_type='geometric', dist_hyperpara=0.9, input_file=None)\n",
    "diff_gamma(dist_type='single', dist_hyperpara=35, input_file=None)\n",
    "diff_gamma(dist_type='poisson', dist_hyperpara=35, input_file=None)"
   ]
  },
  {
   "cell_type": "code",
   "execution_count": null,
   "metadata": {},
   "outputs": [],
   "source": [
    "# density 2.5, p_min = 0.9\n",
    "diff_gamma(dist_type='geometric', dist_hyperpara=0.1, input_file=None)\n",
    "diff_gamma(dist_type='single', dist_hyperpara=5, input_file=None)\n",
    "diff_gamma(dist_type='poisson', dist_hyperpara=5, input_file=None)"
   ]
  },
  {
   "cell_type": "code",
   "execution_count": null,
   "metadata": {},
   "outputs": [],
   "source": []
  },
  {
   "cell_type": "code",
   "execution_count": null,
   "metadata": {},
   "outputs": [],
   "source": [
    "# density 2.5, p_min = 0.9\n",
    "diff_gamma(dist_type='geometric', dist_hyperpara=0.5, input_file=None)\n",
    "diff_gamma(dist_type='single', dist_hyperpara=20, input_file=None)\n",
    "diff_gamma(dist_type='poisson', dist_hyperpara=20, input_file=None)"
   ]
  },
  {
   "cell_type": "code",
   "execution_count": null,
   "metadata": {},
   "outputs": [],
   "source": [
    "# density 2.5, p_min = 0.9\n",
    "diff_gamma(dist_type='geometric', dist_hyperpara=0.9, input_file=None)\n",
    "diff_gamma(dist_type='single', dist_hyperpara=35, input_file=None)\n",
    "diff_gamma(dist_type='poisson', dist_hyperpara=35, input_file=None)"
   ]
  },
  {
   "cell_type": "code",
   "execution_count": null,
   "metadata": {},
   "outputs": [],
   "source": [
    "# density = 2.5, p_min=0\n",
    "diff_gamma(dist_type='geometric', dist_hyperpara=0.5, input_file=None)\n",
    "diff_gamma(dist_type='single', dist_hyperpara=20, input_file=None)\n",
    "diff_gamma(dist_type='poisson', dist_hyperpara=20, input_file=None)"
   ]
  },
  {
   "cell_type": "code",
   "execution_count": null,
   "metadata": {},
   "outputs": [],
   "source": [
    "# density = 2.5, p_min=0\n",
    "diff_gamma(dist_type='geometric', dist_hyperpara=0.9, input_file=None)\n",
    "diff_gamma(dist_type='single', dist_hyperpara=35, input_file=None)\n",
    "diff_gamma(dist_type='poisson', dist_hyperpara=35, input_file=None)"
   ]
  },
  {
   "cell_type": "code",
   "execution_count": null,
   "metadata": {},
   "outputs": [],
   "source": [
    "# density = 2.5, p_min=0\n",
    "# diff_gamma(dist_type='geometric', dist_hyperpara=0.9, input_file=None)\n",
    "diff_gamma(dist_type='single', dist_hyperpara=5, input_file=None)\n",
    "diff_gamma(dist_type='poisson', dist_hyperpara=5, input_file=None)"
   ]
  },
  {
   "cell_type": "code",
   "execution_count": null,
   "metadata": {},
   "outputs": [],
   "source": [
    "diff_gamma(dist_type='single', dist_hyperpara=20, input_file=None)"
   ]
  },
  {
   "cell_type": "code",
   "execution_count": null,
   "metadata": {},
   "outputs": [],
   "source": [
    "diff_gamma(dist_type='poisson', dist_hyperpara=20, input_file=None)"
   ]
  },
  {
   "cell_type": "code",
   "execution_count": null,
   "metadata": {},
   "outputs": [],
   "source": [
    "diff_gamma(dist_type='geometric', dist_hyperpara=0.5, input_file='nyc_20_2_511')\n",
    "diff_gamma(dist_type='single', dist_hyperpara=20, input_file='nyc_20_2_511')\n",
    "diff_gamma(dist_type='poisson', dist_hyperpara=20, input_file='nyc_20_2_511')"
   ]
  },
  {
   "cell_type": "code",
   "execution_count": null,
   "metadata": {},
   "outputs": [],
   "source": []
  }
 ],
 "metadata": {
  "kernelspec": {
   "display_name": "Python 3",
   "language": "python",
   "name": "python3"
  },
  "language_info": {
   "codemirror_mode": {
    "name": "ipython",
    "version": 3
   },
   "file_extension": ".py",
   "mimetype": "text/x-python",
   "name": "python",
   "nbconvert_exporter": "python",
   "pygments_lexer": "ipython3",
   "version": "3.9.6"
  }
 },
 "nbformat": 4,
 "nbformat_minor": 2
}
