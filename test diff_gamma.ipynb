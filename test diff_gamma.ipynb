{
 "cells": [
  {
   "cell_type": "code",
   "execution_count": 1,
   "metadata": {},
   "outputs": [],
   "source": [
    "from eval import *\n",
    "# 5 instances"
   ]
  },
  {
   "cell_type": "code",
   "execution_count": 2,
   "metadata": {},
   "outputs": [],
   "source": [
    "np.random.seed(0)"
   ]
  },
  {
   "cell_type": "code",
   "execution_count": 3,
   "metadata": {},
   "outputs": [
    {
     "name": "stdout",
     "output_type": "stream",
     "text": [
      "test different gamma\n",
      "density 1 type_number 50 dist_type geo_new dist_hyperpara 20 gamma 1 testnum 20 save 0 algo_list ['OFF', 'SAM', 'SAMC', 'GRD', 'BAT_G', 'TH']\n",
      "max quit time 65\n",
      "num_prob_larger_than_half 157\n",
      "num_prob_larger_than_1/4 191\n",
      "num_prob_larger_than_1e-5 218\n",
      "num_prob_larger_than_half 157\n",
      "num_prob_larger_than_1/4 191\n",
      "num_prob_larger_than_1e-5 218\n",
      "max quit time 108\n",
      "num_prob_larger_than_half 157\n",
      "num_prob_larger_than_1/4 191\n",
      "num_prob_larger_than_1e-5 218\n",
      "num_prob_larger_than_half 157\n",
      "num_prob_larger_than_1/4 191\n",
      "num_prob_larger_than_1e-5 218\n",
      "max quit time 127\n",
      "num_prob_larger_than_half 157\n",
      "num_prob_larger_than_1/4 191\n",
      "num_prob_larger_than_1e-5 218\n",
      "num_prob_larger_than_half 157\n",
      "num_prob_larger_than_1/4 191\n",
      "num_prob_larger_than_1e-5 218\n",
      "max quit time 84\n",
      "num_prob_larger_than_half 157\n",
      "num_prob_larger_than_1/4 191\n",
      "num_prob_larger_than_1e-5 218\n",
      "num_prob_larger_than_half 157\n",
      "num_prob_larger_than_1/4 191\n",
      "num_prob_larger_than_1e-5 218\n",
      "max quit time 114\n",
      "num_prob_larger_than_half 157\n",
      "num_prob_larger_than_1/4 191\n",
      "num_prob_larger_than_1e-5 218\n",
      "num_prob_larger_than_half 157\n",
      "num_prob_larger_than_1/4 191\n",
      "num_prob_larger_than_1e-5 218\n",
      "max quit time 110\n",
      "num_prob_larger_than_half 157\n",
      "num_prob_larger_than_1/4 191\n",
      "num_prob_larger_than_1e-5 218\n",
      "num_prob_larger_than_half 157\n",
      "num_prob_larger_than_1/4 191\n",
      "num_prob_larger_than_1e-5 218\n",
      "max quit time 125\n",
      "num_prob_larger_than_half 157\n",
      "num_prob_larger_than_1/4 191\n",
      "num_prob_larger_than_1e-5 218\n",
      "num_prob_larger_than_half 157\n",
      "num_prob_larger_than_1/4 191\n",
      "num_prob_larger_than_1e-5 218\n",
      "max quit time 70\n",
      "num_prob_larger_than_half 157\n",
      "num_prob_larger_than_1/4 191\n",
      "num_prob_larger_than_1e-5 218\n",
      "num_prob_larger_than_half 157\n",
      "num_prob_larger_than_1/4 191\n",
      "num_prob_larger_than_1e-5 218\n",
      "max quit time 103\n",
      "num_prob_larger_than_half 157\n",
      "num_prob_larger_than_1/4 191\n",
      "num_prob_larger_than_1e-5 218\n",
      "num_prob_larger_than_half 157\n",
      "num_prob_larger_than_1/4 191\n",
      "num_prob_larger_than_1e-5 218\n",
      "max quit time 98\n",
      "num_prob_larger_than_half 157\n",
      "num_prob_larger_than_1/4 191\n",
      "num_prob_larger_than_1e-5 218\n",
      "num_prob_larger_than_half 157\n",
      "num_prob_larger_than_1/4 191\n",
      "num_prob_larger_than_1e-5 218\n",
      "max quit time 83\n",
      "num_prob_larger_than_half 157\n",
      "num_prob_larger_than_1/4 191\n",
      "num_prob_larger_than_1e-5 218\n",
      "num_prob_larger_than_half 157\n",
      "num_prob_larger_than_1/4 191\n",
      "num_prob_larger_than_1e-5 218\n",
      "max quit time 139\n",
      "num_prob_larger_than_half 157\n",
      "num_prob_larger_than_1/4 191\n",
      "num_prob_larger_than_1e-5 218\n",
      "num_prob_larger_than_half 157\n",
      "num_prob_larger_than_1/4 191\n",
      "num_prob_larger_than_1e-5 218\n",
      "max quit time 71\n",
      "num_prob_larger_than_half 157\n",
      "num_prob_larger_than_1/4 191\n",
      "num_prob_larger_than_1e-5 218\n",
      "num_prob_larger_than_half 157\n",
      "num_prob_larger_than_1/4 191\n",
      "num_prob_larger_than_1e-5 218\n",
      "max quit time 77\n",
      "num_prob_larger_than_half 157\n",
      "num_prob_larger_than_1/4 191\n",
      "num_prob_larger_than_1e-5 218\n",
      "num_prob_larger_than_half 157\n",
      "num_prob_larger_than_1/4 191\n",
      "num_prob_larger_than_1e-5 218\n",
      "max quit time 96\n",
      "num_prob_larger_than_half 157\n",
      "num_prob_larger_than_1/4 191\n",
      "num_prob_larger_than_1e-5 218\n",
      "num_prob_larger_than_half 157\n",
      "num_prob_larger_than_1/4 191\n",
      "num_prob_larger_than_1e-5 218\n",
      "max quit time 127\n",
      "num_prob_larger_than_half 157\n",
      "num_prob_larger_than_1/4 191\n",
      "num_prob_larger_than_1e-5 218\n",
      "num_prob_larger_than_half 157\n",
      "num_prob_larger_than_1/4 191\n",
      "num_prob_larger_than_1e-5 218\n",
      "max quit time 78\n",
      "num_prob_larger_than_half 157\n",
      "num_prob_larger_than_1/4 191\n",
      "num_prob_larger_than_1e-5 218\n",
      "num_prob_larger_than_half 157\n",
      "num_prob_larger_than_1/4 191\n",
      "num_prob_larger_than_1e-5 218\n",
      "max quit time 88\n",
      "num_prob_larger_than_half 157\n",
      "num_prob_larger_than_1/4 191\n",
      "num_prob_larger_than_1e-5 218\n",
      "num_prob_larger_than_half 157\n",
      "num_prob_larger_than_1/4 191\n",
      "num_prob_larger_than_1e-5 218\n",
      "max quit time 89\n",
      "num_prob_larger_than_half 157\n",
      "num_prob_larger_than_1/4 191\n",
      "num_prob_larger_than_1e-5 218\n",
      "num_prob_larger_than_half 157\n",
      "num_prob_larger_than_1/4 191\n",
      "num_prob_larger_than_1e-5 218\n",
      "max quit time 78\n",
      "num_prob_larger_than_half 157\n",
      "num_prob_larger_than_1/4 191\n",
      "num_prob_larger_than_1e-5 218\n",
      "num_prob_larger_than_half 157\n",
      "num_prob_larger_than_1/4 191\n",
      "num_prob_larger_than_1e-5 218\n",
      "max_bsize 50\n",
      "optimal batch size 6\n",
      "OFF 4396.054020743618 1.0\n",
      "SAM 2502.3130103731714 0.5692179847120921\n",
      "SAMC 2517.6148285376285 0.572698792293676\n",
      "GRD 2062.4279442939032 0.4691543676583464\n",
      "BAT_G 2402.582987931387 0.5465317251777029\n",
      "TH 2628.561158829307 0.5979365008769093\n",
      "{'OFF': np.float64(0.0), 'SAM': np.float64(0.021881285608046534), 'SAMC': np.float64(0.026131960947999577), 'GRD': np.float64(0.015869632386081467), 'BAT_G': np.float64(0.018166920732284018), 'TH': np.float64(0.02172752487290208)}\n",
      "max quit time 75\n",
      "num_prob_larger_than_half 157\n",
      "num_prob_larger_than_1/4 191\n",
      "num_prob_larger_than_1e-5 218\n",
      "num_prob_larger_than_half 157\n",
      "num_prob_larger_than_1/4 191\n",
      "num_prob_larger_than_1e-5 218\n",
      "max quit time 130\n",
      "num_prob_larger_than_half 157\n",
      "num_prob_larger_than_1/4 191\n",
      "num_prob_larger_than_1e-5 218\n",
      "num_prob_larger_than_half 157\n",
      "num_prob_larger_than_1/4 191\n",
      "num_prob_larger_than_1e-5 218\n",
      "max quit time 125\n",
      "num_prob_larger_than_half 157\n",
      "num_prob_larger_than_1/4 191\n",
      "num_prob_larger_than_1e-5 218\n",
      "num_prob_larger_than_half 157\n",
      "num_prob_larger_than_1/4 191\n",
      "num_prob_larger_than_1e-5 218\n",
      "max quit time 80\n",
      "num_prob_larger_than_half 157\n",
      "num_prob_larger_than_1/4 191\n",
      "num_prob_larger_than_1e-5 218\n",
      "num_prob_larger_than_half 157\n",
      "num_prob_larger_than_1/4 191\n",
      "num_prob_larger_than_1e-5 218\n",
      "max quit time 109\n",
      "num_prob_larger_than_half 157\n",
      "num_prob_larger_than_1/4 191\n",
      "num_prob_larger_than_1e-5 218\n",
      "num_prob_larger_than_half 157\n",
      "num_prob_larger_than_1/4 191\n",
      "num_prob_larger_than_1e-5 218\n",
      "max quit time 74\n",
      "num_prob_larger_than_half 157\n",
      "num_prob_larger_than_1/4 191\n",
      "num_prob_larger_than_1e-5 218\n",
      "num_prob_larger_than_half 157\n",
      "num_prob_larger_than_1/4 191\n",
      "num_prob_larger_than_1e-5 218\n",
      "max quit time 72\n",
      "num_prob_larger_than_half 157\n",
      "num_prob_larger_than_1/4 191\n",
      "num_prob_larger_than_1e-5 218\n",
      "num_prob_larger_than_half 157\n",
      "num_prob_larger_than_1/4 191\n",
      "num_prob_larger_than_1e-5 218\n",
      "max quit time 91\n",
      "num_prob_larger_than_half 157\n",
      "num_prob_larger_than_1/4 191\n",
      "num_prob_larger_than_1e-5 218\n",
      "num_prob_larger_than_half 157\n",
      "num_prob_larger_than_1/4 191\n",
      "num_prob_larger_than_1e-5 218\n",
      "max quit time 77\n",
      "num_prob_larger_than_half 157\n",
      "num_prob_larger_than_1/4 191\n",
      "num_prob_larger_than_1e-5 218\n",
      "num_prob_larger_than_half 157\n",
      "num_prob_larger_than_1/4 191\n",
      "num_prob_larger_than_1e-5 218\n",
      "max quit time 93\n",
      "num_prob_larger_than_half 157\n",
      "num_prob_larger_than_1/4 191\n",
      "num_prob_larger_than_1e-5 218\n",
      "num_prob_larger_than_half 157\n",
      "num_prob_larger_than_1/4 191\n",
      "num_prob_larger_than_1e-5 218\n",
      "max quit time 103\n",
      "num_prob_larger_than_half 157\n",
      "num_prob_larger_than_1/4 191\n",
      "num_prob_larger_than_1e-5 218\n",
      "num_prob_larger_than_half 157\n",
      "num_prob_larger_than_1/4 191\n",
      "num_prob_larger_than_1e-5 218\n",
      "max quit time 58\n",
      "num_prob_larger_than_half 157\n",
      "num_prob_larger_than_1/4 191\n",
      "num_prob_larger_than_1e-5 218\n",
      "num_prob_larger_than_half 157\n",
      "num_prob_larger_than_1/4 191\n",
      "num_prob_larger_than_1e-5 218\n",
      "max quit time 113\n",
      "num_prob_larger_than_half 157\n",
      "num_prob_larger_than_1/4 191\n",
      "num_prob_larger_than_1e-5 218\n",
      "num_prob_larger_than_half 157\n",
      "num_prob_larger_than_1/4 191\n",
      "num_prob_larger_than_1e-5 218\n",
      "max quit time 80\n",
      "num_prob_larger_than_half 157\n",
      "num_prob_larger_than_1/4 191\n",
      "num_prob_larger_than_1e-5 218\n",
      "num_prob_larger_than_half 157\n",
      "num_prob_larger_than_1/4 191\n",
      "num_prob_larger_than_1e-5 218\n",
      "max quit time 106\n",
      "num_prob_larger_than_half 157\n",
      "num_prob_larger_than_1/4 191\n",
      "num_prob_larger_than_1e-5 218\n",
      "num_prob_larger_than_half 157\n",
      "num_prob_larger_than_1/4 191\n",
      "num_prob_larger_than_1e-5 218\n",
      "max quit time 84\n",
      "num_prob_larger_than_half 157\n",
      "num_prob_larger_than_1/4 191\n",
      "num_prob_larger_than_1e-5 218\n",
      "num_prob_larger_than_half 157\n",
      "num_prob_larger_than_1/4 191\n",
      "num_prob_larger_than_1e-5 218\n",
      "max quit time 88\n",
      "num_prob_larger_than_half 157\n",
      "num_prob_larger_than_1/4 191\n",
      "num_prob_larger_than_1e-5 218\n",
      "num_prob_larger_than_half 157\n",
      "num_prob_larger_than_1/4 191\n",
      "num_prob_larger_than_1e-5 218\n",
      "max quit time 81\n",
      "num_prob_larger_than_half 157\n",
      "num_prob_larger_than_1/4 191\n",
      "num_prob_larger_than_1e-5 218\n",
      "num_prob_larger_than_half 157\n",
      "num_prob_larger_than_1/4 191\n",
      "num_prob_larger_than_1e-5 218\n",
      "max quit time 156\n",
      "num_prob_larger_than_half 157\n",
      "num_prob_larger_than_1/4 191\n",
      "num_prob_larger_than_1e-5 218\n",
      "num_prob_larger_than_half 157\n",
      "num_prob_larger_than_1/4 191\n",
      "num_prob_larger_than_1e-5 218\n",
      "max quit time 107\n",
      "num_prob_larger_than_half 157\n",
      "num_prob_larger_than_1/4 191\n",
      "num_prob_larger_than_1e-5 218\n",
      "num_prob_larger_than_half 157\n",
      "num_prob_larger_than_1/4 191\n",
      "num_prob_larger_than_1e-5 218\n",
      "max_bsize 50\n",
      "optimal batch size 6\n",
      "OFF 4328.008127521135 1.0\n",
      "SAM 2414.4458075996913 0.5578653589503687\n",
      "SAMC 2384.913949993748 0.5510419296184885\n",
      "GRD 2050.2563378036475 0.47371822727558766\n",
      "BAT_G 2385.8323780937826 0.5512541353429175\n",
      "TH 2489.345293835226 0.5751711227171372\n",
      "{'OFF': np.float64(0.0), 'SAM': np.float64(0.02539910199268229), 'SAMC': np.float64(0.027686440716025874), 'GRD': np.float64(0.022085551336825195), 'BAT_G': np.float64(0.019676460847194745), 'TH': np.float64(0.02902290395184017)}\n",
      "max quit time 110\n",
      "num_prob_larger_than_half 157\n",
      "num_prob_larger_than_1/4 191\n",
      "num_prob_larger_than_1e-5 218\n",
      "num_prob_larger_than_half 157\n",
      "num_prob_larger_than_1/4 191\n",
      "num_prob_larger_than_1e-5 218\n",
      "max quit time 102\n",
      "num_prob_larger_than_half 157\n",
      "num_prob_larger_than_1/4 191\n",
      "num_prob_larger_than_1e-5 218\n",
      "num_prob_larger_than_half 157\n",
      "num_prob_larger_than_1/4 191\n",
      "num_prob_larger_than_1e-5 218\n",
      "max quit time 166\n",
      "num_prob_larger_than_half 157\n",
      "num_prob_larger_than_1/4 191\n",
      "num_prob_larger_than_1e-5 218\n",
      "num_prob_larger_than_half 157\n",
      "num_prob_larger_than_1/4 191\n",
      "num_prob_larger_than_1e-5 218\n",
      "max quit time 67\n",
      "num_prob_larger_than_half 157\n",
      "num_prob_larger_than_1/4 191\n",
      "num_prob_larger_than_1e-5 218\n",
      "num_prob_larger_than_half 157\n",
      "num_prob_larger_than_1/4 191\n",
      "num_prob_larger_than_1e-5 218\n",
      "max quit time 84\n",
      "num_prob_larger_than_half 157\n",
      "num_prob_larger_than_1/4 191\n",
      "num_prob_larger_than_1e-5 218\n",
      "num_prob_larger_than_half 157\n",
      "num_prob_larger_than_1/4 191\n",
      "num_prob_larger_than_1e-5 218\n",
      "max quit time 91\n",
      "num_prob_larger_than_half 157\n",
      "num_prob_larger_than_1/4 191\n",
      "num_prob_larger_than_1e-5 218\n",
      "num_prob_larger_than_half 157\n",
      "num_prob_larger_than_1/4 191\n",
      "num_prob_larger_than_1e-5 218\n",
      "max quit time 109\n",
      "num_prob_larger_than_half 157\n",
      "num_prob_larger_than_1/4 191\n",
      "num_prob_larger_than_1e-5 218\n",
      "num_prob_larger_than_half 157\n",
      "num_prob_larger_than_1/4 191\n",
      "num_prob_larger_than_1e-5 218\n",
      "max quit time 87\n",
      "num_prob_larger_than_half 157\n",
      "num_prob_larger_than_1/4 191\n",
      "num_prob_larger_than_1e-5 218\n",
      "num_prob_larger_than_half 157\n",
      "num_prob_larger_than_1/4 191\n",
      "num_prob_larger_than_1e-5 218\n",
      "max quit time 121\n",
      "num_prob_larger_than_half 157\n",
      "num_prob_larger_than_1/4 191\n",
      "num_prob_larger_than_1e-5 218\n",
      "num_prob_larger_than_half 157\n",
      "num_prob_larger_than_1/4 191\n",
      "num_prob_larger_than_1e-5 218\n",
      "max quit time 97\n",
      "num_prob_larger_than_half 157\n",
      "num_prob_larger_than_1/4 191\n",
      "num_prob_larger_than_1e-5 218\n",
      "num_prob_larger_than_half 157\n",
      "num_prob_larger_than_1/4 191\n",
      "num_prob_larger_than_1e-5 218\n",
      "max quit time 93\n",
      "num_prob_larger_than_half 157\n",
      "num_prob_larger_than_1/4 191\n",
      "num_prob_larger_than_1e-5 218\n",
      "num_prob_larger_than_half 157\n",
      "num_prob_larger_than_1/4 191\n",
      "num_prob_larger_than_1e-5 218\n",
      "max quit time 128\n",
      "num_prob_larger_than_half 157\n",
      "num_prob_larger_than_1/4 191\n",
      "num_prob_larger_than_1e-5 218\n",
      "num_prob_larger_than_half 157\n",
      "num_prob_larger_than_1/4 191\n",
      "num_prob_larger_than_1e-5 218\n",
      "max quit time 90\n",
      "num_prob_larger_than_half 157\n",
      "num_prob_larger_than_1/4 191\n",
      "num_prob_larger_than_1e-5 218\n",
      "num_prob_larger_than_half 157\n",
      "num_prob_larger_than_1/4 191\n",
      "num_prob_larger_than_1e-5 218\n",
      "max quit time 78\n",
      "num_prob_larger_than_half 157\n",
      "num_prob_larger_than_1/4 191\n",
      "num_prob_larger_than_1e-5 218\n",
      "num_prob_larger_than_half 157\n",
      "num_prob_larger_than_1/4 191\n",
      "num_prob_larger_than_1e-5 218\n",
      "max quit time 128\n",
      "num_prob_larger_than_half 157\n",
      "num_prob_larger_than_1/4 191\n",
      "num_prob_larger_than_1e-5 218\n",
      "num_prob_larger_than_half 157\n",
      "num_prob_larger_than_1/4 191\n",
      "num_prob_larger_than_1e-5 218\n",
      "max quit time 80\n",
      "num_prob_larger_than_half 157\n",
      "num_prob_larger_than_1/4 191\n",
      "num_prob_larger_than_1e-5 218\n",
      "num_prob_larger_than_half 157\n",
      "num_prob_larger_than_1/4 191\n",
      "num_prob_larger_than_1e-5 218\n",
      "max quit time 145\n",
      "num_prob_larger_than_half 157\n",
      "num_prob_larger_than_1/4 191\n",
      "num_prob_larger_than_1e-5 218\n",
      "num_prob_larger_than_half 157\n",
      "num_prob_larger_than_1/4 191\n",
      "num_prob_larger_than_1e-5 218\n",
      "max quit time 80\n",
      "num_prob_larger_than_half 157\n",
      "num_prob_larger_than_1/4 191\n",
      "num_prob_larger_than_1e-5 218\n",
      "num_prob_larger_than_half 157\n",
      "num_prob_larger_than_1/4 191\n",
      "num_prob_larger_than_1e-5 218\n",
      "max quit time 93\n",
      "num_prob_larger_than_half 157\n",
      "num_prob_larger_than_1/4 191\n",
      "num_prob_larger_than_1e-5 218\n",
      "num_prob_larger_than_half 157\n",
      "num_prob_larger_than_1/4 191\n",
      "num_prob_larger_than_1e-5 218\n",
      "max quit time 73\n",
      "num_prob_larger_than_half 157\n",
      "num_prob_larger_than_1/4 191\n",
      "num_prob_larger_than_1e-5 218\n",
      "num_prob_larger_than_half 157\n",
      "num_prob_larger_than_1/4 191\n",
      "num_prob_larger_than_1e-5 218\n",
      "max_bsize 50\n",
      "optimal batch size 4\n",
      "OFF 4336.794971220519 1.0\n",
      "SAM 2400.9062246857748 0.5536130346531184\n",
      "SAMC 2392.895028863324 0.5517657728213707\n",
      "GRD 2037.6748782015839 0.4698573236050664\n",
      "BAT_G 2362.341206088099 0.544720518669864\n",
      "TH 2486.188025083708 0.5732777411849865\n",
      "{'OFF': np.float64(0.0), 'SAM': np.float64(0.025111290020282936), 'SAMC': np.float64(0.029085626785726043), 'GRD': np.float64(0.019838500036434396), 'BAT_G': np.float64(0.016631656903705216), 'TH': np.float64(0.028008107058742432)}\n",
      "save to file result/gamma_geo_newsyn\n"
     ]
    }
   ],
   "source": [
    "# weight generated with std=10\n",
    "diff_gamma(dist_type = 'geo_new', dist_hyperpara = 20, density = 1, type_number=50, gamma_list = [1], input_file=None)"
   ]
  },
  {
   "cell_type": "code",
   "execution_count": null,
   "metadata": {},
   "outputs": [],
   "source": [
    "# weight generated with std=10\n",
    "diff_gamma(dist_type = 'geo_new', dist_hyperpara = 20, density = 1, type_number=50, gamma_list = [1], input_file=None)"
   ]
  },
  {
   "cell_type": "code",
   "execution_count": null,
   "metadata": {},
   "outputs": [],
   "source": [
    "# weight generated with std=10\n",
    "diff_gamma(dist_type = 'geo_new', dist_hyperpara = 20, density = 1, type_number=100, gamma_list = [1], input_file=None)"
   ]
  },
  {
   "cell_type": "code",
   "execution_count": null,
   "metadata": {},
   "outputs": [],
   "source": [
    "# weight generated with std=1\n",
    "diff_gamma(dist_type = 'geo_new', dist_hyperpara = 20, density = 1, type_number=100, gamma_list = [1], input_file=None)"
   ]
  },
  {
   "cell_type": "code",
   "execution_count": null,
   "metadata": {},
   "outputs": [],
   "source": [
    "# weight generated with std=10\n",
    "diff_gamma(dist_type = 'geo_new', dist_hyperpara = 20, density = 0.9, type_number=100, gamma_list = [1], input_file=None)"
   ]
  },
  {
   "cell_type": "code",
   "execution_count": null,
   "metadata": {},
   "outputs": [],
   "source": [
    "# weight generated with std=10\n",
    "diff_gamma(dist_type = 'geo_new', dist_hyperpara = 20, density = 0.9, type_number=50, gamma_list = [1], input_file=None)"
   ]
  },
  {
   "cell_type": "code",
   "execution_count": null,
   "metadata": {},
   "outputs": [],
   "source": [
    "# weight generated with std=10\n",
    "diff_gamma(dist_type = 'geo_new', dist_hyperpara = 20, density = 0.9, type_number=50, gamma_list = [1], input_file=None)"
   ]
  },
  {
   "cell_type": "code",
   "execution_count": null,
   "metadata": {},
   "outputs": [],
   "source": [
    "# weight generated with std=10\n",
    "diff_gamma(dist_type = 'geo_new', dist_hyperpara = 50, density = 0.9, type_number=50, gamma_list = [1], input_file=None)"
   ]
  },
  {
   "cell_type": "code",
   "execution_count": null,
   "metadata": {},
   "outputs": [],
   "source": [
    "diff_gamma(dist_type = 'geo_new', dist_hyperpara = 20, density = 0.5, type_number=50, gamma_list = [1,2,3,4,5], input_file=None)"
   ]
  },
  {
   "cell_type": "code",
   "execution_count": null,
   "metadata": {},
   "outputs": [],
   "source": [
    "diff_gamma(dist_type = 'geo_new', dist_hyperpara = 20, density = 0.2, type_number=50, gamma_list = [1,2,3,4,5], input_file=None)"
   ]
  },
  {
   "cell_type": "code",
   "execution_count": null,
   "metadata": {},
   "outputs": [],
   "source": [
    "diff_gamma(dist_type = 'geo_new', dist_hyperpara = 50, density = 0.2, type_number=50, gamma_list = [1,2,3,4,5], input_file=None)"
   ]
  },
  {
   "cell_type": "code",
   "execution_count": null,
   "metadata": {},
   "outputs": [],
   "source": [
    "diff_gamma(dist_type = 'poisson', dist_hyperpara = 20, density = 0.2, type_number=50, gamma_list = [1,2,3,4,5], input_file=None)"
   ]
  },
  {
   "cell_type": "code",
   "execution_count": null,
   "metadata": {},
   "outputs": [],
   "source": [
    "diff_gamma(dist_type = 'geo', dist_hyperpara = 50, density = 0.3, type_number=50, gamma_list = [1], input_file=None)"
   ]
  },
  {
   "cell_type": "code",
   "execution_count": null,
   "metadata": {},
   "outputs": [],
   "source": [
    "diff_gamma(dist_type = 'geo', dist_hyperpara = 10, density = 0.3, type_number=10, gamma_list = [1], input_file=None)"
   ]
  },
  {
   "cell_type": "code",
   "execution_count": null,
   "metadata": {},
   "outputs": [],
   "source": [
    "diff_gamma(dist_type = 'geo', dist_hyperpara = 10, density = 0.3, type_number=10, gamma_list = [1], input_file=None)"
   ]
  },
  {
   "cell_type": "code",
   "execution_count": null,
   "metadata": {},
   "outputs": [],
   "source": [
    "diff_gamma(dist_type = 'geo', dist_hyperpara = 40, density = 0.3, type_number=40, gamma_list = [2], input_file=None)"
   ]
  },
  {
   "cell_type": "code",
   "execution_count": null,
   "metadata": {},
   "outputs": [],
   "source": [
    "diff_gamma(dist_type = 'geo', dist_hyperpara = 40, density = 0.3, type_number=40, gamma_list = [2], input_file=None)"
   ]
  },
  {
   "cell_type": "code",
   "execution_count": null,
   "metadata": {},
   "outputs": [],
   "source": [
    "diff_gamma(dist_type = 'geo', dist_hyperpara = 50, density = 0.5, type_number=60, gamma_list = [2], input_file=None)"
   ]
  },
  {
   "cell_type": "code",
   "execution_count": null,
   "metadata": {},
   "outputs": [],
   "source": [
    "diff_gamma(dist_type = 'geo', dist_hyperpara = 50, density = 0.5, type_number=60, gamma_list = [1], input_file=None)"
   ]
  },
  {
   "cell_type": "code",
   "execution_count": null,
   "metadata": {},
   "outputs": [],
   "source": [
    "diff_gamma(dist_type = 'geo', dist_hyperpara = 5, density = 1, type_number=5, gamma_list = [1], input_file=None)"
   ]
  },
  {
   "cell_type": "code",
   "execution_count": null,
   "metadata": {},
   "outputs": [],
   "source": [
    "diff_gamma(dist_type = 'sin', dist_hyperpara = 20, density = 0.5, type_number= 5, gamma_list = [1], input_file=None)"
   ]
  },
  {
   "cell_type": "code",
   "execution_count": null,
   "metadata": {},
   "outputs": [],
   "source": [
    "diff_gamma(dist_type = 'sin', dist_hyperpara = 50, density = 0.5, type_number= 100, gamma_list = [1,2], input_file=None)"
   ]
  },
  {
   "cell_type": "code",
   "execution_count": null,
   "metadata": {},
   "outputs": [],
   "source": [
    "diff_gamma(dist_type = 'fix_single', dist_hyperpara = 50, density = 0.5, type_number= 100, gamma_list = [1, 2, 3, 4, 5, 6, 7, 8, 9, 10], input_file=None)"
   ]
  },
  {
   "cell_type": "code",
   "execution_count": null,
   "metadata": {},
   "outputs": [],
   "source": [
    "diff_gamma(dist_type = 'single', dist_hyperpara = 30, density = 0.3, type_number= 30, gamma_list = [1], input_file=None)"
   ]
  },
  {
   "cell_type": "code",
   "execution_count": null,
   "metadata": {},
   "outputs": [],
   "source": [
    "diff_gamma(dist_type = 'single', dist_hyperpara = 30, density = 0.5, type_number= 50, gamma_list = [1], input_file=None)"
   ]
  },
  {
   "cell_type": "code",
   "execution_count": null,
   "metadata": {},
   "outputs": [],
   "source": [
    "diff_gamma(dist_type = 'single', dist_hyperpara = 30, density = 0.5, type_number= 100, gamma_list = [1], input_file=None)"
   ]
  },
  {
   "cell_type": "code",
   "execution_count": null,
   "metadata": {},
   "outputs": [],
   "source": [
    "diff_gamma(dist_type = 'single', dist_hyperpara = 50, density = 0.5, type_number= 100, gamma_list = [1], input_file=None)"
   ]
  },
  {
   "cell_type": "code",
   "execution_count": null,
   "metadata": {},
   "outputs": [],
   "source": [
    "diff_gamma(dist_type = 'poisson', dist_hyperpara = 50, density = 0.5, type_number= 100, gamma_list = [1], input_file=None)"
   ]
  },
  {
   "cell_type": "code",
   "execution_count": null,
   "metadata": {},
   "outputs": [],
   "source": [
    "diff_gamma(dist_type = 'poisson', dist_hyperpara = 50, density = 1, type_number= 100, gamma_list = [1], input_file=None)"
   ]
  },
  {
   "cell_type": "code",
   "execution_count": null,
   "metadata": {},
   "outputs": [],
   "source": [
    "diff_gamma(dist_type = 'geometric', dist_hyperpara = 0.02, density = 1, type_number= 100, gamma_list = [1, 2, 3, 4, 5], input_file=None)"
   ]
  },
  {
   "cell_type": "code",
   "execution_count": null,
   "metadata": {},
   "outputs": [],
   "source": [
    "diff_gamma(dist_type = 'geo', dist_hyperpara = 20, density = 0.5, type_number= 20, gamma_list = [1, 2, 3, 4, 5], input_file=None)"
   ]
  },
  {
   "cell_type": "code",
   "execution_count": null,
   "metadata": {},
   "outputs": [],
   "source": [
    "diff_gamma(dist_type = 'geo', dist_hyperpara = 10, density = 0.5, type_number= 50, gamma_list = [1, 2, 3, 4, 5,6, 7, 8, 9, 10], input_file=None)"
   ]
  },
  {
   "cell_type": "code",
   "execution_count": null,
   "metadata": {},
   "outputs": [],
   "source": [
    "para_list = [10, 20, 30, 40, 50, 60, 70, 80]\n",
    "for i in range(len(para_list)):\n",
    "    diff_gamma(dist_type = 'geo', dist_hyperpara = para_list[i], density = 0.5, type_number= 50, gamma_list = [1, 2, 3, 4, 5,6, 7, 8, 9, 10], input_file=None)\n",
    "    diff_gamma(dist_type = 'single', dist_hyperpara = para_list[i], density = 0.5, type_number= 50, gamma_list = [1, 2, 3, 4, 5,6, 7, 8, 9, 10], input_file=None)    \n",
    "    diff_gamma(dist_type = 'poisson', dist_hyperpara = para_list[i], density = 0.5, type_number= 50, gamma_list = [1, 2, 3, 4, 5,6, 7, 8, 9, 10], input_file=None)"
   ]
  },
  {
   "cell_type": "code",
   "execution_count": null,
   "metadata": {},
   "outputs": [],
   "source": [
    "geo_list = [0.1, 0.3, 0.5, 0.7, 0.9]\n",
    "sin_list = [10, 15, 20, 25, 30]"
   ]
  },
  {
   "cell_type": "code",
   "execution_count": null,
   "metadata": {},
   "outputs": [],
   "source": []
  },
  {
   "cell_type": "code",
   "execution_count": null,
   "metadata": {},
   "outputs": [],
   "source": [
    "# L = 10, del = 2, A = 1\n",
    "for i in range(len(geo_list)):\n",
    "    diff_gamma(dist_type='geometric', dist_hyperpara=geo_list[i], input_file='nyc_10_2_341')\n",
    "    diff_gamma(dist_type='single', dist_hyperpara=sin_list[i], input_file='nyc_10_2_341')\n",
    "    diff_gamma(dist_type='poisson', dist_hyperpara=sin_list[i], input_file='nyc_10_2_341')"
   ]
  },
  {
   "cell_type": "code",
   "execution_count": null,
   "metadata": {},
   "outputs": [],
   "source": [
    "# L = 20, del = 2, A = 1\n",
    "for i in range(len(geo_list)):\n",
    "    diff_gamma(dist_type='geometric', dist_hyperpara=geo_list[i], input_file='nyc_20_2_394')\n",
    "    diff_gamma(dist_type='single', dist_hyperpara=sin_list[i], input_file='nyc_20_2_394')\n",
    "    diff_gamma(dist_type='poisson', dist_hyperpara=sin_list[i], input_file='nyc_20_2_394')"
   ]
  },
  {
   "cell_type": "code",
   "execution_count": null,
   "metadata": {},
   "outputs": [],
   "source": [
    "# L = 10, del = 2, A = 3\n",
    "for i in range(len(geo_list)):\n",
    "    diff_gamma(dist_type='geometric', dist_hyperpara=geo_list[i], input_file='nyc_10_2_341_3')\n",
    "    diff_gamma(dist_type='single', dist_hyperpara=sin_list[i], input_file='nyc_10_2_341_3')\n",
    "    diff_gamma(dist_type='poisson', dist_hyperpara=sin_list[i], input_file='nyc_10_2_341_3')"
   ]
  },
  {
   "cell_type": "code",
   "execution_count": null,
   "metadata": {},
   "outputs": [],
   "source": [
    "# L = 20, del = 2, A = 3\n",
    "for i in range(len(geo_list)):\n",
    "    diff_gamma(dist_type='geometric', dist_hyperpara=geo_list[i], input_file='nyc_20_2_394_3')\n",
    "    diff_gamma(dist_type='single', dist_hyperpara=sin_list[i], input_file='nyc_20_2_394_3')\n",
    "    diff_gamma(dist_type='poisson', dist_hyperpara=sin_list[i], input_file='nyc_20_2_394_3')"
   ]
  },
  {
   "cell_type": "code",
   "execution_count": null,
   "metadata": {},
   "outputs": [],
   "source": [
    "geo_list = [0.1, 0.3, 0.5, 0.7, 0.9]\n",
    "sin_list = [10, 15, 20, 25, 30]\n",
    "for i in range(len(geo_list)):\n",
    "    diff_gamma(dist_type='geometric', dist_hyperpara=geo_list[i], input_file='nyc_10_5_341')\n",
    "    diff_gamma(dist_type='single', dist_hyperpara=sin_list[i], input_file='nyc_10_5_341')\n",
    "    diff_gamma(dist_type='poisson', dist_hyperpara=sin_list[i], input_file='nyc_10_5_341')"
   ]
  },
  {
   "cell_type": "code",
   "execution_count": null,
   "metadata": {},
   "outputs": [],
   "source": [
    "geo_list = [0.1, 0.3, 0.5, 0.7, 0.9]\n",
    "sin_list = [10, 15, 20, 25, 30]\n",
    "for i in range(len(geo_list)):\n",
    "    diff_gamma(dist_type='geometric', dist_hyperpara=geo_list[i], input_file='nyc_20_2_511')\n",
    "    diff_gamma(dist_type='single', dist_hyperpara=sin_list[i], input_file='nyc_20_2_511')\n",
    "    diff_gamma(dist_type='poisson', dist_hyperpara=sin_list[i], input_file='nyc_20_2_511')"
   ]
  },
  {
   "cell_type": "code",
   "execution_count": null,
   "metadata": {},
   "outputs": [],
   "source": [
    "geo_list = [0.1, 0.3, 0.5, 0.7, 0.9]\n",
    "sin_list = [10, 15, 20, 25, 30]\n",
    "for i in range(len(geo_list)):\n",
    "    diff_gamma(dist_type='geometric', dist_hyperpara=geo_list[i], input_file='nyc_20_5_511')\n",
    "    diff_gamma(dist_type='single', dist_hyperpara=sin_list[i], input_file='nyc_20_5_511')\n",
    "    diff_gamma(dist_type='poisson', dist_hyperpara=sin_list[i], input_file='nyc_20_5_511')"
   ]
  },
  {
   "cell_type": "code",
   "execution_count": null,
   "metadata": {},
   "outputs": [],
   "source": [
    "diff_gamma(dist_type='poisson', dist_hyperpara=35, input_file=None)"
   ]
  },
  {
   "cell_type": "code",
   "execution_count": null,
   "metadata": {},
   "outputs": [],
   "source": [
    "# density 5, p_min = 0.9\n",
    "diff_gamma(dist_type='geometric', dist_hyperpara=0.1, input_file=None)\n",
    "diff_gamma(dist_type='single', dist_hyperpara=5, input_file=None)\n",
    "diff_gamma(dist_type='poisson', dist_hyperpara=5, input_file=None)"
   ]
  },
  {
   "cell_type": "code",
   "execution_count": null,
   "metadata": {},
   "outputs": [],
   "source": [
    "# density 5, p_min = 0.9\n",
    "diff_gamma(dist_type='geometric', dist_hyperpara=0.5, input_file=None)\n",
    "diff_gamma(dist_type='single', dist_hyperpara=20, input_file=None)\n",
    "diff_gamma(dist_type='poisson', dist_hyperpara=20, input_file=None)"
   ]
  },
  {
   "cell_type": "code",
   "execution_count": null,
   "metadata": {},
   "outputs": [],
   "source": [
    "# density 5, p_min = 0.9\n",
    "diff_gamma(dist_type='geometric', dist_hyperpara=0.9, input_file=None)\n",
    "diff_gamma(dist_type='single', dist_hyperpara=35, input_file=None)\n",
    "diff_gamma(dist_type='poisson', dist_hyperpara=35, input_file=None)"
   ]
  },
  {
   "cell_type": "code",
   "execution_count": null,
   "metadata": {},
   "outputs": [],
   "source": [
    "# density = 5, p_min=0\n",
    "diff_gamma(dist_type='single', dist_hyperpara=35, input_file=None)\n",
    "diff_gamma(dist_type='poisson', dist_hyperpara=35, input_file=None)"
   ]
  },
  {
   "cell_type": "code",
   "execution_count": null,
   "metadata": {},
   "outputs": [],
   "source": [
    "# density 5, p_min = 0.0\n",
    "diff_gamma(dist_type='geometric', dist_hyperpara=0.1, input_file=None)\n",
    "diff_gamma(dist_type='single', dist_hyperpara=5, input_file=None)\n",
    "diff_gamma(dist_type='poisson', dist_hyperpara=5, input_file=None)"
   ]
  },
  {
   "cell_type": "code",
   "execution_count": null,
   "metadata": {},
   "outputs": [],
   "source": [
    "# density 5, p_min = 0.0\n",
    "diff_gamma(dist_type='geometric', dist_hyperpara=0.5, input_file=None)\n",
    "diff_gamma(dist_type='single', dist_hyperpara=20, input_file=None)\n",
    "diff_gamma(dist_type='poisson', dist_hyperpara=20, input_file=None)"
   ]
  },
  {
   "cell_type": "code",
   "execution_count": null,
   "metadata": {},
   "outputs": [],
   "source": [
    "# density 5, p_min = 0.0\n",
    "diff_gamma(dist_type='geometric', dist_hyperpara=0.9, input_file=None)\n",
    "diff_gamma(dist_type='single', dist_hyperpara=35, input_file=None)\n",
    "diff_gamma(dist_type='poisson', dist_hyperpara=35, input_file=None)"
   ]
  },
  {
   "cell_type": "code",
   "execution_count": null,
   "metadata": {},
   "outputs": [],
   "source": [
    "# density 2.5, p_min = 0.9\n",
    "diff_gamma(dist_type='geometric', dist_hyperpara=0.1, input_file=None)\n",
    "diff_gamma(dist_type='single', dist_hyperpara=5, input_file=None)\n",
    "diff_gamma(dist_type='poisson', dist_hyperpara=5, input_file=None)"
   ]
  },
  {
   "cell_type": "code",
   "execution_count": null,
   "metadata": {},
   "outputs": [],
   "source": []
  },
  {
   "cell_type": "code",
   "execution_count": null,
   "metadata": {},
   "outputs": [],
   "source": [
    "# density 2.5, p_min = 0.9\n",
    "diff_gamma(dist_type='geometric', dist_hyperpara=0.5, input_file=None)\n",
    "diff_gamma(dist_type='single', dist_hyperpara=20, input_file=None)\n",
    "diff_gamma(dist_type='poisson', dist_hyperpara=20, input_file=None)"
   ]
  },
  {
   "cell_type": "code",
   "execution_count": null,
   "metadata": {},
   "outputs": [],
   "source": [
    "# density 2.5, p_min = 0.9\n",
    "diff_gamma(dist_type='geometric', dist_hyperpara=0.9, input_file=None)\n",
    "diff_gamma(dist_type='single', dist_hyperpara=35, input_file=None)\n",
    "diff_gamma(dist_type='poisson', dist_hyperpara=35, input_file=None)"
   ]
  },
  {
   "cell_type": "code",
   "execution_count": null,
   "metadata": {},
   "outputs": [],
   "source": [
    "# density = 2.5, p_min=0\n",
    "diff_gamma(dist_type='geometric', dist_hyperpara=0.5, input_file=None)\n",
    "diff_gamma(dist_type='single', dist_hyperpara=20, input_file=None)\n",
    "diff_gamma(dist_type='poisson', dist_hyperpara=20, input_file=None)"
   ]
  },
  {
   "cell_type": "code",
   "execution_count": null,
   "metadata": {},
   "outputs": [],
   "source": [
    "# density = 2.5, p_min=0\n",
    "diff_gamma(dist_type='geometric', dist_hyperpara=0.9, input_file=None)\n",
    "diff_gamma(dist_type='single', dist_hyperpara=35, input_file=None)\n",
    "diff_gamma(dist_type='poisson', dist_hyperpara=35, input_file=None)"
   ]
  },
  {
   "cell_type": "code",
   "execution_count": null,
   "metadata": {},
   "outputs": [],
   "source": [
    "# density = 2.5, p_min=0\n",
    "# diff_gamma(dist_type='geometric', dist_hyperpara=0.9, input_file=None)\n",
    "diff_gamma(dist_type='single', dist_hyperpara=5, input_file=None)\n",
    "diff_gamma(dist_type='poisson', dist_hyperpara=5, input_file=None)"
   ]
  },
  {
   "cell_type": "code",
   "execution_count": null,
   "metadata": {},
   "outputs": [],
   "source": [
    "diff_gamma(dist_type='single', dist_hyperpara=20, input_file=None)"
   ]
  },
  {
   "cell_type": "code",
   "execution_count": null,
   "metadata": {},
   "outputs": [],
   "source": [
    "diff_gamma(dist_type='poisson', dist_hyperpara=20, input_file=None)"
   ]
  },
  {
   "cell_type": "code",
   "execution_count": null,
   "metadata": {},
   "outputs": [],
   "source": [
    "diff_gamma(dist_type='geometric', dist_hyperpara=0.5, input_file='nyc_20_2_511')\n",
    "diff_gamma(dist_type='single', dist_hyperpara=20, input_file='nyc_20_2_511')\n",
    "diff_gamma(dist_type='poisson', dist_hyperpara=20, input_file='nyc_20_2_511')"
   ]
  },
  {
   "cell_type": "code",
   "execution_count": null,
   "metadata": {},
   "outputs": [],
   "source": []
  }
 ],
 "metadata": {
  "kernelspec": {
   "display_name": "Python 3",
   "language": "python",
   "name": "python3"
  },
  "language_info": {
   "codemirror_mode": {
    "name": "ipython",
    "version": 3
   },
   "file_extension": ".py",
   "mimetype": "text/x-python",
   "name": "python",
   "nbconvert_exporter": "python",
   "pygments_lexer": "ipython3",
   "version": "3.9.6"
  }
 },
 "nbformat": 4,
 "nbformat_minor": 2
}
