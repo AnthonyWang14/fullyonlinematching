{
 "cells": [
  {
   "cell_type": "code",
   "execution_count": 1,
   "metadata": {},
   "outputs": [],
   "source": [
    "from eval import *\n",
    "# 5 instances"
   ]
  },
  {
   "cell_type": "code",
   "execution_count": 2,
   "metadata": {},
   "outputs": [],
   "source": [
    "np.random.seed(0)"
   ]
  },
  {
   "cell_type": "code",
   "execution_count": 3,
   "metadata": {},
   "outputs": [
    {
     "name": "stdout",
     "output_type": "stream",
     "text": [
      "test different gamma\n",
      "density 1 type_number 50 dist_type geo_new dist_hyperpara 20 gamma 1 testnum 3 save 0 algo_list ['OFF', 'SAM', 'SAMC', 'GRD', 'BAT_G', 'TH', 'TH0.25']\n",
      "max quit time 65\n",
      "max quit time 161\n",
      "max quit time 96\n",
      "max_bsize 20\n",
      "optimal batch size 4\n",
      "OFF 4397.272289053621 1.0\n",
      "SAM 2525.267716926866 0.5742804973012834\n",
      "SAMC 2520.8991782142275 0.573287031710464\n",
      "GRD 2003.7910171197036 0.45568954692841157\n",
      "BAT_G 2427.033636388917 0.5519407207123992\n",
      "TH 2647.6806923891513 0.6021188860603818\n",
      "TH0.25 2760.6368195795894 0.6278066578801134\n",
      "{'OFF': np.float64(0.0), 'SAM': np.float64(0.026241791803838996), 'SAMC': np.float64(0.02659529956480548), 'GRD': np.float64(0.016370602791571858), 'BAT_G': np.float64(0.013265732545177895), 'TH': np.float64(0.010344378864035175), 'TH0.25': np.float64(0.013338024826593764)}\n",
      "max quit time 138\n",
      "max quit time 118\n",
      "max quit time 93\n",
      "max_bsize 20\n",
      "optimal batch size 5\n",
      "OFF 4463.336460459524 1.0\n",
      "SAM 2622.006680849496 0.5874544086195884\n",
      "SAMC 2502.9441203518895 0.5607787229408644\n",
      "GRD 2051.6905518000426 0.4596764259149781\n",
      "BAT_G 2435.3121214437792 0.5456259332044735\n",
      "TH 2697.0441312425296 0.6042663722834947\n",
      "TH0.25 2845.3777230511128 0.6375001634445829\n",
      "{'OFF': np.float64(0.0), 'SAM': np.float64(0.033877270347913), 'SAMC': np.float64(0.02054579923864434), 'GRD': np.float64(0.01049958390377279), 'BAT_G': np.float64(0.01744575607584071), 'TH': np.float64(0.039632916925745346), 'TH0.25': np.float64(0.03828148854266775)}\n",
      "max quit time 85\n",
      "max quit time 122\n",
      "max quit time 89\n",
      "max_bsize 20\n",
      "optimal batch size 6\n",
      "OFF 4364.228410616956 1.0\n",
      "SAM 2397.6053581023643 0.5493766898793968\n",
      "SAMC 2354.5976732345443 0.539522099142763\n",
      "GRD 2026.359774103902 0.4643111183581343\n",
      "BAT_G 2437.645312990657 0.5585512680914094\n",
      "TH 2494.234509531247 0.5715178663571931\n",
      "TH0.25 2671.849334201868 0.6122157418942602\n",
      "{'OFF': np.float64(0.0), 'SAM': np.float64(0.00212945399534335), 'SAMC': np.float64(0.0018917771484656368), 'GRD': np.float64(0.0021409426441397605), 'BAT_G': np.float64(0.004506696659547033), 'TH': np.float64(0.015621874815708385), 'TH0.25': np.float64(0.007138295982901961)}\n",
      "save to file result/gamma_geo_newsyn\n"
     ]
    }
   ],
   "source": [
    "# weight generated with std=10\n",
    "diff_gamma(dist_type = 'geo_new', dist_hyperpara = 20, density = 1, type_number=50, gamma_list = [1], input_file=None)"
   ]
  },
  {
   "cell_type": "code",
   "execution_count": null,
   "metadata": {},
   "outputs": [],
   "source": [
    "# weight generated with std=10\n",
    "diff_gamma(dist_type = 'geo_new', dist_hyperpara = 20, density = 1, type_number=50, gamma_list = [1], input_file=None)"
   ]
  },
  {
   "cell_type": "code",
   "execution_count": null,
   "metadata": {},
   "outputs": [],
   "source": [
    "# weight generated with std=10\n",
    "diff_gamma(dist_type = 'geo_new', dist_hyperpara = 20, density = 1, type_number=100, gamma_list = [1], input_file=None)"
   ]
  },
  {
   "cell_type": "code",
   "execution_count": null,
   "metadata": {},
   "outputs": [],
   "source": [
    "# weight generated with std=1\n",
    "diff_gamma(dist_type = 'geo_new', dist_hyperpara = 20, density = 1, type_number=100, gamma_list = [1], input_file=None)"
   ]
  },
  {
   "cell_type": "code",
   "execution_count": null,
   "metadata": {},
   "outputs": [],
   "source": [
    "# weight generated with std=10\n",
    "diff_gamma(dist_type = 'geo_new', dist_hyperpara = 20, density = 0.9, type_number=100, gamma_list = [1], input_file=None)"
   ]
  },
  {
   "cell_type": "code",
   "execution_count": null,
   "metadata": {},
   "outputs": [],
   "source": [
    "# weight generated with std=10\n",
    "diff_gamma(dist_type = 'geo_new', dist_hyperpara = 20, density = 0.9, type_number=50, gamma_list = [1], input_file=None)"
   ]
  },
  {
   "cell_type": "code",
   "execution_count": null,
   "metadata": {},
   "outputs": [],
   "source": [
    "# weight generated with std=10\n",
    "diff_gamma(dist_type = 'geo_new', dist_hyperpara = 20, density = 0.9, type_number=50, gamma_list = [1], input_file=None)"
   ]
  },
  {
   "cell_type": "code",
   "execution_count": null,
   "metadata": {},
   "outputs": [],
   "source": [
    "# weight generated with std=10\n",
    "diff_gamma(dist_type = 'geo_new', dist_hyperpara = 50, density = 0.9, type_number=50, gamma_list = [1], input_file=None)"
   ]
  },
  {
   "cell_type": "code",
   "execution_count": null,
   "metadata": {},
   "outputs": [],
   "source": [
    "diff_gamma(dist_type = 'geo_new', dist_hyperpara = 20, density = 0.5, type_number=50, gamma_list = [1,2,3,4,5], input_file=None)"
   ]
  },
  {
   "cell_type": "code",
   "execution_count": null,
   "metadata": {},
   "outputs": [],
   "source": [
    "diff_gamma(dist_type = 'geo_new', dist_hyperpara = 20, density = 0.2, type_number=50, gamma_list = [1,2,3,4,5], input_file=None)"
   ]
  },
  {
   "cell_type": "code",
   "execution_count": null,
   "metadata": {},
   "outputs": [],
   "source": [
    "diff_gamma(dist_type = 'geo_new', dist_hyperpara = 50, density = 0.2, type_number=50, gamma_list = [1,2,3,4,5], input_file=None)"
   ]
  },
  {
   "cell_type": "code",
   "execution_count": null,
   "metadata": {},
   "outputs": [],
   "source": [
    "diff_gamma(dist_type = 'poisson', dist_hyperpara = 20, density = 0.2, type_number=50, gamma_list = [1,2,3,4,5], input_file=None)"
   ]
  },
  {
   "cell_type": "code",
   "execution_count": null,
   "metadata": {},
   "outputs": [],
   "source": [
    "diff_gamma(dist_type = 'geo', dist_hyperpara = 50, density = 0.3, type_number=50, gamma_list = [1], input_file=None)"
   ]
  },
  {
   "cell_type": "code",
   "execution_count": null,
   "metadata": {},
   "outputs": [],
   "source": [
    "diff_gamma(dist_type = 'geo', dist_hyperpara = 10, density = 0.3, type_number=10, gamma_list = [1], input_file=None)"
   ]
  },
  {
   "cell_type": "code",
   "execution_count": null,
   "metadata": {},
   "outputs": [],
   "source": [
    "diff_gamma(dist_type = 'geo', dist_hyperpara = 10, density = 0.3, type_number=10, gamma_list = [1], input_file=None)"
   ]
  },
  {
   "cell_type": "code",
   "execution_count": null,
   "metadata": {},
   "outputs": [],
   "source": [
    "diff_gamma(dist_type = 'geo', dist_hyperpara = 40, density = 0.3, type_number=40, gamma_list = [2], input_file=None)"
   ]
  },
  {
   "cell_type": "code",
   "execution_count": null,
   "metadata": {},
   "outputs": [],
   "source": [
    "diff_gamma(dist_type = 'geo', dist_hyperpara = 40, density = 0.3, type_number=40, gamma_list = [2], input_file=None)"
   ]
  },
  {
   "cell_type": "code",
   "execution_count": null,
   "metadata": {},
   "outputs": [],
   "source": [
    "diff_gamma(dist_type = 'geo', dist_hyperpara = 50, density = 0.5, type_number=60, gamma_list = [2], input_file=None)"
   ]
  },
  {
   "cell_type": "code",
   "execution_count": null,
   "metadata": {},
   "outputs": [],
   "source": [
    "diff_gamma(dist_type = 'geo', dist_hyperpara = 50, density = 0.5, type_number=60, gamma_list = [1], input_file=None)"
   ]
  },
  {
   "cell_type": "code",
   "execution_count": null,
   "metadata": {},
   "outputs": [],
   "source": [
    "diff_gamma(dist_type = 'geo', dist_hyperpara = 5, density = 1, type_number=5, gamma_list = [1], input_file=None)"
   ]
  },
  {
   "cell_type": "code",
   "execution_count": null,
   "metadata": {},
   "outputs": [],
   "source": [
    "diff_gamma(dist_type = 'sin', dist_hyperpara = 20, density = 0.5, type_number= 5, gamma_list = [1], input_file=None)"
   ]
  },
  {
   "cell_type": "code",
   "execution_count": null,
   "metadata": {},
   "outputs": [],
   "source": [
    "diff_gamma(dist_type = 'sin', dist_hyperpara = 50, density = 0.5, type_number= 100, gamma_list = [1,2], input_file=None)"
   ]
  },
  {
   "cell_type": "code",
   "execution_count": null,
   "metadata": {},
   "outputs": [],
   "source": [
    "diff_gamma(dist_type = 'fix_single', dist_hyperpara = 50, density = 0.5, type_number= 100, gamma_list = [1, 2, 3, 4, 5, 6, 7, 8, 9, 10], input_file=None)"
   ]
  },
  {
   "cell_type": "code",
   "execution_count": null,
   "metadata": {},
   "outputs": [],
   "source": [
    "diff_gamma(dist_type = 'single', dist_hyperpara = 30, density = 0.3, type_number= 30, gamma_list = [1], input_file=None)"
   ]
  },
  {
   "cell_type": "code",
   "execution_count": null,
   "metadata": {},
   "outputs": [],
   "source": [
    "diff_gamma(dist_type = 'single', dist_hyperpara = 30, density = 0.5, type_number= 50, gamma_list = [1], input_file=None)"
   ]
  },
  {
   "cell_type": "code",
   "execution_count": null,
   "metadata": {},
   "outputs": [],
   "source": [
    "diff_gamma(dist_type = 'single', dist_hyperpara = 30, density = 0.5, type_number= 100, gamma_list = [1], input_file=None)"
   ]
  },
  {
   "cell_type": "code",
   "execution_count": null,
   "metadata": {},
   "outputs": [],
   "source": [
    "diff_gamma(dist_type = 'single', dist_hyperpara = 50, density = 0.5, type_number= 100, gamma_list = [1], input_file=None)"
   ]
  },
  {
   "cell_type": "code",
   "execution_count": null,
   "metadata": {},
   "outputs": [],
   "source": [
    "diff_gamma(dist_type = 'poisson', dist_hyperpara = 50, density = 0.5, type_number= 100, gamma_list = [1], input_file=None)"
   ]
  },
  {
   "cell_type": "code",
   "execution_count": null,
   "metadata": {},
   "outputs": [],
   "source": [
    "diff_gamma(dist_type = 'poisson', dist_hyperpara = 50, density = 1, type_number= 100, gamma_list = [1], input_file=None)"
   ]
  },
  {
   "cell_type": "code",
   "execution_count": null,
   "metadata": {},
   "outputs": [],
   "source": [
    "diff_gamma(dist_type = 'geometric', dist_hyperpara = 0.02, density = 1, type_number= 100, gamma_list = [1, 2, 3, 4, 5], input_file=None)"
   ]
  },
  {
   "cell_type": "code",
   "execution_count": null,
   "metadata": {},
   "outputs": [],
   "source": [
    "diff_gamma(dist_type = 'geo', dist_hyperpara = 20, density = 0.5, type_number= 20, gamma_list = [1, 2, 3, 4, 5], input_file=None)"
   ]
  },
  {
   "cell_type": "code",
   "execution_count": null,
   "metadata": {},
   "outputs": [],
   "source": [
    "diff_gamma(dist_type = 'geo', dist_hyperpara = 10, density = 0.5, type_number= 50, gamma_list = [1, 2, 3, 4, 5,6, 7, 8, 9, 10], input_file=None)"
   ]
  },
  {
   "cell_type": "code",
   "execution_count": null,
   "metadata": {},
   "outputs": [],
   "source": [
    "para_list = [10, 20, 30, 40, 50, 60, 70, 80]\n",
    "for i in range(len(para_list)):\n",
    "    diff_gamma(dist_type = 'geo', dist_hyperpara = para_list[i], density = 0.5, type_number= 50, gamma_list = [1, 2, 3, 4, 5,6, 7, 8, 9, 10], input_file=None)\n",
    "    diff_gamma(dist_type = 'single', dist_hyperpara = para_list[i], density = 0.5, type_number= 50, gamma_list = [1, 2, 3, 4, 5,6, 7, 8, 9, 10], input_file=None)    \n",
    "    diff_gamma(dist_type = 'poisson', dist_hyperpara = para_list[i], density = 0.5, type_number= 50, gamma_list = [1, 2, 3, 4, 5,6, 7, 8, 9, 10], input_file=None)"
   ]
  },
  {
   "cell_type": "code",
   "execution_count": null,
   "metadata": {},
   "outputs": [],
   "source": [
    "geo_list = [0.1, 0.3, 0.5, 0.7, 0.9]\n",
    "sin_list = [10, 15, 20, 25, 30]"
   ]
  },
  {
   "cell_type": "code",
   "execution_count": null,
   "metadata": {},
   "outputs": [],
   "source": []
  },
  {
   "cell_type": "code",
   "execution_count": null,
   "metadata": {},
   "outputs": [],
   "source": [
    "# L = 10, del = 2, A = 1\n",
    "for i in range(len(geo_list)):\n",
    "    diff_gamma(dist_type='geometric', dist_hyperpara=geo_list[i], input_file='nyc_10_2_341')\n",
    "    diff_gamma(dist_type='single', dist_hyperpara=sin_list[i], input_file='nyc_10_2_341')\n",
    "    diff_gamma(dist_type='poisson', dist_hyperpara=sin_list[i], input_file='nyc_10_2_341')"
   ]
  },
  {
   "cell_type": "code",
   "execution_count": null,
   "metadata": {},
   "outputs": [],
   "source": [
    "# L = 20, del = 2, A = 1\n",
    "for i in range(len(geo_list)):\n",
    "    diff_gamma(dist_type='geometric', dist_hyperpara=geo_list[i], input_file='nyc_20_2_394')\n",
    "    diff_gamma(dist_type='single', dist_hyperpara=sin_list[i], input_file='nyc_20_2_394')\n",
    "    diff_gamma(dist_type='poisson', dist_hyperpara=sin_list[i], input_file='nyc_20_2_394')"
   ]
  },
  {
   "cell_type": "code",
   "execution_count": null,
   "metadata": {},
   "outputs": [],
   "source": [
    "# L = 10, del = 2, A = 3\n",
    "for i in range(len(geo_list)):\n",
    "    diff_gamma(dist_type='geometric', dist_hyperpara=geo_list[i], input_file='nyc_10_2_341_3')\n",
    "    diff_gamma(dist_type='single', dist_hyperpara=sin_list[i], input_file='nyc_10_2_341_3')\n",
    "    diff_gamma(dist_type='poisson', dist_hyperpara=sin_list[i], input_file='nyc_10_2_341_3')"
   ]
  },
  {
   "cell_type": "code",
   "execution_count": null,
   "metadata": {},
   "outputs": [],
   "source": [
    "# L = 20, del = 2, A = 3\n",
    "for i in range(len(geo_list)):\n",
    "    diff_gamma(dist_type='geometric', dist_hyperpara=geo_list[i], input_file='nyc_20_2_394_3')\n",
    "    diff_gamma(dist_type='single', dist_hyperpara=sin_list[i], input_file='nyc_20_2_394_3')\n",
    "    diff_gamma(dist_type='poisson', dist_hyperpara=sin_list[i], input_file='nyc_20_2_394_3')"
   ]
  },
  {
   "cell_type": "code",
   "execution_count": null,
   "metadata": {},
   "outputs": [],
   "source": [
    "geo_list = [0.1, 0.3, 0.5, 0.7, 0.9]\n",
    "sin_list = [10, 15, 20, 25, 30]\n",
    "for i in range(len(geo_list)):\n",
    "    diff_gamma(dist_type='geometric', dist_hyperpara=geo_list[i], input_file='nyc_10_5_341')\n",
    "    diff_gamma(dist_type='single', dist_hyperpara=sin_list[i], input_file='nyc_10_5_341')\n",
    "    diff_gamma(dist_type='poisson', dist_hyperpara=sin_list[i], input_file='nyc_10_5_341')"
   ]
  },
  {
   "cell_type": "code",
   "execution_count": null,
   "metadata": {},
   "outputs": [],
   "source": [
    "geo_list = [0.1, 0.3, 0.5, 0.7, 0.9]\n",
    "sin_list = [10, 15, 20, 25, 30]\n",
    "for i in range(len(geo_list)):\n",
    "    diff_gamma(dist_type='geometric', dist_hyperpara=geo_list[i], input_file='nyc_20_2_511')\n",
    "    diff_gamma(dist_type='single', dist_hyperpara=sin_list[i], input_file='nyc_20_2_511')\n",
    "    diff_gamma(dist_type='poisson', dist_hyperpara=sin_list[i], input_file='nyc_20_2_511')"
   ]
  },
  {
   "cell_type": "code",
   "execution_count": null,
   "metadata": {},
   "outputs": [],
   "source": [
    "geo_list = [0.1, 0.3, 0.5, 0.7, 0.9]\n",
    "sin_list = [10, 15, 20, 25, 30]\n",
    "for i in range(len(geo_list)):\n",
    "    diff_gamma(dist_type='geometric', dist_hyperpara=geo_list[i], input_file='nyc_20_5_511')\n",
    "    diff_gamma(dist_type='single', dist_hyperpara=sin_list[i], input_file='nyc_20_5_511')\n",
    "    diff_gamma(dist_type='poisson', dist_hyperpara=sin_list[i], input_file='nyc_20_5_511')"
   ]
  },
  {
   "cell_type": "code",
   "execution_count": null,
   "metadata": {},
   "outputs": [],
   "source": [
    "diff_gamma(dist_type='poisson', dist_hyperpara=35, input_file=None)"
   ]
  },
  {
   "cell_type": "code",
   "execution_count": null,
   "metadata": {},
   "outputs": [],
   "source": [
    "# density 5, p_min = 0.9\n",
    "diff_gamma(dist_type='geometric', dist_hyperpara=0.1, input_file=None)\n",
    "diff_gamma(dist_type='single', dist_hyperpara=5, input_file=None)\n",
    "diff_gamma(dist_type='poisson', dist_hyperpara=5, input_file=None)"
   ]
  },
  {
   "cell_type": "code",
   "execution_count": null,
   "metadata": {},
   "outputs": [],
   "source": [
    "# density 5, p_min = 0.9\n",
    "diff_gamma(dist_type='geometric', dist_hyperpara=0.5, input_file=None)\n",
    "diff_gamma(dist_type='single', dist_hyperpara=20, input_file=None)\n",
    "diff_gamma(dist_type='poisson', dist_hyperpara=20, input_file=None)"
   ]
  },
  {
   "cell_type": "code",
   "execution_count": null,
   "metadata": {},
   "outputs": [],
   "source": [
    "# density 5, p_min = 0.9\n",
    "diff_gamma(dist_type='geometric', dist_hyperpara=0.9, input_file=None)\n",
    "diff_gamma(dist_type='single', dist_hyperpara=35, input_file=None)\n",
    "diff_gamma(dist_type='poisson', dist_hyperpara=35, input_file=None)"
   ]
  },
  {
   "cell_type": "code",
   "execution_count": null,
   "metadata": {},
   "outputs": [],
   "source": [
    "# density = 5, p_min=0\n",
    "diff_gamma(dist_type='single', dist_hyperpara=35, input_file=None)\n",
    "diff_gamma(dist_type='poisson', dist_hyperpara=35, input_file=None)"
   ]
  },
  {
   "cell_type": "code",
   "execution_count": null,
   "metadata": {},
   "outputs": [],
   "source": [
    "# density 5, p_min = 0.0\n",
    "diff_gamma(dist_type='geometric', dist_hyperpara=0.1, input_file=None)\n",
    "diff_gamma(dist_type='single', dist_hyperpara=5, input_file=None)\n",
    "diff_gamma(dist_type='poisson', dist_hyperpara=5, input_file=None)"
   ]
  },
  {
   "cell_type": "code",
   "execution_count": null,
   "metadata": {},
   "outputs": [],
   "source": [
    "# density 5, p_min = 0.0\n",
    "diff_gamma(dist_type='geometric', dist_hyperpara=0.5, input_file=None)\n",
    "diff_gamma(dist_type='single', dist_hyperpara=20, input_file=None)\n",
    "diff_gamma(dist_type='poisson', dist_hyperpara=20, input_file=None)"
   ]
  },
  {
   "cell_type": "code",
   "execution_count": null,
   "metadata": {},
   "outputs": [],
   "source": [
    "# density 5, p_min = 0.0\n",
    "diff_gamma(dist_type='geometric', dist_hyperpara=0.9, input_file=None)\n",
    "diff_gamma(dist_type='single', dist_hyperpara=35, input_file=None)\n",
    "diff_gamma(dist_type='poisson', dist_hyperpara=35, input_file=None)"
   ]
  },
  {
   "cell_type": "code",
   "execution_count": null,
   "metadata": {},
   "outputs": [],
   "source": [
    "# density 2.5, p_min = 0.9\n",
    "diff_gamma(dist_type='geometric', dist_hyperpara=0.1, input_file=None)\n",
    "diff_gamma(dist_type='single', dist_hyperpara=5, input_file=None)\n",
    "diff_gamma(dist_type='poisson', dist_hyperpara=5, input_file=None)"
   ]
  },
  {
   "cell_type": "code",
   "execution_count": null,
   "metadata": {},
   "outputs": [],
   "source": []
  },
  {
   "cell_type": "code",
   "execution_count": null,
   "metadata": {},
   "outputs": [],
   "source": [
    "# density 2.5, p_min = 0.9\n",
    "diff_gamma(dist_type='geometric', dist_hyperpara=0.5, input_file=None)\n",
    "diff_gamma(dist_type='single', dist_hyperpara=20, input_file=None)\n",
    "diff_gamma(dist_type='poisson', dist_hyperpara=20, input_file=None)"
   ]
  },
  {
   "cell_type": "code",
   "execution_count": null,
   "metadata": {},
   "outputs": [],
   "source": [
    "# density 2.5, p_min = 0.9\n",
    "diff_gamma(dist_type='geometric', dist_hyperpara=0.9, input_file=None)\n",
    "diff_gamma(dist_type='single', dist_hyperpara=35, input_file=None)\n",
    "diff_gamma(dist_type='poisson', dist_hyperpara=35, input_file=None)"
   ]
  },
  {
   "cell_type": "code",
   "execution_count": null,
   "metadata": {},
   "outputs": [],
   "source": [
    "# density = 2.5, p_min=0\n",
    "diff_gamma(dist_type='geometric', dist_hyperpara=0.5, input_file=None)\n",
    "diff_gamma(dist_type='single', dist_hyperpara=20, input_file=None)\n",
    "diff_gamma(dist_type='poisson', dist_hyperpara=20, input_file=None)"
   ]
  },
  {
   "cell_type": "code",
   "execution_count": null,
   "metadata": {},
   "outputs": [],
   "source": [
    "# density = 2.5, p_min=0\n",
    "diff_gamma(dist_type='geometric', dist_hyperpara=0.9, input_file=None)\n",
    "diff_gamma(dist_type='single', dist_hyperpara=35, input_file=None)\n",
    "diff_gamma(dist_type='poisson', dist_hyperpara=35, input_file=None)"
   ]
  },
  {
   "cell_type": "code",
   "execution_count": null,
   "metadata": {},
   "outputs": [],
   "source": [
    "# density = 2.5, p_min=0\n",
    "# diff_gamma(dist_type='geometric', dist_hyperpara=0.9, input_file=None)\n",
    "diff_gamma(dist_type='single', dist_hyperpara=5, input_file=None)\n",
    "diff_gamma(dist_type='poisson', dist_hyperpara=5, input_file=None)"
   ]
  },
  {
   "cell_type": "code",
   "execution_count": null,
   "metadata": {},
   "outputs": [],
   "source": [
    "diff_gamma(dist_type='single', dist_hyperpara=20, input_file=None)"
   ]
  },
  {
   "cell_type": "code",
   "execution_count": null,
   "metadata": {},
   "outputs": [],
   "source": [
    "diff_gamma(dist_type='poisson', dist_hyperpara=20, input_file=None)"
   ]
  },
  {
   "cell_type": "code",
   "execution_count": null,
   "metadata": {},
   "outputs": [],
   "source": [
    "diff_gamma(dist_type='geometric', dist_hyperpara=0.5, input_file='nyc_20_2_511')\n",
    "diff_gamma(dist_type='single', dist_hyperpara=20, input_file='nyc_20_2_511')\n",
    "diff_gamma(dist_type='poisson', dist_hyperpara=20, input_file='nyc_20_2_511')"
   ]
  },
  {
   "cell_type": "code",
   "execution_count": null,
   "metadata": {},
   "outputs": [],
   "source": []
  }
 ],
 "metadata": {
  "kernelspec": {
   "display_name": "Python 3",
   "language": "python",
   "name": "python3"
  },
  "language_info": {
   "codemirror_mode": {
    "name": "ipython",
    "version": 3
   },
   "file_extension": ".py",
   "mimetype": "text/x-python",
   "name": "python",
   "nbconvert_exporter": "python",
   "pygments_lexer": "ipython3",
   "version": "3.11.7"
  }
 },
 "nbformat": 4,
 "nbformat_minor": 2
}
