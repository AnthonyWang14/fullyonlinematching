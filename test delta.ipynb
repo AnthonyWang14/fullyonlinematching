{
 "cells": [
  {
   "cell_type": "code",
   "execution_count": 1,
   "metadata": {},
   "outputs": [],
   "source": [
    "from eval import *\n",
    "# 5 instances"
   ]
  },
  {
   "cell_type": "code",
   "execution_count": 2,
   "metadata": {},
   "outputs": [],
   "source": [
    "np.random.seed(1)"
   ]
  },
  {
   "cell_type": "code",
   "execution_count": 3,
   "metadata": {},
   "outputs": [
    {
     "name": "stdout",
     "output_type": "stream",
     "text": [
      "density 2.5 type_number 50 dist_type geometric dist_hyperpara 0.5 gamma 1 testnum 1 save 0 algo_list ['OFF', 'RCP', 'GRD', 'SAM1', 'SAMC1', 'BAT', 'HG']\n",
      "test file nyc_20_1_511\n",
      "OFF 558.0 1.0\n",
      "RCP 0.0 0.0\n",
      "GRD 126.0 0.22580645161290322\n",
      "SAM1 556.0 0.996415770609319\n",
      "SAMC1 556.0 0.996415770609319\n",
      "BAT 191.0 0.34229390681003585\n",
      "HG 162.0 0.2903225806451613\n",
      "run time\n",
      "OFF 4.221714973449707\n",
      "RCP 10.730221033096313\n",
      "GRD 0.010339736938476562\n",
      "SAM1 5.20597505569458\n",
      "SAMC1 4.789597034454346\n",
      "BAT 1.2069220542907715\n",
      "HG 1.6789391040802002\n",
      "density 2.5 type_number 50 dist_type geometric dist_hyperpara 0.5 gamma 1 testnum 1 save 0 algo_list ['OFF', 'RCP', 'GRD', 'SAM1', 'SAMC1', 'BAT', 'HG']\n",
      "test file nyc_20_2_511\n",
      "\n",
      "Interrupt request received\n"
     ]
    },
    {
     "ename": "GurobiError",
     "evalue": "Unable to retrieve attribute 'X'",
     "output_type": "error",
     "traceback": [
      "\u001b[0;31m---------------------------------------------------------------------------\u001b[0m",
      "\u001b[0;31mGurobiError\u001b[0m                               Traceback (most recent call last)",
      "Cell \u001b[0;32mIn[3], line 1\u001b[0m\n\u001b[0;32m----> 1\u001b[0m \u001b[43mdiff_delta\u001b[49m\u001b[43m(\u001b[49m\u001b[43mdist_type\u001b[49m\u001b[38;5;241;43m=\u001b[39;49m\u001b[38;5;124;43m'\u001b[39;49m\u001b[38;5;124;43mgeometric\u001b[39;49m\u001b[38;5;124;43m'\u001b[39;49m\u001b[43m,\u001b[49m\u001b[43m \u001b[49m\u001b[43mdist_hyperpara\u001b[49m\u001b[38;5;241;43m=\u001b[39;49m\u001b[38;5;241;43m0.5\u001b[39;49m\u001b[43m,\u001b[49m\u001b[43m \u001b[49m\u001b[43minput_file\u001b[49m\u001b[38;5;241;43m=\u001b[39;49m\u001b[38;5;28;43;01mNone\u001b[39;49;00m\u001b[43m)\u001b[49m\n",
      "File \u001b[0;32m~/Documents/GitHub/fullyonlinematching/eval.py:141\u001b[0m, in \u001b[0;36mdiff_delta\u001b[0;34m(dist_type, dist_hyperpara, input_file)\u001b[0m\n\u001b[1;32m    139\u001b[0m \u001b[38;5;28;01mfor\u001b[39;00m input_file \u001b[38;5;129;01min\u001b[39;00m input_file_list:\n\u001b[1;32m    140\u001b[0m     f \u001b[38;5;241m=\u001b[39m input_file\n\u001b[0;32m--> 141\u001b[0m     algo_ratio_mean, algo_ratio_std \u001b[38;5;241m=\u001b[39m \u001b[43mtest_save\u001b[49m\u001b[43m(\u001b[49m\u001b[43mdensity\u001b[49m\u001b[38;5;241;43m=\u001b[39;49m\u001b[43mdensity\u001b[49m\u001b[43m,\u001b[49m\u001b[43m \u001b[49m\u001b[43mtype_number\u001b[49m\u001b[38;5;241;43m=\u001b[39;49m\u001b[43mtype_number\u001b[49m\u001b[43m,\u001b[49m\u001b[43m \u001b[49m\u001b[43mdist_type\u001b[49m\u001b[38;5;241;43m=\u001b[39;49m\u001b[43mdist_type\u001b[49m\u001b[43m,\u001b[49m\u001b[43m \u001b[49m\u001b[43mdist_hyperpara\u001b[49m\u001b[38;5;241;43m=\u001b[39;49m\u001b[43mdist_hyperpara\u001b[49m\u001b[43m,\u001b[49m\u001b[43m \u001b[49m\u001b[43mgamma\u001b[49m\u001b[38;5;241;43m=\u001b[39;49m\u001b[43mgamma\u001b[49m\u001b[43m,\u001b[49m\u001b[43m \u001b[49m\u001b[43mtestnum\u001b[49m\u001b[38;5;241;43m=\u001b[39;49m\u001b[43mREAL_NUM\u001b[49m\u001b[43m,\u001b[49m\u001b[43m \u001b[49m\u001b[43msave\u001b[49m\u001b[38;5;241;43m=\u001b[39;49m\u001b[38;5;241;43m0\u001b[39;49m\u001b[43m,\u001b[49m\u001b[43m \u001b[49m\u001b[43malgo_list\u001b[49m\u001b[38;5;241;43m=\u001b[39;49m\u001b[43malgo_list\u001b[49m\u001b[43m,\u001b[49m\u001b[43m \u001b[49m\u001b[43mfilename\u001b[49m\u001b[38;5;241;43m=\u001b[39;49m\u001b[43mf\u001b[49m\u001b[43m)\u001b[49m\n\u001b[1;32m    142\u001b[0m     algo_ratio_mean_list\u001b[38;5;241m.\u001b[39mappend(algo_ratio_mean)\n\u001b[1;32m    143\u001b[0m     algo_ratio_std_list\u001b[38;5;241m.\u001b[39mappend(algo_ratio_std)\n",
      "File \u001b[0;32m~/Documents/GitHub/fullyonlinematching/eval.py:43\u001b[0m, in \u001b[0;36mtest_save\u001b[0;34m(density, type_number, dist_type, dist_hyperpara, gamma, testnum, save, algo_list, filename, rmin)\u001b[0m\n\u001b[1;32m     41\u001b[0m \u001b[38;5;28;01mfor\u001b[39;00m g \u001b[38;5;129;01min\u001b[39;00m g_list:\n\u001b[1;32m     42\u001b[0m     online_match \u001b[38;5;241m=\u001b[39m OnlineMatching(g, T\u001b[38;5;241m=\u001b[39mT, mapping_file \u001b[38;5;241m=\u001b[39m filename)\n\u001b[0;32m---> 43\u001b[0m     single_graph_algo_ratio_list \u001b[38;5;241m=\u001b[39m \u001b[43monline_match\u001b[49m\u001b[38;5;241;43m.\u001b[39;49m\u001b[43mrun_test\u001b[49m\u001b[43m(\u001b[49m\u001b[43malgo_list\u001b[49m\u001b[38;5;241;43m=\u001b[39;49m\u001b[43malgo_list\u001b[49m\u001b[43m,\u001b[49m\u001b[43m \u001b[49m\u001b[43mgamma\u001b[49m\u001b[38;5;241;43m=\u001b[39;49m\u001b[43mgamma\u001b[49m\u001b[43m,\u001b[49m\u001b[43m \u001b[49m\u001b[43mtest_num\u001b[49m\u001b[38;5;241;43m=\u001b[39;49m\u001b[43mREAL_NUM\u001b[49m\u001b[43m,\u001b[49m\u001b[43m \u001b[49m\u001b[43msave\u001b[49m\u001b[38;5;241;43m=\u001b[39;49m\u001b[43msave\u001b[49m\u001b[43m)\u001b[49m\n\u001b[1;32m     44\u001b[0m     \u001b[38;5;28;01mfor\u001b[39;00m algo \u001b[38;5;129;01min\u001b[39;00m algo_list:\n\u001b[1;32m     45\u001b[0m         algo_ratio_list[algo]\u001b[38;5;241m.\u001b[39mappend(single_graph_algo_ratio_list[algo])\n",
      "File \u001b[0;32m~/Documents/GitHub/fullyonlinematching/online_matching.py:117\u001b[0m, in \u001b[0;36mOnlineMatching.run_test\u001b[0;34m(self, algo_list, gamma, test_num, save)\u001b[0m\n\u001b[1;32m    115\u001b[0m \u001b[38;5;28;01mif\u001b[39;00m algo \u001b[38;5;241m==\u001b[39m \u001b[38;5;124m'\u001b[39m\u001b[38;5;124mRCP\u001b[39m\u001b[38;5;124m'\u001b[39m:\n\u001b[1;32m    116\u001b[0m     rcp \u001b[38;5;241m=\u001b[39m RandCompMatching(graph\u001b[38;5;241m=\u001b[39m\u001b[38;5;28mself\u001b[39m\u001b[38;5;241m.\u001b[39mG, seq\u001b[38;5;241m=\u001b[39mseq, quit_time\u001b[38;5;241m=\u001b[39mquit_time)\n\u001b[0;32m--> 117\u001b[0m     reward \u001b[38;5;241m=\u001b[39m \u001b[43mrcp\u001b[49m\u001b[38;5;241;43m.\u001b[39;49m\u001b[43meval\u001b[49m\u001b[43m(\u001b[49m\u001b[43m)\u001b[49m\n\u001b[1;32m    118\u001b[0m     matching \u001b[38;5;241m=\u001b[39m rcp\u001b[38;5;241m.\u001b[39mmatching\n\u001b[1;32m    120\u001b[0m \u001b[38;5;28;01mif\u001b[39;00m algo \u001b[38;5;241m==\u001b[39m \u001b[38;5;124m'\u001b[39m\u001b[38;5;124mGRD\u001b[39m\u001b[38;5;124m'\u001b[39m:\n",
      "File \u001b[0;32m~/Documents/GitHub/fullyonlinematching/randcomp.py:141\u001b[0m, in \u001b[0;36mRandCompMatching.eval\u001b[0;34m(self)\u001b[0m\n\u001b[1;32m    139\u001b[0m \u001b[38;5;28mself\u001b[39m\u001b[38;5;241m.\u001b[39mreward \u001b[38;5;241m=\u001b[39m \u001b[38;5;241m0\u001b[39m\n\u001b[1;32m    140\u001b[0m \u001b[38;5;28mself\u001b[39m\u001b[38;5;241m.\u001b[39mmatching \u001b[38;5;241m=\u001b[39m []\n\u001b[0;32m--> 141\u001b[0m \u001b[38;5;28;43mself\u001b[39;49m\u001b[38;5;241;43m.\u001b[39;49m\u001b[43mflow_decomposition\u001b[49m\u001b[43m(\u001b[49m\u001b[43m)\u001b[49m\n\u001b[1;32m    142\u001b[0m \u001b[38;5;28mself\u001b[39m\u001b[38;5;241m.\u001b[39ml_list \u001b[38;5;241m=\u001b[39m [\u001b[38;5;241m-\u001b[39m\u001b[38;5;241m1\u001b[39m \u001b[38;5;28;01mfor\u001b[39;00m t \u001b[38;5;129;01min\u001b[39;00m \u001b[38;5;28mself\u001b[39m\u001b[38;5;241m.\u001b[39mseq]\n\u001b[1;32m    143\u001b[0m matched \u001b[38;5;241m=\u001b[39m [\u001b[38;5;241m0\u001b[39m \u001b[38;5;28;01mfor\u001b[39;00m i \u001b[38;5;129;01min\u001b[39;00m \u001b[38;5;28mself\u001b[39m\u001b[38;5;241m.\u001b[39mseq]\n",
      "File \u001b[0;32m~/Documents/GitHub/fullyonlinematching/randcomp.py:59\u001b[0m, in \u001b[0;36mRandCompMatching.flow_decomposition\u001b[0;34m(self)\u001b[0m\n\u001b[1;32m     55\u001b[0m \u001b[38;5;66;03m# print(m.status == GRB.Status.OPTIMAL)\u001b[39;00m\n\u001b[1;32m     56\u001b[0m \u001b[38;5;66;03m# for e in mutual_edge_name:\u001b[39;00m\n\u001b[1;32m     57\u001b[0m \u001b[38;5;66;03m#     self.sol[e] = 0.25*x[e].getAttr(GRB.Attr.X)\u001b[39;00m\n\u001b[1;32m     58\u001b[0m m\u001b[38;5;241m.\u001b[39mwrite(\u001b[38;5;124m\"\u001b[39m\u001b[38;5;124mout.lp\u001b[39m\u001b[38;5;124m\"\u001b[39m)\n\u001b[0;32m---> 59\u001b[0m \u001b[43mm\u001b[49m\u001b[38;5;241;43m.\u001b[39;49m\u001b[43mwrite\u001b[49m\u001b[43m(\u001b[49m\u001b[38;5;124;43m\"\u001b[39;49m\u001b[38;5;124;43mout.sol\u001b[39;49m\u001b[38;5;124;43m\"\u001b[39;49m\u001b[43m)\u001b[49m\n\u001b[1;32m     60\u001b[0m \u001b[38;5;66;03m# print('x', x)\u001b[39;00m\n\u001b[1;32m     61\u001b[0m \u001b[38;5;28mself\u001b[39m\u001b[38;5;241m.\u001b[39mflowij \u001b[38;5;241m=\u001b[39m np\u001b[38;5;241m.\u001b[39mzeros((\u001b[38;5;28mself\u001b[39m\u001b[38;5;241m.\u001b[39mG\u001b[38;5;241m.\u001b[39mN, \u001b[38;5;28mself\u001b[39m\u001b[38;5;241m.\u001b[39mG\u001b[38;5;241m.\u001b[39mN))\n",
      "File \u001b[0;32msrc/gurobipy/model.pxi:1391\u001b[0m, in \u001b[0;36mgurobipy.Model.write\u001b[0;34m()\u001b[0m\n",
      "\u001b[0;31mGurobiError\u001b[0m: Unable to retrieve attribute 'X'"
     ]
    }
   ],
   "source": [
    "diff_delta(dist_type='geometric', dist_hyperpara=0.5, input_file=None)"
   ]
  },
  {
   "cell_type": "code",
   "execution_count": null,
   "metadata": {},
   "outputs": [
    {
     "ename": "",
     "evalue": "",
     "output_type": "error",
     "traceback": [
      "\u001b[1;31mRunning cells with 'Python 3.9.6' requires the ipykernel package.\n",
      "\u001b[1;31mRun the following command to install 'ipykernel' into the Python environment. \n",
      "\u001b[1;31mCommand: '/usr/bin/python3 -m pip install ipykernel -U --user --force-reinstall'"
     ]
    }
   ],
   "source": [
    "diff_delta(dist_type='single', dist_hyperpara=20, input_file=None)"
   ]
  },
  {
   "cell_type": "code",
   "execution_count": null,
   "metadata": {},
   "outputs": [
    {
     "ename": "",
     "evalue": "",
     "output_type": "error",
     "traceback": [
      "\u001b[1;31mRunning cells with 'Python 3.9.6' requires the ipykernel package.\n",
      "\u001b[1;31mRun the following command to install 'ipykernel' into the Python environment. \n",
      "\u001b[1;31mCommand: '/usr/bin/python3 -m pip install ipykernel -U --user --force-reinstall'"
     ]
    }
   ],
   "source": [
    "diff_delta(dist_type='poisson', dist_hyperpara=20, input_file=None)"
   ]
  },
  {
   "cell_type": "code",
   "execution_count": null,
   "metadata": {},
   "outputs": [
    {
     "ename": "",
     "evalue": "",
     "output_type": "error",
     "traceback": [
      "\u001b[1;31mRunning cells with 'Python 3.9.6' requires the ipykernel package.\n",
      "\u001b[1;31mRun the following command to install 'ipykernel' into the Python environment. \n",
      "\u001b[1;31mCommand: '/usr/bin/python3 -m pip install ipykernel -U --user --force-reinstall'"
     ]
    }
   ],
   "source": []
  }
 ],
 "metadata": {
  "kernelspec": {
   "display_name": "Python 3",
   "language": "python",
   "name": "python3"
  },
  "language_info": {
   "codemirror_mode": {
    "name": "ipython",
    "version": 3
   },
   "file_extension": ".py",
   "mimetype": "text/x-python",
   "name": "python",
   "nbconvert_exporter": "python",
   "pygments_lexer": "ipython3",
   "version": "3.9.6"
  }
 },
 "nbformat": 4,
 "nbformat_minor": 2
}
