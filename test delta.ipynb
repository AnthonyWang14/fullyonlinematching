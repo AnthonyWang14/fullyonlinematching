{
 "cells": [
  {
   "cell_type": "code",
   "execution_count": 1,
   "metadata": {},
   "outputs": [],
   "source": [
    "from eval import *\n",
    "# 5 instances"
   ]
  },
  {
   "cell_type": "code",
   "execution_count": 2,
   "metadata": {},
   "outputs": [],
   "source": [
    "np.random.seed(1)"
   ]
  },
  {
   "cell_type": "code",
   "execution_count": 3,
   "metadata": {},
   "outputs": [
    {
     "name": "stdout",
     "output_type": "stream",
     "text": [
      "density 2.5 type_number 50 dist_type geometric dist_hyperpara 0.5 gamma 1 testnum 1 save 0 algo_list ['OFF', 'RCP', 'GRD', 'SAM1', 'SAMC1', 'BAT', 'HG']\n",
      "test file nyc_20_1_511\n",
      "3\n",
      "OFF 120.0 1.0\n",
      "RCP 0.0 0.0\n",
      "GRD 25.0 0.20833333333333334\n",
      "SAM1 119.0 0.9916666666666667\n",
      "SAMC1 119.0 0.9916666666666667\n",
      "BAT 43.0 0.35833333333333334\n",
      "HG 31.0 0.25833333333333336\n",
      "density 2.5 type_number 50 dist_type geometric dist_hyperpara 0.5 gamma 1 testnum 1 save 0 algo_list ['OFF', 'RCP', 'GRD', 'SAM1', 'SAMC1', 'BAT', 'HG']\n",
      "test file nyc_20_2_511\n",
      "3\n",
      "OFF 272.0 1.0\n",
      "RCP 0.0 0.0\n",
      "GRD 82.0 0.3014705882352941\n",
      "SAM1 260.0 0.9558823529411765\n",
      "SAMC1 255.0 0.9375\n",
      "BAT 121.0 0.44485294117647056\n",
      "HG 87.0 0.31985294117647056\n",
      "density 2.5 type_number 50 dist_type geometric dist_hyperpara 0.5 gamma 1 testnum 1 save 0 algo_list ['OFF', 'RCP', 'GRD', 'SAM1', 'SAMC1', 'BAT', 'HG']\n",
      "test file nyc_20_3_511\n",
      "3\n",
      "OFF 404.0 1.0\n",
      "RCP 0.0 0.0\n",
      "GRD 141.0 0.349009900990099\n",
      "SAM1 365.0 0.9034653465346535\n",
      "SAMC1 363.0 0.8985148514851485\n",
      "BAT 172.0 0.42574257425742573\n",
      "HG 167.0 0.41336633663366334\n",
      "density 2.5 type_number 50 dist_type geometric dist_hyperpara 0.5 gamma 1 testnum 1 save 0 algo_list ['OFF', 'RCP', 'GRD', 'SAM1', 'SAMC1', 'BAT', 'HG']\n",
      "test file nyc_20_4_511\n",
      "3\n",
      "OFF 487.0 1.0\n",
      "RCP 0.0 0.0\n",
      "GRD 182.0 0.3737166324435318\n",
      "SAM1 418.0 0.8583162217659137\n",
      "SAMC1 411.0 0.8439425051334702\n",
      "BAT 205.0 0.4209445585215606\n",
      "HG 210.0 0.43121149897330596\n",
      "density 2.5 type_number 50 dist_type geometric dist_hyperpara 0.5 gamma 1 testnum 1 save 0 algo_list ['OFF', 'RCP', 'GRD', 'SAM1', 'SAMC1', 'BAT', 'HG']\n",
      "test file nyc_20_5_511\n",
      "3\n",
      "OFF 501.0 1.0\n",
      "RCP 0.0 0.0\n",
      "GRD 199.0 0.3972055888223553\n",
      "SAM1 416.0 0.8303393213572854\n",
      "SAMC1 418.0 0.8343313373253493\n",
      "BAT 236.0 0.47105788423153694\n",
      "HG 234.0 0.46706586826347307\n"
     ]
    }
   ],
   "source": [
    "diff_delta(dist_type='geometric', dist_hyperpara=0.5, input_file=None)"
   ]
  },
  {
   "cell_type": "code",
   "execution_count": 4,
   "metadata": {},
   "outputs": [
    {
     "name": "stdout",
     "output_type": "stream",
     "text": [
      "density 2.5 type_number 50 dist_type single dist_hyperpara 20 gamma 1 testnum 1 save 0 algo_list ['OFF', 'RCP', 'GRD', 'SAM1', 'SAMC1', 'BAT', 'HG']\n",
      "test file nyc_20_1_511\n",
      "18\n",
      "OFF 441.0 1.0\n",
      "RCP 70.0 0.15873015873015872\n",
      "GRD 42.0 0.09523809523809523\n",
      "SAM1 405.0 0.9183673469387755\n",
      "SAMC1 412.0 0.9342403628117913\n",
      "BAT 210.0 0.47619047619047616\n",
      "HG 28.0 0.06349206349206349\n",
      "density 2.5 type_number 50 dist_type single dist_hyperpara 20 gamma 1 testnum 1 save 0 algo_list ['OFF', 'RCP', 'GRD', 'SAM1', 'SAMC1', 'BAT', 'HG']\n",
      "test file nyc_20_2_511\n",
      "13\n",
      "OFF 765.0 1.0\n",
      "RCP 56.0 0.07320261437908497\n",
      "GRD 77.0 0.10065359477124183\n",
      "SAM1 579.0 0.7568627450980392\n",
      "SAMC1 581.0 0.7594771241830065\n",
      "BAT 366.0 0.47843137254901963\n",
      "HG 65.0 0.08496732026143791\n",
      "density 2.5 type_number 50 dist_type single dist_hyperpara 20 gamma 1 testnum 1 save 0 algo_list ['OFF', 'RCP', 'GRD', 'SAM1', 'SAMC1', 'BAT', 'HG']\n",
      "test file nyc_20_3_511\n",
      "12\n",
      "OFF 963.0 1.0\n",
      "RCP 61.0 0.06334371754932502\n",
      "GRD 139.0 0.14434060228452752\n",
      "SAM1 658.0 0.6832814122533749\n",
      "SAMC1 676.0 0.7019730010384216\n",
      "BAT 572.0 0.5939771547248183\n",
      "HG 135.0 0.14018691588785046\n",
      "density 2.5 type_number 50 dist_type single dist_hyperpara 20 gamma 1 testnum 1 save 0 algo_list ['OFF', 'RCP', 'GRD', 'SAM1', 'SAMC1', 'BAT', 'HG']\n",
      "test file nyc_20_4_511\n",
      "9\n",
      "OFF 1020.0 1.0\n",
      "RCP 87.0 0.08529411764705883\n",
      "GRD 213.0 0.2088235294117647\n",
      "SAM1 674.0 0.6607843137254902\n",
      "SAMC1 675.0 0.6617647058823529\n",
      "BAT 615.0 0.6029411764705882\n",
      "HG 177.0 0.17352941176470588\n",
      "density 2.5 type_number 50 dist_type single dist_hyperpara 20 gamma 1 testnum 1 save 0 algo_list ['OFF', 'RCP', 'GRD', 'SAM1', 'SAMC1', 'BAT', 'HG']\n",
      "test file nyc_20_5_511\n",
      "9\n",
      "OFF 998.0 1.0\n",
      "RCP 65.0 0.06513026052104208\n",
      "GRD 237.0 0.2374749498997996\n",
      "SAM1 668.0 0.6693386773547094\n",
      "SAMC1 691.0 0.6923847695390781\n",
      "BAT 629.0 0.6302605210420842\n",
      "HG 186.0 0.18637274549098196\n"
     ]
    }
   ],
   "source": [
    "diff_delta(dist_type='single', dist_hyperpara=20, input_file=None)"
   ]
  },
  {
   "cell_type": "code",
   "execution_count": 5,
   "metadata": {},
   "outputs": [
    {
     "name": "stdout",
     "output_type": "stream",
     "text": [
      "density 2.5 type_number 50 dist_type poisson dist_hyperpara 20 gamma 1 testnum 1 save 0 algo_list ['OFF', 'RCP', 'GRD', 'SAM1', 'SAMC1', 'BAT', 'HG']\n",
      "test file nyc_20_1_511\n",
      "11\n",
      "OFF 507.0 1.0\n",
      "RCP 67.0 0.13214990138067062\n",
      "GRD 38.0 0.07495069033530571\n",
      "SAM1 455.0 0.8974358974358975\n",
      "SAMC1 458.0 0.903353057199211\n",
      "BAT 204.0 0.40236686390532544\n",
      "HG 35.0 0.06903353057199212\n",
      "density 2.5 type_number 50 dist_type poisson dist_hyperpara 20 gamma 1 testnum 1 save 0 algo_list ['OFF', 'RCP', 'GRD', 'SAM1', 'SAMC1', 'BAT', 'HG']\n",
      "test file nyc_20_2_511\n",
      "14\n",
      "OFF 836.0 1.0\n",
      "RCP 54.0 0.0645933014354067\n",
      "GRD 104.0 0.12440191387559808\n",
      "SAM1 642.0 0.7679425837320574\n",
      "SAMC1 645.0 0.7715311004784688\n",
      "BAT 406.0 0.48564593301435405\n",
      "HG 101.0 0.12081339712918661\n",
      "density 2.5 type_number 50 dist_type poisson dist_hyperpara 20 gamma 1 testnum 1 save 0 algo_list ['OFF', 'RCP', 'GRD', 'SAM1', 'SAMC1', 'BAT', 'HG']\n",
      "test file nyc_20_3_511\n",
      "11\n",
      "OFF 940.0 1.0\n",
      "RCP 45.0 0.047872340425531915\n",
      "GRD 176.0 0.18723404255319148\n",
      "SAM1 672.0 0.7148936170212766\n",
      "SAMC1 673.0 0.7159574468085106\n",
      "BAT 488.0 0.5191489361702127\n",
      "HG 139.0 0.1478723404255319\n",
      "density 2.5 type_number 50 dist_type poisson dist_hyperpara 20 gamma 1 testnum 1 save 0 algo_list ['OFF', 'RCP', 'GRD', 'SAM1', 'SAMC1', 'BAT', 'HG']\n",
      "test file nyc_20_4_511\n",
      "14\n",
      "OFF 928.0 1.0\n",
      "RCP 54.0 0.05818965517241379\n",
      "GRD 188.0 0.2025862068965517\n",
      "SAM1 606.0 0.6530172413793104\n",
      "SAMC1 621.0 0.6691810344827587\n",
      "BAT 500.0 0.5387931034482759\n",
      "HG 167.0 0.17995689655172414\n",
      "density 2.5 type_number 50 dist_type poisson dist_hyperpara 20 gamma 1 testnum 1 save 0 algo_list ['OFF', 'RCP', 'GRD', 'SAM1', 'SAMC1', 'BAT', 'HG']\n",
      "test file nyc_20_5_511\n",
      "13\n",
      "OFF 950.0 1.0\n",
      "RCP 39.0 0.04105263157894737\n",
      "GRD 193.0 0.2031578947368421\n",
      "SAM1 629.0 0.6621052631578948\n",
      "SAMC1 613.0 0.6452631578947369\n",
      "BAT 532.0 0.56\n",
      "HG 195.0 0.20526315789473684\n"
     ]
    }
   ],
   "source": [
    "diff_delta(dist_type='poisson', dist_hyperpara=20, input_file=None)"
   ]
  },
  {
   "cell_type": "code",
   "execution_count": null,
   "metadata": {},
   "outputs": [],
   "source": []
  }
 ],
 "metadata": {
  "kernelspec": {
   "display_name": "Python 3",
   "language": "python",
   "name": "python3"
  },
  "language_info": {
   "codemirror_mode": {
    "name": "ipython",
    "version": 3
   },
   "file_extension": ".py",
   "mimetype": "text/x-python",
   "name": "python",
   "nbconvert_exporter": "python",
   "pygments_lexer": "ipython3",
   "version": "3.11.7"
  }
 },
 "nbformat": 4,
 "nbformat_minor": 2
}
