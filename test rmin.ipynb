{
 "cells": [
  {
   "cell_type": "code",
   "execution_count": 1,
   "metadata": {},
   "outputs": [],
   "source": [
    "from eval import *\n",
    "np.random.seed(1)\n"
   ]
  },
  {
   "cell_type": "code",
   "execution_count": 2,
   "metadata": {},
   "outputs": [
    {
     "name": "stdout",
     "output_type": "stream",
     "text": [
      "density 2.5 type_number 50 dist_type geometric dist_hyperpara 0.5 gamma 1 testnum 1 save 0 algo_list ['OFF', 'RCP', 'GRD', 'SAM1', 'SAMC1', 'BAT']\n",
      "Academic license - for non-commercial use only\n",
      "OFF 759.5179981162845 1.0\n",
      "RCP 199.38473541535285 0.2625148263897052\n",
      "GRD 273.9723524421125 0.36071870992077065\n",
      "SAM1 749.6418468714103 0.9869968173639485\n",
      "SAMC1 751.7042806521345 0.9897122681970286\n",
      "BAT 338.416012185441 0.4455668108257633\n",
      "run time\n",
      "OFF 11.52257490158081\n",
      "RCP 0.3607790470123291\n",
      "GRD 0.050852298736572266\n",
      "SAM1 0.21249175071716309\n",
      "SAMC1 0.21005988121032715\n",
      "BAT 9.012688875198364\n",
      "save to file result/rmin_syn\n"
     ]
    }
   ],
   "source": [
    "test_rmin(dist_type='geometric', dist_hyperpara=0.5, SYN=True)"
   ]
  },
  {
   "cell_type": "code",
   "execution_count": 3,
   "metadata": {},
   "outputs": [
    {
     "name": "stdout",
     "output_type": "stream",
     "text": [
      "density 2.5 type_number 50 dist_type single dist_hyperpara 20 gamma 1 testnum 1 save 0 algo_list ['OFF', 'RCP', 'GRD', 'SAM1', 'SAMC1', 'BAT']\n",
      "OFF 1674.2117791307464 1.0\n",
      "RCP 639.9051770356981 0.3822128030707907\n",
      "GRD 264.7144635413616 0.1581128904007603\n",
      "SAM1 1149.7257623796472 0.6867265997713783\n",
      "SAMC1 1117.9122763651478 0.6677245318065853\n",
      "BAT 951.7123875443199 0.568454002897083\n",
      "run time\n",
      "OFF 22.129040956497192\n",
      "RCP 0.49095606803894043\n",
      "GRD 0.06098008155822754\n",
      "SAM1 0.5045068264007568\n",
      "SAMC1 0.48717713356018066\n",
      "BAT 24.48430895805359\n",
      "save to file result/rmin_syn\n"
     ]
    }
   ],
   "source": [
    "test_rmin(dist_type='single', dist_hyperpara=20, SYN=True)"
   ]
  },
  {
   "cell_type": "code",
   "execution_count": 4,
   "metadata": {},
   "outputs": [
    {
     "name": "stdout",
     "output_type": "stream",
     "text": [
      "density 2.5 type_number 50 dist_type poisson dist_hyperpara 20 gamma 1 testnum 1 save 0 algo_list ['OFF', 'RCP', 'GRD', 'SAM1', 'SAMC1', 'BAT']\n",
      "OFF 1687.1952451807326 1.0\n",
      "RCP 653.2214049323036 0.3871640859575386\n",
      "GRD 247.3668168492728 0.14661422117911127\n",
      "SAM1 1143.499239056706 0.6777515775503589\n",
      "SAMC1 1129.9854335682614 0.6697419500178933\n",
      "BAT 863.9062951415357 0.512036942736283\n",
      "run time\n",
      "OFF 13.047595977783203\n",
      "RCP 0.3481910228729248\n",
      "GRD 0.037606000900268555\n",
      "SAM1 0.25054502487182617\n",
      "SAMC1 0.2592759132385254\n",
      "BAT 27.29616904258728\n",
      "save to file result/rmin_syn\n"
     ]
    }
   ],
   "source": [
    "test_rmin(dist_type='poisson', dist_hyperpara=20, SYN=True)"
   ]
  },
  {
   "cell_type": "code",
   "execution_count": null,
   "metadata": {},
   "outputs": [],
   "source": []
  }
 ],
 "metadata": {
  "kernelspec": {
   "display_name": "Python 3",
   "language": "python",
   "name": "python3"
  },
  "language_info": {
   "codemirror_mode": {
    "name": "ipython",
    "version": 3
   },
   "file_extension": ".py",
   "mimetype": "text/x-python",
   "name": "python",
   "nbconvert_exporter": "python",
   "pygments_lexer": "ipython3",
   "version": "3.6.8"
  }
 },
 "nbformat": 4,
 "nbformat_minor": 2
}
